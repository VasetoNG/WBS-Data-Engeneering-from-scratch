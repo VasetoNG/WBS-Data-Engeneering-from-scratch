{
 "cells": [
  {
   "cell_type": "markdown",
   "metadata": {},
   "source": [
    "### Get the weather data for Berlin"
   ]
  },
  {
   "cell_type": "code",
   "execution_count": 1,
   "metadata": {},
   "outputs": [],
   "source": [
    "from datetime import datetime, timedelta, timezone\n",
    "from IPython.display import display, JSON\n",
    "import pandas as pd\n",
    "import requests\n",
    "from pyowm import OWM\n",
    "from pyowm.utils import config\n",
    "from pyowm.utils import timestamps"
   ]
  },
  {
   "cell_type": "markdown",
   "metadata": {},
   "source": [
    "##### Connecting to OWM API"
   ]
  },
  {
   "cell_type": "code",
   "execution_count": 2,
   "metadata": {},
   "outputs": [
    {
     "data": {
      "application/json": {
       "city": {
        "coord": {
         "lat": 52.5244,
         "lon": 13.4105
        },
        "country": "DE",
        "id": 2950159,
        "name": "Berlin",
        "population": 1000000,
        "sunrise": 1649133098,
        "sunset": 1649180772,
        "timezone": 7200
       },
       "cnt": 40,
       "cod": "200",
       "list": [
        {
         "clouds": {
          "all": 75
         },
         "dt": 1649116800,
         "dt_txt": "2022-04-05 00:00:00",
         "main": {
          "feels_like": 1.75,
          "grnd_level": 993,
          "humidity": 90,
          "pressure": 984,
          "sea_level": 984,
          "temp": 5.66,
          "temp_kf": -0.23,
          "temp_max": 5.89,
          "temp_min": 5.66
         },
         "pop": 0.89,
         "rain": {
          "3h": 0.61
         },
         "sys": {
          "pod": "n"
         },
         "visibility": 10000,
         "weather": [
          {
           "description": "light rain",
           "icon": "10n",
           "id": 500,
           "main": "Rain"
          }
         ],
         "wind": {
          "deg": 278,
          "gust": 14.08,
          "speed": 5.95
         }
        },
        {
         "clouds": {
          "all": 83
         },
         "dt": 1649127600,
         "dt_txt": "2022-04-05 03:00:00",
         "main": {
          "feels_like": 1.44,
          "grnd_level": 993,
          "humidity": 88,
          "pressure": 989,
          "sea_level": 989,
          "temp": 5.48,
          "temp_kf": 0.35,
          "temp_max": 5.48,
          "temp_min": 5.13
         },
         "pop": 0.39,
         "rain": {
          "3h": 0.23
         },
         "sys": {
          "pod": "n"
         },
         "visibility": 10000,
         "weather": [
          {
           "description": "light rain",
           "icon": "10n",
           "id": 500,
           "main": "Rain"
          }
         ],
         "wind": {
          "deg": 280,
          "gust": 13.06,
          "speed": 6.17
         }
        },
        {
         "clouds": {
          "all": 92
         },
         "dt": 1649138400,
         "dt_txt": "2022-04-05 06:00:00",
         "main": {
          "feels_like": 1,
          "grnd_level": 995,
          "humidity": 85,
          "pressure": 995,
          "sea_level": 995,
          "temp": 5.05,
          "temp_kf": 0.31,
          "temp_max": 5.05,
          "temp_min": 4.74
         },
         "pop": 0.38,
         "sys": {
          "pod": "d"
         },
         "visibility": 10000,
         "weather": [
          {
           "description": "overcast clouds",
           "icon": "04d",
           "id": 804,
           "main": "Clouds"
          }
         ],
         "wind": {
          "deg": 275,
          "gust": 12.3,
          "speed": 5.89
         }
        },
        {
         "clouds": {
          "all": 100
         },
         "dt": 1649149200,
         "dt_txt": "2022-04-05 09:00:00",
         "main": {
          "feels_like": 2.85,
          "grnd_level": 997,
          "humidity": 67,
          "pressure": 1002,
          "sea_level": 1002,
          "temp": 6.69,
          "temp_kf": 0,
          "temp_max": 6.69,
          "temp_min": 6.69
         },
         "pop": 0.4,
         "rain": {
          "3h": 0.26
         },
         "sys": {
          "pod": "d"
         },
         "visibility": 10000,
         "weather": [
          {
           "description": "light rain",
           "icon": "10d",
           "id": 500,
           "main": "Rain"
          }
         ],
         "wind": {
          "deg": 284,
          "gust": 12.23,
          "speed": 6.52
         }
        },
        {
         "clouds": {
          "all": 100
         },
         "dt": 1649160000,
         "dt_txt": "2022-04-05 12:00:00",
         "main": {
          "feels_like": 4.56,
          "grnd_level": 997,
          "humidity": 58,
          "pressure": 1003,
          "sea_level": 1003,
          "temp": 7.99,
          "temp_kf": 0,
          "temp_max": 7.99,
          "temp_min": 7.99
         },
         "pop": 0.21,
         "rain": {
          "3h": 0.24
         },
         "sys": {
          "pod": "d"
         },
         "visibility": 10000,
         "weather": [
          {
           "description": "light rain",
           "icon": "10d",
           "id": 500,
           "main": "Rain"
          }
         ],
         "wind": {
          "deg": 282,
          "gust": 11.64,
          "speed": 6.38
         }
        },
        {
         "clouds": {
          "all": 100
         },
         "dt": 1649170800,
         "dt_txt": "2022-04-05 15:00:00",
         "main": {
          "feels_like": 3.47,
          "grnd_level": 997,
          "humidity": 82,
          "pressure": 1002,
          "sea_level": 1002,
          "temp": 6.65,
          "temp_kf": 0,
          "temp_max": 6.65,
          "temp_min": 6.65
         },
         "pop": 0.67,
         "rain": {
          "3h": 0.33
         },
         "sys": {
          "pod": "d"
         },
         "visibility": 10000,
         "weather": [
          {
           "description": "light rain",
           "icon": "10d",
           "id": 500,
           "main": "Rain"
          }
         ],
         "wind": {
          "deg": 270,
          "gust": 8.6,
          "speed": 4.84
         }
        },
        {
         "clouds": {
          "all": 100
         },
         "dt": 1649181600,
         "dt_txt": "2022-04-05 18:00:00",
         "main": {
          "feels_like": 3.19,
          "grnd_level": 997,
          "humidity": 92,
          "pressure": 1002,
          "sea_level": 1002,
          "temp": 5.67,
          "temp_kf": 0,
          "temp_max": 5.67,
          "temp_min": 5.67
         },
         "pop": 1,
         "rain": {
          "3h": 2.27
         },
         "sys": {
          "pod": "n"
         },
         "visibility": 10000,
         "weather": [
          {
           "description": "light rain",
           "icon": "10n",
           "id": 500,
           "main": "Rain"
          }
         ],
         "wind": {
          "deg": 261,
          "gust": 8,
          "speed": 3.17
         }
        },
        {
         "clouds": {
          "all": 100
         },
         "dt": 1649192400,
         "dt_txt": "2022-04-05 21:00:00",
         "main": {
          "feels_like": 4.93,
          "grnd_level": 996,
          "humidity": 95,
          "pressure": 1001,
          "sea_level": 1001,
          "temp": 5.71,
          "temp_kf": 0,
          "temp_max": 5.71,
          "temp_min": 5.71
         },
         "pop": 1,
         "rain": {
          "3h": 1.78
         },
         "sys": {
          "pod": "n"
         },
         "visibility": 10000,
         "weather": [
          {
           "description": "light rain",
           "icon": "10n",
           "id": 500,
           "main": "Rain"
          }
         ],
         "wind": {
          "deg": 218,
          "gust": 4.27,
          "speed": 1.37
         }
        },
        {
         "clouds": {
          "all": 100
         },
         "dt": 1649203200,
         "dt_txt": "2022-04-06 00:00:00",
         "main": {
          "feels_like": 4.95,
          "grnd_level": 995,
          "humidity": 94,
          "pressure": 1000,
          "sea_level": 1000,
          "temp": 8,
          "temp_kf": 0,
          "temp_max": 8,
          "temp_min": 8
         },
         "pop": 1,
         "rain": {
          "3h": 1.06
         },
         "sys": {
          "pod": "n"
         },
         "visibility": 10000,
         "weather": [
          {
           "description": "light rain",
           "icon": "10n",
           "id": 500,
           "main": "Rain"
          }
         ],
         "wind": {
          "deg": 246,
          "gust": 12.14,
          "speed": 5.35
         }
        },
        {
         "clouds": {
          "all": 100
         },
         "dt": 1649214000,
         "dt_txt": "2022-04-06 03:00:00",
         "main": {
          "feels_like": 5.52,
          "grnd_level": 995,
          "humidity": 88,
          "pressure": 1000,
          "sea_level": 1000,
          "temp": 8.74,
          "temp_kf": 0,
          "temp_max": 8.74,
          "temp_min": 8.74
         },
         "pop": 1,
         "rain": {
          "3h": 0.95
         },
         "sys": {
          "pod": "n"
         },
         "visibility": 10000,
         "weather": [
          {
           "description": "light rain",
           "icon": "10n",
           "id": 500,
           "main": "Rain"
          }
         ],
         "wind": {
          "deg": 249,
          "gust": 13.72,
          "speed": 6.36
         }
        },
        {
         "clouds": {
          "all": 100
         },
         "dt": 1649224800,
         "dt_txt": "2022-04-06 06:00:00",
         "main": {
          "feels_like": 5.34,
          "grnd_level": 995,
          "humidity": 78,
          "pressure": 1000,
          "sea_level": 1000,
          "temp": 8.52,
          "temp_kf": 0,
          "temp_max": 8.52,
          "temp_min": 8.52
         },
         "pop": 0.67,
         "sys": {
          "pod": "d"
         },
         "visibility": 10000,
         "weather": [
          {
           "description": "overcast clouds",
           "icon": "04d",
           "id": 804,
           "main": "Clouds"
          }
         ],
         "wind": {
          "deg": 243,
          "gust": 13.39,
          "speed": 6.08
         }
        },
        {
         "clouds": {
          "all": 100
         },
         "dt": 1649235600,
         "dt_txt": "2022-04-06 09:00:00",
         "main": {
          "feels_like": 10.27,
          "grnd_level": 994,
          "humidity": 72,
          "pressure": 1000,
          "sea_level": 1000,
          "temp": 11.21,
          "temp_kf": 0,
          "temp_max": 11.21,
          "temp_min": 11.21
         },
         "pop": 0.2,
         "rain": {
          "3h": 0.11
         },
         "sys": {
          "pod": "d"
         },
         "visibility": 10000,
         "weather": [
          {
           "description": "light rain",
           "icon": "10d",
           "id": 500,
           "main": "Rain"
          }
         ],
         "wind": {
          "deg": 243,
          "gust": 12.48,
          "speed": 6.97
         }
        },
        {
         "clouds": {
          "all": 100
         },
         "dt": 1649246400,
         "dt_txt": "2022-04-06 12:00:00",
         "main": {
          "feels_like": 10.63,
          "grnd_level": 994,
          "humidity": 63,
          "pressure": 999,
          "sea_level": 999,
          "temp": 11.75,
          "temp_kf": 0,
          "temp_max": 11.75,
          "temp_min": 11.75
         },
         "pop": 0.2,
         "rain": {
          "3h": 0.16
         },
         "sys": {
          "pod": "d"
         },
         "visibility": 10000,
         "weather": [
          {
           "description": "light rain",
           "icon": "10d",
           "id": 500,
           "main": "Rain"
          }
         ],
         "wind": {
          "deg": 242,
          "gust": 10.22,
          "speed": 6.24
         }
        },
        {
         "clouds": {
          "all": 100
         },
         "dt": 1649257200,
         "dt_txt": "2022-04-06 15:00:00",
         "main": {
          "feels_like": 10.85,
          "grnd_level": 992,
          "humidity": 59,
          "pressure": 998,
          "sea_level": 998,
          "temp": 12.05,
          "temp_kf": 0,
          "temp_max": 12.05,
          "temp_min": 12.05
         },
         "pop": 0,
         "sys": {
          "pod": "d"
         },
         "visibility": 10000,
         "weather": [
          {
           "description": "overcast clouds",
           "icon": "04d",
           "id": 804,
           "main": "Clouds"
          }
         ],
         "wind": {
          "deg": 238,
          "gust": 9.93,
          "speed": 5.66
         }
        },
        {
         "clouds": {
          "all": 100
         },
         "dt": 1649268000,
         "dt_txt": "2022-04-06 18:00:00",
         "main": {
          "feels_like": 9.65,
          "grnd_level": 991,
          "humidity": 64,
          "pressure": 996,
          "sea_level": 996,
          "temp": 10.84,
          "temp_kf": 0,
          "temp_max": 10.84,
          "temp_min": 10.84
         },
         "pop": 0,
         "sys": {
          "pod": "n"
         },
         "visibility": 10000,
         "weather": [
          {
           "description": "overcast clouds",
           "icon": "04n",
           "id": 804,
           "main": "Clouds"
          }
         ],
         "wind": {
          "deg": 225,
          "gust": 11.28,
          "speed": 5.32
         }
        },
        {
         "clouds": {
          "all": 100
         },
         "dt": 1649278800,
         "dt_txt": "2022-04-06 21:00:00",
         "main": {
          "feels_like": 6.75,
          "grnd_level": 990,
          "humidity": 70,
          "pressure": 996,
          "sea_level": 996,
          "temp": 9.68,
          "temp_kf": 0,
          "temp_max": 9.68,
          "temp_min": 9.68
         },
         "pop": 0,
         "sys": {
          "pod": "n"
         },
         "visibility": 10000,
         "weather": [
          {
           "description": "overcast clouds",
           "icon": "04n",
           "id": 804,
           "main": "Clouds"
          }
         ],
         "wind": {
          "deg": 223,
          "gust": 12.35,
          "speed": 6.25
         }
        },
        {
         "clouds": {
          "all": 100
         },
         "dt": 1649289600,
         "dt_txt": "2022-04-07 00:00:00",
         "main": {
          "feels_like": 5.97,
          "grnd_level": 989,
          "humidity": 71,
          "pressure": 994,
          "sea_level": 994,
          "temp": 9.23,
          "temp_kf": 0,
          "temp_max": 9.23,
          "temp_min": 9.23
         },
         "pop": 0.03,
         "sys": {
          "pod": "n"
         },
         "visibility": 10000,
         "weather": [
          {
           "description": "overcast clouds",
           "icon": "04n",
           "id": 804,
           "main": "Clouds"
          }
         ],
         "wind": {
          "deg": 226,
          "gust": 13.95,
          "speed": 6.92
         }
        },
        {
         "clouds": {
          "all": 87
         },
         "dt": 1649300400,
         "dt_txt": "2022-04-07 03:00:00",
         "main": {
          "feels_like": 5.31,
          "grnd_level": 987,
          "humidity": 74,
          "pressure": 992,
          "sea_level": 992,
          "temp": 8.68,
          "temp_kf": 0,
          "temp_max": 8.68,
          "temp_min": 8.68
         },
         "pop": 0,
         "sys": {
          "pod": "n"
         },
         "visibility": 10000,
         "weather": [
          {
           "description": "overcast clouds",
           "icon": "04n",
           "id": 804,
           "main": "Clouds"
          }
         ],
         "wind": {
          "deg": 222,
          "gust": 13.82,
          "speed": 6.79
         }
        },
        {
         "clouds": {
          "all": 93
         },
         "dt": 1649311200,
         "dt_txt": "2022-04-07 06:00:00",
         "main": {
          "feels_like": 5.76,
          "grnd_level": 985,
          "humidity": 70,
          "pressure": 990,
          "sea_level": 990,
          "temp": 9.34,
          "temp_kf": 0,
          "temp_max": 9.34,
          "temp_min": 9.34
         },
         "pop": 0,
         "sys": {
          "pod": "d"
         },
         "visibility": 10000,
         "weather": [
          {
           "description": "overcast clouds",
           "icon": "04d",
           "id": 804,
           "main": "Clouds"
          }
         ],
         "wind": {
          "deg": 221,
          "gust": 14.58,
          "speed": 8.22
         }
        },
        {
         "clouds": {
          "all": 98
         },
         "dt": 1649322000,
         "dt_txt": "2022-04-07 09:00:00",
         "main": {
          "feels_like": 10.15,
          "grnd_level": 982,
          "humidity": 62,
          "pressure": 987,
          "sea_level": 987,
          "temp": 11.34,
          "temp_kf": 0,
          "temp_max": 11.34,
          "temp_min": 11.34
         },
         "pop": 0.01,
         "sys": {
          "pod": "d"
         },
         "visibility": 10000,
         "weather": [
          {
           "description": "overcast clouds",
           "icon": "04d",
           "id": 804,
           "main": "Clouds"
          }
         ],
         "wind": {
          "deg": 212,
          "gust": 19.82,
          "speed": 9.88
         }
        },
        {
         "clouds": {
          "all": 99
         },
         "dt": 1649332800,
         "dt_txt": "2022-04-07 12:00:00",
         "main": {
          "feels_like": 2.16,
          "grnd_level": 981,
          "humidity": 87,
          "pressure": 986,
          "sea_level": 986,
          "temp": 6.29,
          "temp_kf": 0,
          "temp_max": 6.29,
          "temp_min": 6.29
         },
         "pop": 0.8,
         "rain": {
          "3h": 2.6
         },
         "sys": {
          "pod": "d"
         },
         "visibility": 10000,
         "weather": [
          {
           "description": "light rain",
           "icon": "10d",
           "id": 500,
           "main": "Rain"
          }
         ],
         "wind": {
          "deg": 273,
          "gust": 15.66,
          "speed": 7.02
         }
        },
        {
         "clouds": {
          "all": 70
         },
         "dt": 1649343600,
         "dt_txt": "2022-04-07 15:00:00",
         "main": {
          "feels_like": 6.02,
          "grnd_level": 980,
          "humidity": 60,
          "pressure": 985,
          "sea_level": 985,
          "temp": 9.93,
          "temp_kf": 0,
          "temp_max": 9.93,
          "temp_min": 9.93
         },
         "pop": 0.93,
         "rain": {
          "3h": 0.63
         },
         "sys": {
          "pod": "d"
         },
         "visibility": 10000,
         "weather": [
          {
           "description": "light rain",
           "icon": "10d",
           "id": 500,
           "main": "Rain"
          }
         ],
         "wind": {
          "deg": 251,
          "gust": 20.57,
          "speed": 10.48
         }
        },
        {
         "clouds": {
          "all": 43
         },
         "dt": 1649354400,
         "dt_txt": "2022-04-07 18:00:00",
         "main": {
          "feels_like": 1.75,
          "grnd_level": 984,
          "humidity": 62,
          "pressure": 989,
          "sea_level": 989,
          "temp": 6.42,
          "temp_kf": 0,
          "temp_max": 6.42,
          "temp_min": 6.42
         },
         "pop": 0.78,
         "rain": {
          "3h": 0.11
         },
         "sys": {
          "pod": "n"
         },
         "visibility": 10000,
         "weather": [
          {
           "description": "light rain",
           "icon": "10n",
           "id": 500,
           "main": "Rain"
          }
         ],
         "wind": {
          "deg": 260,
          "gust": 18.22,
          "speed": 8.93
         }
        },
        {
         "clouds": {
          "all": 14
         },
         "dt": 1649365200,
         "dt_txt": "2022-04-07 21:00:00",
         "main": {
          "feels_like": -0.38,
          "grnd_level": 986,
          "humidity": 58,
          "pressure": 991,
          "sea_level": 991,
          "temp": 4.74,
          "temp_kf": 0,
          "temp_max": 4.74,
          "temp_min": 4.74
         },
         "pop": 0,
         "sys": {
          "pod": "n"
         },
         "visibility": 10000,
         "weather": [
          {
           "description": "few clouds",
           "icon": "02n",
           "id": 801,
           "main": "Clouds"
          }
         ],
         "wind": {
          "deg": 253,
          "gust": 18.82,
          "speed": 8.7
         }
        },
        {
         "clouds": {
          "all": 11
         },
         "dt": 1649376000,
         "dt_txt": "2022-04-08 00:00:00",
         "main": {
          "feels_like": -1.37,
          "grnd_level": 987,
          "humidity": 57,
          "pressure": 992,
          "sea_level": 992,
          "temp": 4.17,
          "temp_kf": 0,
          "temp_max": 4.17,
          "temp_min": 4.17
         },
         "pop": 0,
         "sys": {
          "pod": "n"
         },
         "visibility": 10000,
         "weather": [
          {
           "description": "few clouds",
           "icon": "02n",
           "id": 801,
           "main": "Clouds"
          }
         ],
         "wind": {
          "deg": 248,
          "gust": 20.8,
          "speed": 9.49
         }
        },
        {
         "clouds": {
          "all": 90
         },
         "dt": 1649386800,
         "dt_txt": "2022-04-08 03:00:00",
         "main": {
          "feels_like": -0.68,
          "grnd_level": 988,
          "humidity": 57,
          "pressure": 993,
          "sea_level": 993,
          "temp": 4.78,
          "temp_kf": 0,
          "temp_max": 4.78,
          "temp_min": 4.78
         },
         "pop": 0,
         "sys": {
          "pod": "n"
         },
         "visibility": 10000,
         "weather": [
          {
           "description": "overcast clouds",
           "icon": "04n",
           "id": 804,
           "main": "Clouds"
          }
         ],
         "wind": {
          "deg": 259,
          "gust": 20.65,
          "speed": 9.91
         }
        },
        {
         "clouds": {
          "all": 62
         },
         "dt": 1649397600,
         "dt_txt": "2022-04-08 06:00:00",
         "main": {
          "feels_like": -0.56,
          "grnd_level": 990,
          "humidity": 63,
          "pressure": 995,
          "sea_level": 995,
          "temp": 4.57,
          "temp_kf": 0,
          "temp_max": 4.57,
          "temp_min": 4.57
         },
         "pop": 0,
         "sys": {
          "pod": "d"
         },
         "visibility": 10000,
         "weather": [
          {
           "description": "broken clouds",
           "icon": "04d",
           "id": 803,
           "main": "Clouds"
          }
         ],
         "wind": {
          "deg": 259,
          "gust": 16.74,
          "speed": 8.56
         }
        },
        {
         "clouds": {
          "all": 94
         },
         "dt": 1649408400,
         "dt_txt": "2022-04-08 09:00:00",
         "main": {
          "feels_like": 3.71,
          "grnd_level": 991,
          "humidity": 51,
          "pressure": 996,
          "sea_level": 996,
          "temp": 7.72,
          "temp_kf": 0,
          "temp_max": 7.72,
          "temp_min": 7.72
         },
         "pop": 0,
         "sys": {
          "pod": "d"
         },
         "visibility": 10000,
         "weather": [
          {
           "description": "overcast clouds",
           "icon": "04d",
           "id": 804,
           "main": "Clouds"
          }
         ],
         "wind": {
          "deg": 265,
          "gust": 15.36,
          "speed": 7.99
         }
        },
        {
         "clouds": {
          "all": 97
         },
         "dt": 1649419200,
         "dt_txt": "2022-04-08 12:00:00",
         "main": {
          "feels_like": 6.76,
          "grnd_level": 990,
          "humidity": 35,
          "pressure": 996,
          "sea_level": 996,
          "temp": 9.97,
          "temp_kf": 0,
          "temp_max": 9.97,
          "temp_min": 9.97
         },
         "pop": 0,
         "sys": {
          "pod": "d"
         },
         "visibility": 10000,
         "weather": [
          {
           "description": "overcast clouds",
           "icon": "04d",
           "id": 804,
           "main": "Clouds"
          }
         ],
         "wind": {
          "deg": 261,
          "gust": 12.07,
          "speed": 7.51
         }
        },
        {
         "clouds": {
          "all": 100
         },
         "dt": 1649430000,
         "dt_txt": "2022-04-08 15:00:00",
         "main": {
          "feels_like": 8.05,
          "grnd_level": 990,
          "humidity": 34,
          "pressure": 995,
          "sea_level": 995,
          "temp": 10.1,
          "temp_kf": 0,
          "temp_max": 10.1,
          "temp_min": 10.1
         },
         "pop": 0.21,
         "sys": {
          "pod": "d"
         },
         "visibility": 10000,
         "weather": [
          {
           "description": "overcast clouds",
           "icon": "04d",
           "id": 804,
           "main": "Clouds"
          }
         ],
         "wind": {
          "deg": 256,
          "gust": 10.09,
          "speed": 6.31
         }
        },
        {
         "clouds": {
          "all": 100
         },
         "dt": 1649440800,
         "dt_txt": "2022-04-08 18:00:00",
         "main": {
          "feels_like": 4.93,
          "grnd_level": 990,
          "humidity": 45,
          "pressure": 995,
          "sea_level": 995,
          "temp": 7.73,
          "temp_kf": 0,
          "temp_max": 7.73,
          "temp_min": 7.73
         },
         "pop": 0.15,
         "sys": {
          "pod": "n"
         },
         "visibility": 10000,
         "weather": [
          {
           "description": "overcast clouds",
           "icon": "04n",
           "id": 804,
           "main": "Clouds"
          }
         ],
         "wind": {
          "deg": 243,
          "gust": 9.55,
          "speed": 4.6
         }
        },
        {
         "clouds": {
          "all": 91
         },
         "dt": 1649451600,
         "dt_txt": "2022-04-08 21:00:00",
         "main": {
          "feels_like": 1.96,
          "grnd_level": 991,
          "humidity": 61,
          "pressure": 997,
          "sea_level": 997,
          "temp": 5.7,
          "temp_kf": 0,
          "temp_max": 5.7,
          "temp_min": 5.7
         },
         "pop": 0.21,
         "rain": {
          "3h": 0.13
         },
         "sys": {
          "pod": "n"
         },
         "visibility": 10000,
         "weather": [
          {
           "description": "light rain",
           "icon": "10n",
           "id": 500,
           "main": "Rain"
          }
         ],
         "wind": {
          "deg": 252,
          "gust": 12.36,
          "speed": 5.57
         }
        },
        {
         "clouds": {
          "all": 64
         },
         "dt": 1649462400,
         "dt_txt": "2022-04-09 00:00:00",
         "main": {
          "feels_like": -0.81,
          "grnd_level": 992,
          "humidity": 65,
          "pressure": 998,
          "sea_level": 998,
          "temp": 4.25,
          "temp_kf": 0,
          "temp_max": 4.25,
          "temp_min": 4.25
         },
         "pop": 0,
         "sys": {
          "pod": "n"
         },
         "visibility": 10000,
         "weather": [
          {
           "description": "broken clouds",
           "icon": "04n",
           "id": 803,
           "main": "Clouds"
          }
         ],
         "wind": {
          "deg": 254,
          "gust": 15.99,
          "speed": 8.02
         }
        },
        {
         "clouds": {
          "all": 67
         },
         "dt": 1649473200,
         "dt_txt": "2022-04-09 03:00:00",
         "main": {
          "feels_like": -0.82,
          "grnd_level": 994,
          "humidity": 63,
          "pressure": 999,
          "sea_level": 999,
          "temp": 4.42,
          "temp_kf": 0,
          "temp_max": 4.42,
          "temp_min": 4.42
         },
         "pop": 0,
         "sys": {
          "pod": "n"
         },
         "visibility": 10000,
         "weather": [
          {
           "description": "broken clouds",
           "icon": "04n",
           "id": 803,
           "main": "Clouds"
          }
         ],
         "wind": {
          "deg": 271,
          "gust": 14.96,
          "speed": 8.77
         }
        },
        {
         "clouds": {
          "all": 84
         },
         "dt": 1649484000,
         "dt_txt": "2022-04-09 06:00:00",
         "main": {
          "feels_like": 0.25,
          "grnd_level": 996,
          "humidity": 65,
          "pressure": 1001,
          "sea_level": 1001,
          "temp": 4.68,
          "temp_kf": 0,
          "temp_max": 4.68,
          "temp_min": 4.68
         },
         "pop": 0,
         "sys": {
          "pod": "d"
         },
         "visibility": 10000,
         "weather": [
          {
           "description": "broken clouds",
           "icon": "04d",
           "id": 803,
           "main": "Clouds"
          }
         ],
         "wind": {
          "deg": 254,
          "gust": 12.36,
          "speed": 6.61
         }
        },
        {
         "clouds": {
          "all": 100
         },
         "dt": 1649494800,
         "dt_txt": "2022-04-09 09:00:00",
         "main": {
          "feels_like": 3.31,
          "grnd_level": 996,
          "humidity": 56,
          "pressure": 1002,
          "sea_level": 1002,
          "temp": 7.34,
          "temp_kf": 0,
          "temp_max": 7.34,
          "temp_min": 7.34
         },
         "pop": 0,
         "sys": {
          "pod": "d"
         },
         "visibility": 10000,
         "weather": [
          {
           "description": "overcast clouds",
           "icon": "04d",
           "id": 804,
           "main": "Clouds"
          }
         ],
         "wind": {
          "deg": 259,
          "gust": 11.73,
          "speed": 7.66
         }
        },
        {
         "clouds": {
          "all": 100
         },
         "dt": 1649505600,
         "dt_txt": "2022-04-09 12:00:00",
         "main": {
          "feels_like": 4.27,
          "grnd_level": 997,
          "humidity": 60,
          "pressure": 1002,
          "sea_level": 1002,
          "temp": 8.05,
          "temp_kf": 0,
          "temp_max": 8.05,
          "temp_min": 8.05
         },
         "pop": 0.77,
         "rain": {
          "3h": 0.66
         },
         "sys": {
          "pod": "d"
         },
         "visibility": 10000,
         "weather": [
          {
           "description": "light rain",
           "icon": "10d",
           "id": 500,
           "main": "Rain"
          }
         ],
         "wind": {
          "deg": 264,
          "gust": 12.38,
          "speed": 7.55
         }
        },
        {
         "clouds": {
          "all": 87
         },
         "dt": 1649516400,
         "dt_txt": "2022-04-09 15:00:00",
         "main": {
          "feels_like": 5.65,
          "grnd_level": 997,
          "humidity": 50,
          "pressure": 1002,
          "sea_level": 1002,
          "temp": 9.16,
          "temp_kf": 0,
          "temp_max": 9.16,
          "temp_min": 9.16
         },
         "pop": 1,
         "rain": {
          "3h": 0.7
         },
         "sys": {
          "pod": "d"
         },
         "visibility": 10000,
         "weather": [
          {
           "description": "light rain",
           "icon": "10d",
           "id": 500,
           "main": "Rain"
          }
         ],
         "wind": {
          "deg": 273,
          "gust": 13.72,
          "speed": 7.73
         }
        },
        {
         "clouds": {
          "all": 52
         },
         "dt": 1649527200,
         "dt_txt": "2022-04-09 18:00:00",
         "main": {
          "feels_like": 2.63,
          "grnd_level": 998,
          "humidity": 51,
          "pressure": 1003,
          "sea_level": 1003,
          "temp": 6.46,
          "temp_kf": 0,
          "temp_max": 6.46,
          "temp_min": 6.46
         },
         "pop": 0.92,
         "rain": {
          "3h": 0.16
         },
         "sys": {
          "pod": "n"
         },
         "visibility": 10000,
         "weather": [
          {
           "description": "light rain",
           "icon": "10n",
           "id": 500,
           "main": "Rain"
          }
         ],
         "wind": {
          "deg": 271,
          "gust": 13.73,
          "speed": 6.31
         }
        },
        {
         "clouds": {
          "all": 8
         },
         "dt": 1649538000,
         "dt_txt": "2022-04-09 21:00:00",
         "main": {
          "feels_like": 0.13,
          "grnd_level": 1000,
          "humidity": 61,
          "pressure": 1005,
          "sea_level": 1005,
          "temp": 4.58,
          "temp_kf": 0,
          "temp_max": 4.58,
          "temp_min": 4.58
         },
         "pop": 0,
         "sys": {
          "pod": "n"
         },
         "visibility": 10000,
         "weather": [
          {
           "description": "clear sky",
           "icon": "01n",
           "id": 800,
           "main": "Clear"
          }
         ],
         "wind": {
          "deg": 258,
          "gust": 12.38,
          "speed": 6.58
         }
        }
       ],
       "message": 0
      },
      "text/plain": [
       "<IPython.core.display.JSON object>"
      ]
     },
     "execution_count": 2,
     "metadata": {
      "application/json": {
       "expanded": false,
       "root": "root"
      }
     },
     "output_type": "execute_result"
    }
   ],
   "source": [
    "OWM_key = '********************************'\n",
    "\n",
    "city = \"Berlin\"\n",
    "country = \"DE\"\n",
    "\n",
    "# achieve the same result with the wather api\n",
    "response = requests.get(f'http://api.openweathermap.org/data/2.5/forecast/?q={city},{country}&appid={OWM_key}&units=metric&lang=en')\n",
    "response\n",
    "JSON(response.json())"
   ]
  },
  {
   "cell_type": "code",
   "execution_count": 3,
   "metadata": {},
   "outputs": [],
   "source": [
    "forecast_api = response.json()['list']\n",
    "# look for the fields that could ve relevant: \n",
    "# better field descriptions https://www.weatherbit.io/api/weather-forecast-5-day\n",
    "\n",
    "weather_info = []\n",
    "\n",
    "# datetime, temperature, wind, prob_perc, rain_qty, snow = [], [], [], [], [], []\n",
    "for forecast_3h in forecast_api: \n",
    "    weather_hour = {}\n",
    "    # datetime utc\n",
    "    weather_hour['datetime'] = forecast_3h['dt_txt']\n",
    "    # temperature \n",
    "    weather_hour['temperature'] = forecast_3h['main']['temp']\n",
    "    # wind\n",
    "    weather_hour['wind'] = forecast_3h['wind']['speed']\n",
    "    # probability precipitation \n",
    "    try: weather_hour['prob_perc'] = float(forecast_3h['pop'])\n",
    "    except: weather_hour['prob_perc'] = 0\n",
    "    # rain\n",
    "    try: weather_hour['rain_qty'] = float(forecast_3h['rain']['3h'])\n",
    "    except: weather_hour['rain_qty'] = 0\n",
    "    # wind \n",
    "    try: weather_hour['snow'] = float(forecast_3h['snow']['3h'])\n",
    "    except: weather_hour['snow'] = 0\n",
    "    weather_hour['municipality_iso_country'] = city + ',' + country\n",
    "    weather_info.append(weather_hour)\n",
    "    \n",
    "weather_data = pd.DataFrame(weather_info)"
   ]
  },
  {
   "cell_type": "code",
   "execution_count": 6,
   "metadata": {},
   "outputs": [],
   "source": [
    "# weather_data.head()"
   ]
  },
  {
   "cell_type": "code",
   "execution_count": 7,
   "metadata": {},
   "outputs": [],
   "source": [
    "# weather_data.info()"
   ]
  },
  {
   "cell_type": "markdown",
   "metadata": {},
   "source": [
    "### Update data into database using sqlalchemy"
   ]
  },
  {
   "cell_type": "markdown",
   "metadata": {},
   "source": [
    "#### Establish the connection"
   ]
  },
  {
   "cell_type": "code",
   "execution_count": 8,
   "metadata": {},
   "outputs": [],
   "source": [
    "import sqlalchemy"
   ]
  },
  {
   "cell_type": "code",
   "execution_count": 9,
   "metadata": {},
   "outputs": [],
   "source": [
    "schema=\"name of the schema\"\n",
    "host=\"provide the aws host\"\n",
    "user=\"admin\"\n",
    "password=\"your password for MySQL\"\n",
    "port=3306\n",
    "con = f'mysql+pymysql://{user}:{password}@{host}:{port}/{schema}'"
   ]
  },
  {
   "cell_type": "markdown",
   "metadata": {},
   "source": [
    "#### Import and update the tables to the SQL"
   ]
  },
  {
   "cell_type": "code",
   "execution_count": 10,
   "metadata": {},
   "outputs": [],
   "source": [
    "weather_data.assign(datetime = lambda x: pd.to_datetime(x['datetime'])).to_sql('weather', if_exists='append', con=con, index=False)"
   ]
  },
  {
   "cell_type": "code",
   "execution_count": null,
   "metadata": {},
   "outputs": [],
   "source": []
  }
 ],
 "metadata": {
  "kernelspec": {
   "display_name": "Python 3",
   "language": "python",
   "name": "python3"
  },
  "language_info": {
   "codemirror_mode": {
    "name": "ipython",
    "version": 3
   },
   "file_extension": ".py",
   "mimetype": "text/x-python",
   "name": "python",
   "nbconvert_exporter": "python",
   "pygments_lexer": "ipython3",
   "version": "3.8.3"
  }
 },
 "nbformat": 4,
 "nbformat_minor": 4
}
