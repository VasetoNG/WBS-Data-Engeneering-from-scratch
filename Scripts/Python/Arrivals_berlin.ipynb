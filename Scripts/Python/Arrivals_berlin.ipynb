{
 "cells": [
  {
   "cell_type": "markdown",
   "metadata": {},
   "source": [
    "### Get info for arrivals to BER Airport"
   ]
  },
  {
   "cell_type": "markdown",
   "metadata": {},
   "source": [
    "##### Using AeroDataBox API from RapidAPI"
   ]
  },
  {
   "cell_type": "code",
   "execution_count": 61,
   "metadata": {},
   "outputs": [],
   "source": [
    "from datetime import datetime, timedelta, timezone\n",
    "from IPython.display import display, JSON\n",
    "import pandas as pd\n",
    "import requests"
   ]
  },
  {
   "cell_type": "code",
   "execution_count": 99,
   "metadata": {},
   "outputs": [],
   "source": [
    "# Get tomorrow's date\n",
    "\n",
    "tomorrow_time_date = datetime.now() + timedelta(days=1)\n",
    "tomorrow = tomorrow_time_date.strftime('%Y-%m-%d')"
   ]
  },
  {
   "cell_type": "code",
   "execution_count": 102,
   "metadata": {},
   "outputs": [
    {
     "data": {
      "application/json": {
       "arrivals": [
        {
         "aircraft": {
          "model": "Boeing 737-800"
         },
         "airline": {
          "name": "Eurowings"
         },
         "arrival": {
          "quality": [
           "Basic"
          ],
          "scheduledTimeLocal": "2022-04-07 07:25+02:00",
          "scheduledTimeUtc": "2022-04-07 05:25Z",
          "terminal": "1"
         },
         "codeshareStatus": "IsOperator",
         "departure": {
          "airport": {
           "iata": "CGN",
           "icao": "EDDK",
           "name": "Cologne"
          },
          "quality": [
           "Basic"
          ],
          "scheduledTimeLocal": "2022-04-07 06:15+02:00",
          "scheduledTimeUtc": "2022-04-07 04:15Z",
          "terminal": "1"
         },
         "isCargo": false,
         "number": "EW 12",
         "status": "Unknown"
        },
        {
         "aircraft": {
          "model": "Airbus A319"
         },
         "airline": {
          "name": "Eurowings"
         },
         "arrival": {
          "quality": [
           "Basic"
          ],
          "scheduledTimeLocal": "2022-04-07 07:35+02:00",
          "scheduledTimeUtc": "2022-04-07 05:35Z",
          "terminal": "1"
         },
         "callSign": "GWI52FP",
         "codeshareStatus": "IsOperator",
         "departure": {
          "actualTimeLocal": "2022-04-07 06:20+02:00",
          "actualTimeUtc": "2022-04-07 04:20Z",
          "airport": {
           "iata": "DUS",
           "icao": "EDDL",
           "name": "Duesseldorf"
          },
          "checkInDesk": "153,170",
          "gate": "A42",
          "quality": [
           "Basic",
           "Live"
          ],
          "scheduledTimeLocal": "2022-04-07 06:20+02:00",
          "scheduledTimeUtc": "2022-04-07 04:20Z",
          "terminal": "B"
         },
         "isCargo": false,
         "number": "EW 9048",
         "status": "Unknown"
        },
        {
         "aircraft": {
          "model": "Airbus A319"
         },
         "airline": {
          "name": "Lufthansa"
         },
         "arrival": {
          "quality": [
           "Basic"
          ],
          "scheduledTimeLocal": "2022-04-07 07:35+02:00",
          "scheduledTimeUtc": "2022-04-07 05:35Z",
          "terminal": "1"
         },
         "codeshareStatus": "IsOperator",
         "departure": {
          "airport": {
           "iata": "MUC",
           "icao": "EDDM",
           "name": "Munich"
          },
          "quality": [
           "Basic"
          ],
          "scheduledTimeLocal": "2022-04-07 06:30+02:00",
          "scheduledTimeUtc": "2022-04-07 04:30Z",
          "terminal": "2"
         },
         "isCargo": false,
         "number": "LH 1926",
         "status": "Unknown"
        },
        {
         "aircraft": {
          "model": "Airbus A320"
         },
         "airline": {
          "name": "Eurowings"
         },
         "arrival": {
          "quality": [
           "Basic"
          ],
          "scheduledTimeLocal": "2022-04-07 07:40+02:00",
          "scheduledTimeUtc": "2022-04-07 05:40Z",
          "terminal": "1"
         },
         "codeshareStatus": "IsOperator",
         "departure": {
          "actualTimeLocal": "2022-04-07 06:25+02:00",
          "actualTimeUtc": "2022-04-07 04:25Z",
          "airport": {
           "iata": "STR",
           "icao": "EDDS",
           "name": "Stuttgart"
          },
          "quality": [
           "Basic",
           "Live"
          ],
          "scheduledTimeLocal": "2022-04-07 06:25+02:00",
          "scheduledTimeUtc": "2022-04-07 04:25Z",
          "terminal": "1"
         },
         "isCargo": false,
         "number": "EW 2002",
         "status": "Unknown"
        },
        {
         "aircraft": {
          "model": "Airbus A320"
         },
         "airline": {
          "name": "Wizz Air"
         },
         "arrival": {
          "quality": [
           "Basic"
          ],
          "scheduledTimeLocal": "2022-04-07 07:40+02:00",
          "scheduledTimeUtc": "2022-04-07 05:40Z",
          "terminal": "0"
         },
         "codeshareStatus": "IsOperator",
         "departure": {
          "airport": {
           "iata": "VAR",
           "icao": "LBWN",
           "name": "Varna"
          },
          "quality": [
           "Basic"
          ],
          "scheduledTimeLocal": "2022-04-07 06:10+03:00",
          "scheduledTimeUtc": "2022-04-07 03:10Z"
         },
         "isCargo": false,
         "number": "W6 4515",
         "status": "Unknown"
        },
        {
         "aircraft": {
          "model": "Boeing 767-300"
         },
         "airline": {
          "name": "United"
         },
         "arrival": {
          "quality": [
           "Basic"
          ],
          "scheduledTimeLocal": "2022-04-07 07:50+02:00",
          "scheduledTimeUtc": "2022-04-07 05:50Z",
          "terminal": "1"
         },
         "codeshareStatus": "IsOperator",
         "departure": {
          "airport": {
           "iata": "EWR",
           "icao": "KEWR",
           "name": "Newark"
          },
          "quality": [
           "Basic"
          ],
          "scheduledTimeLocal": "2022-04-06 17:40-04:00",
          "scheduledTimeUtc": "2022-04-06 21:40Z",
          "terminal": "C"
         },
         "isCargo": false,
         "number": "UA 962",
         "status": "Unknown"
        },
        {
         "aircraft": {
          "model": "Airbus A320 NEO"
         },
         "airline": {
          "name": "Lufthansa"
         },
         "arrival": {
          "quality": [
           "Basic"
          ],
          "scheduledTimeLocal": "2022-04-07 07:55+02:00",
          "scheduledTimeUtc": "2022-04-07 05:55Z",
          "terminal": "1"
         },
         "codeshareStatus": "Unknown",
         "departure": {
          "actualTimeLocal": "2022-04-07 06:45+02:00",
          "actualTimeUtc": "2022-04-07 04:45Z",
          "airport": {
           "iata": "FRA",
           "icao": "EDDF",
           "name": "Frankfurt-am-Main"
          },
          "quality": [
           "Basic",
           "Live"
          ],
          "scheduledTimeLocal": "2022-04-07 06:45+02:00",
          "scheduledTimeUtc": "2022-04-07 04:45Z",
          "terminal": "1"
         },
         "isCargo": false,
         "number": "LH 170",
         "status": "Unknown"
        },
        {
         "aircraft": {
          "model": "Airbus A320"
         },
         "airline": {
          "name": "easyJet"
         },
         "arrival": {
          "quality": [
           "Basic"
          ],
          "scheduledTimeLocal": "2022-04-07 07:55+02:00",
          "scheduledTimeUtc": "2022-04-07 05:55Z",
          "terminal": "1"
         },
         "codeshareStatus": "Unknown",
         "departure": {
          "airport": {
           "iata": "CDG",
           "icao": "LFPG",
           "name": "Paris"
          },
          "quality": [
           "Basic"
          ],
          "scheduledTimeLocal": "2022-04-07 06:05+02:00",
          "scheduledTimeUtc": "2022-04-07 04:05Z",
          "terminal": "2D"
         },
         "isCargo": false,
         "number": "U2 5674",
         "status": "Unknown"
        },
        {
         "aircraft": {
          "model": "Boeing 737-800"
         },
         "airline": {
          "name": "Ryanair"
         },
         "arrival": {
          "quality": [
           "Basic"
          ],
          "scheduledTimeLocal": "2022-04-07 08:05+02:00",
          "scheduledTimeUtc": "2022-04-07 06:05Z"
         },
         "codeshareStatus": "IsOperator",
         "departure": {
          "airport": {
           "iata": "BGY",
           "icao": "LIME",
           "name": "Bergamo"
          },
          "quality": [
           "Basic"
          ],
          "scheduledTimeLocal": "2022-04-07 06:25+02:00",
          "scheduledTimeUtc": "2022-04-07 04:25Z"
         },
         "isCargo": false,
         "number": "FR 4733",
         "status": "Unknown"
        },
        {
         "aircraft": {
          "model": "Bombardier Dash 8 Q400 / DHC-8-400"
         },
         "airline": {
          "name": "Luxair"
         },
         "arrival": {
          "quality": [
           "Basic"
          ],
          "scheduledTimeLocal": "2022-04-07 08:05+02:00",
          "scheduledTimeUtc": "2022-04-07 06:05Z",
          "terminal": "1"
         },
         "codeshareStatus": "IsOperator",
         "departure": {
          "actualTimeLocal": "2022-04-07 06:35+02:00",
          "actualTimeUtc": "2022-04-07 04:35Z",
          "airport": {
           "iata": "LUX",
           "icao": "ELLX",
           "name": "Luxembourg"
          },
          "quality": [
           "Basic",
           "Live"
          ],
          "scheduledTimeLocal": "2022-04-07 06:35+02:00",
          "scheduledTimeUtc": "2022-04-07 04:35Z"
         },
         "isCargo": false,
         "number": "LG 9471",
         "status": "Unknown"
        },
        {
         "aircraft": {
          "model": "ATR 42-300"
         },
         "airline": {
          "name": "Danish Air"
         },
         "arrival": {
          "quality": [
           "Basic"
          ],
          "scheduledTimeLocal": "2022-04-07 08:10+02:00",
          "scheduledTimeUtc": "2022-04-07 06:10Z",
          "terminal": "0"
         },
         "codeshareStatus": "IsOperator",
         "departure": {
          "airport": {
           "iata": "SCN",
           "icao": "EDDR",
           "name": "Saarbrücken"
          },
          "quality": [
           "Basic"
          ],
          "scheduledTimeLocal": "2022-04-07 06:30+02:00",
          "scheduledTimeUtc": "2022-04-07 04:30Z"
         },
         "isCargo": false,
         "number": "DX 121",
         "status": "Unknown"
        },
        {
         "aircraft": {
          "model": "Airbus A320"
         },
         "airline": {
          "name": "Austrian"
         },
         "arrival": {
          "quality": [
           "Basic"
          ],
          "scheduledTimeLocal": "2022-04-07 08:15+02:00",
          "scheduledTimeUtc": "2022-04-07 06:15Z",
          "terminal": "1"
         },
         "codeshareStatus": "IsOperator",
         "departure": {
          "actualTimeLocal": "2022-04-07 07:00+02:00",
          "actualTimeUtc": "2022-04-07 05:00Z",
          "airport": {
           "iata": "VIE",
           "icao": "LOWW",
           "name": "Vienna"
          },
          "checkInDesk": "351-368",
          "quality": [
           "Basic",
           "Live"
          ],
          "scheduledTimeLocal": "2022-04-07 07:00+02:00",
          "scheduledTimeUtc": "2022-04-07 05:00Z",
          "terminal": "3"
         },
         "isCargo": false,
         "number": "OS 223",
         "status": "Unknown"
        },
        {
         "aircraft": {
          "model": "Airbus A220-300"
         },
         "airline": {
          "name": "Air Baltic"
         },
         "arrival": {
          "quality": [
           "Basic"
          ],
          "scheduledTimeLocal": "2022-04-07 08:20+02:00",
          "scheduledTimeUtc": "2022-04-07 06:20Z",
          "terminal": "1"
         },
         "codeshareStatus": "IsOperator",
         "departure": {
          "actualTimeLocal": "2022-04-07 07:45+03:00",
          "actualTimeUtc": "2022-04-07 04:45Z",
          "airport": {
           "iata": "RIX",
           "icao": "EVRA",
           "name": "Riga"
          },
          "quality": [
           "Basic",
           "Live"
          ],
          "scheduledTimeLocal": "2022-04-07 07:45+03:00",
          "scheduledTimeUtc": "2022-04-07 04:45Z",
          "terminal": "C3"
         },
         "isCargo": false,
         "number": "BT 211",
         "status": "Unknown"
        },
        {
         "aircraft": {
          "model": "Embraer 175"
         },
         "airline": {
          "name": "KLM"
         },
         "arrival": {
          "quality": [
           "Basic"
          ],
          "scheduledTimeLocal": "2022-04-07 08:20+02:00",
          "scheduledTimeUtc": "2022-04-07 06:20Z",
          "terminal": "1"
         },
         "codeshareStatus": "IsOperator",
         "departure": {
          "airport": {
           "iata": "AMS",
           "icao": "EHAM",
           "name": "Amsterdam"
          },
          "checkInDesk": "6-8",
          "quality": [
           "Basic"
          ],
          "scheduledTimeLocal": "2022-04-07 07:00+02:00",
          "scheduledTimeUtc": "2022-04-07 05:00Z",
          "terminal": "1"
         },
         "isCargo": false,
         "number": "KL 1821",
         "status": "Unknown"
        },
        {
         "aircraft": {
          "model": "Airbus A320"
         },
         "airline": {
          "name": "Finnair"
         },
         "arrival": {
          "quality": [
           "Basic"
          ],
          "scheduledTimeLocal": "2022-04-07 08:25+02:00",
          "scheduledTimeUtc": "2022-04-07 06:25Z",
          "terminal": "1"
         },
         "codeshareStatus": "IsOperator",
         "departure": {
          "actualTimeLocal": "2022-04-07 07:25+03:00",
          "actualTimeUtc": "2022-04-07 04:25Z",
          "airport": {
           "iata": "HEL",
           "icao": "EFHK",
           "name": "Helsinki"
          },
          "checkInDesk": "507-517",
          "quality": [
           "Basic",
           "Live"
          ],
          "scheduledTimeLocal": "2022-04-07 07:25+03:00",
          "scheduledTimeUtc": "2022-04-07 04:25Z",
          "terminal": "2-200"
         },
         "isCargo": false,
         "number": "AY 1431",
         "status": "Unknown"
        },
        {
         "aircraft": {
          "model": "Boeing 737-800"
         },
         "airline": {
          "name": "Ryanair"
         },
         "arrival": {
          "quality": [
           "Basic"
          ],
          "scheduledTimeLocal": "2022-04-07 08:25+02:00",
          "scheduledTimeUtc": "2022-04-07 06:25Z"
         },
         "codeshareStatus": "IsOperator",
         "departure": {
          "actualTimeLocal": "2022-04-07 06:55+02:00",
          "actualTimeUtc": "2022-04-07 04:55Z",
          "airport": {
           "iata": "BUD",
           "icao": "LHBP",
           "name": "Budapest"
          },
          "quality": [
           "Basic",
           "Live"
          ],
          "scheduledTimeLocal": "2022-04-07 06:55+02:00",
          "scheduledTimeUtc": "2022-04-07 04:55Z",
          "terminal": "2B"
         },
         "isCargo": false,
         "number": "FR 197",
         "status": "Unknown"
        },
        {
         "aircraft": {
          "model": "Airbus A320"
         },
         "airline": {
          "name": "Eurowings"
         },
         "arrival": {
          "quality": [
           "Basic"
          ],
          "scheduledTimeLocal": "2022-04-07 08:35+02:00",
          "scheduledTimeUtc": "2022-04-07 06:35Z",
          "terminal": "1"
         },
         "callSign": "GWI9050",
         "codeshareStatus": "IsOperator",
         "departure": {
          "actualTimeLocal": "2022-04-07 07:20+02:00",
          "actualTimeUtc": "2022-04-07 05:20Z",
          "airport": {
           "iata": "DUS",
           "icao": "EDDL",
           "name": "Duesseldorf"
          },
          "checkInDesk": "153,170",
          "gate": "A50",
          "quality": [
           "Basic",
           "Live"
          ],
          "scheduledTimeLocal": "2022-04-07 07:20+02:00",
          "scheduledTimeUtc": "2022-04-07 05:20Z",
          "terminal": "B"
         },
         "isCargo": false,
         "number": "EW 9050",
         "status": "Unknown"
        },
        {
         "aircraft": {
          "model": "Airbus A320"
         },
         "airline": {
          "name": "easyJet"
         },
         "arrival": {
          "quality": [
           "Basic"
          ],
          "scheduledTimeLocal": "2022-04-07 08:45+02:00",
          "scheduledTimeUtc": "2022-04-07 06:45Z",
          "terminal": "1"
         },
         "codeshareStatus": "Unknown",
         "departure": {
          "airport": {
           "iata": "LIN",
           "icao": "LIML",
           "name": "Milan"
          },
          "quality": [
           "Basic"
          ],
          "scheduledTimeLocal": "2022-04-07 06:55+02:00",
          "scheduledTimeUtc": "2022-04-07 04:55Z"
         },
         "isCargo": false,
         "number": "U2 5182",
         "status": "Unknown"
        },
        {
         "aircraft": {
          "model": "Airbus A321"
         },
         "airline": {
          "name": "SWISS"
         },
         "arrival": {
          "quality": [
           "Basic"
          ],
          "scheduledTimeLocal": "2022-04-07 08:45+02:00",
          "scheduledTimeUtc": "2022-04-07 06:45Z",
          "terminal": "1"
         },
         "codeshareStatus": "IsOperator",
         "departure": {
          "actualTimeLocal": "2022-04-07 07:20+02:00",
          "actualTimeUtc": "2022-04-07 05:20Z",
          "airport": {
           "iata": "ZRH",
           "icao": "LSZH",
           "name": "Zurich"
          },
          "checkInDesk": "1",
          "quality": [
           "Basic",
           "Live"
          ],
          "scheduledTimeLocal": "2022-04-07 07:20+02:00",
          "scheduledTimeUtc": "2022-04-07 05:20Z"
         },
         "isCargo": false,
         "number": "LX 974",
         "status": "Unknown"
        },
        {
         "aircraft": {
          "model": "Airbus A320"
         },
         "airline": {
          "name": "Lufthansa"
         },
         "arrival": {
          "quality": [
           "Basic"
          ],
          "scheduledTimeLocal": "2022-04-07 08:55+02:00",
          "scheduledTimeUtc": "2022-04-07 06:55Z",
          "terminal": "1"
         },
         "codeshareStatus": "Unknown",
         "departure": {
          "actualTimeLocal": "2022-04-07 07:45+02:00",
          "actualTimeUtc": "2022-04-07 05:45Z",
          "airport": {
           "iata": "FRA",
           "icao": "EDDF",
           "name": "Frankfurt-am-Main"
          },
          "quality": [
           "Basic",
           "Live"
          ],
          "scheduledTimeLocal": "2022-04-07 07:45+02:00",
          "scheduledTimeUtc": "2022-04-07 05:45Z",
          "terminal": "1"
         },
         "isCargo": false,
         "number": "LH 174",
         "status": "Unknown"
        },
        {
         "aircraft": {
          "model": "Airbus A320"
         },
         "airline": {
          "name": "Air Serbia"
         },
         "arrival": {
          "quality": [
           "Basic"
          ],
          "scheduledTimeLocal": "2022-04-07 09:00+02:00",
          "scheduledTimeUtc": "2022-04-07 07:00Z",
          "terminal": "1"
         },
         "codeshareStatus": "IsOperator",
         "departure": {
          "airport": {
           "iata": "BEG",
           "icao": "LYBE",
           "name": "Belgrade"
          },
          "quality": [
           "Basic"
          ],
          "scheduledTimeLocal": "2022-04-07 07:10+02:00",
          "scheduledTimeUtc": "2022-04-07 05:10Z",
          "terminal": "2"
         },
         "isCargo": false,
         "number": "JU 350",
         "status": "Unknown"
        },
        {
         "aircraft": {
          "model": "Airbus A320"
         },
         "airline": {
          "name": "Air France"
         },
         "arrival": {
          "quality": [
           "Basic"
          ],
          "scheduledTimeLocal": "2022-04-07 09:05+02:00",
          "scheduledTimeUtc": "2022-04-07 07:05Z",
          "terminal": "1"
         },
         "codeshareStatus": "IsOperator",
         "departure": {
          "airport": {
           "iata": "CDG",
           "icao": "LFPG",
           "name": "Paris"
          },
          "quality": [
           "Basic"
          ],
          "scheduledTimeLocal": "2022-04-07 07:20+02:00",
          "scheduledTimeUtc": "2022-04-07 05:20Z",
          "terminal": "2F"
         },
         "isCargo": false,
         "number": "AF 1434",
         "status": "Unknown"
        },
        {
         "aircraft": {
          "model": "Boeing 737-800"
         },
         "airline": {
          "name": "Norwegian Air Shuttle"
         },
         "arrival": {
          "quality": [
           "Basic"
          ],
          "scheduledTimeLocal": "2022-04-07 09:05+02:00",
          "scheduledTimeUtc": "2022-04-07 07:05Z",
          "terminal": "1"
         },
         "codeshareStatus": "IsOperator",
         "departure": {
          "airport": {
           "iata": "OSL",
           "icao": "ENGM",
           "name": "Oslo"
          },
          "checkInDesk": "23",
          "quality": [
           "Basic"
          ],
          "scheduledTimeLocal": "2022-04-07 07:30+02:00",
          "scheduledTimeUtc": "2022-04-07 05:30Z"
         },
         "isCargo": false,
         "number": "DY 1102",
         "status": "Unknown"
        },
        {
         "aircraft": {
          "model": "Airbus A319"
         },
         "airline": {
          "name": "Lufthansa"
         },
         "arrival": {
          "quality": [
           "Basic"
          ],
          "scheduledTimeLocal": "2022-04-07 09:05+02:00",
          "scheduledTimeUtc": "2022-04-07 07:05Z",
          "terminal": "1"
         },
         "codeshareStatus": "IsOperator",
         "departure": {
          "airport": {
           "iata": "MUC",
           "icao": "EDDM",
           "name": "Munich"
          },
          "quality": [
           "Basic"
          ],
          "scheduledTimeLocal": "2022-04-07 08:00+02:00",
          "scheduledTimeUtc": "2022-04-07 06:00Z",
          "terminal": "2"
         },
         "isCargo": false,
         "number": "LH 1930",
         "status": "Unknown"
        },
        {
         "aircraft": {
          "model": "Boeing 737-800"
         },
         "airline": {
          "name": "Ryanair"
         },
         "arrival": {
          "quality": [
           "Basic"
          ],
          "scheduledTimeLocal": "2022-04-07 09:15+02:00",
          "scheduledTimeUtc": "2022-04-07 07:15Z"
         },
         "codeshareStatus": "IsOperator",
         "departure": {
          "actualTimeLocal": "2022-04-07 06:30+02:00",
          "actualTimeUtc": "2022-04-07 04:30Z",
          "airport": {
           "iata": "PMI",
           "icao": "LEPA",
           "name": "Palma De Mallorca"
          },
          "checkInDesk": "002-017",
          "quality": [
           "Basic",
           "Live"
          ],
          "scheduledTimeLocal": "2022-04-07 06:30+02:00",
          "scheduledTimeUtc": "2022-04-07 04:30Z",
          "terminal": "N"
         },
         "isCargo": false,
         "number": "FR 277",
         "status": "Unknown"
        },
        {
         "aircraft": {
          "model": "Airbus A319"
         },
         "airline": {
          "name": "easyJet"
         },
         "arrival": {
          "quality": [
           "Basic"
          ],
          "scheduledTimeLocal": "2022-04-07 09:20+02:00",
          "scheduledTimeUtc": "2022-04-07 07:20Z",
          "terminal": "1"
         },
         "codeshareStatus": "Unknown",
         "departure": {
          "airport": {
           "iata": "LTN",
           "icao": "EGGW",
           "name": "London"
          },
          "quality": [
           "Basic"
          ],
          "scheduledTimeLocal": "2022-04-07 06:30+01:00",
          "scheduledTimeUtc": "2022-04-07 05:30Z"
         },
         "isCargo": false,
         "number": "U2 2101",
         "status": "Unknown"
        },
        {
         "aircraft": {
          "model": "Airbus A320"
         },
         "airline": {
          "name": "easyJet"
         },
         "arrival": {
          "quality": [
           "Basic"
          ],
          "scheduledTimeLocal": "2022-04-07 09:20+02:00",
          "scheduledTimeUtc": "2022-04-07 07:20Z",
          "terminal": "1"
         },
         "codeshareStatus": "Unknown",
         "departure": {
          "airport": {
           "iata": "LYS",
           "icao": "LFLL",
           "name": "Lyon"
          },
          "quality": [
           "Basic"
          ],
          "scheduledTimeLocal": "2022-04-07 07:20+02:00",
          "scheduledTimeUtc": "2022-04-07 05:20Z",
          "terminal": "1"
         },
         "isCargo": false,
         "number": "U2 4371",
         "status": "Unknown"
        },
        {
         "aircraft": {
          "model": "Airbus A321"
         },
         "airline": {
          "name": "Wizz Air"
         },
         "arrival": {
          "quality": [
           "Basic"
          ],
          "scheduledTimeLocal": "2022-04-07 09:20+02:00",
          "scheduledTimeUtc": "2022-04-07 07:20Z",
          "terminal": "0"
         },
         "codeshareStatus": "IsOperator",
         "departure": {
          "airport": {
           "iata": "TIA",
           "icao": "LATI",
           "name": "Tirana"
          },
          "quality": [
           "Basic"
          ],
          "scheduledTimeLocal": "2022-04-07 07:00+02:00",
          "scheduledTimeUtc": "2022-04-07 05:00Z"
         },
         "isCargo": false,
         "number": "W6 6611",
         "status": "Unknown"
        },
        {
         "aircraft": {
          "model": "Airbus A320"
         },
         "airline": {
          "name": "Eurowings"
         },
         "arrival": {
          "quality": [
           "Basic"
          ],
          "scheduledTimeLocal": "2022-04-07 09:30+02:00",
          "scheduledTimeUtc": "2022-04-07 07:30Z",
          "terminal": "1"
         },
         "codeshareStatus": "IsOperator",
         "departure": {
          "airport": {
           "iata": "CGN",
           "icao": "EDDK",
           "name": "Cologne"
          },
          "quality": [
           "Basic"
          ],
          "scheduledTimeLocal": "2022-04-07 08:20+02:00",
          "scheduledTimeUtc": "2022-04-07 06:20Z",
          "terminal": "1"
         },
         "isCargo": false,
         "number": "EW 8059",
         "status": "Unknown"
        },
        {
         "aircraft": {
          "model": "Boeing 737-800"
         },
         "airline": {
          "name": "Ryanair"
         },
         "arrival": {
          "quality": [
           "Basic"
          ],
          "scheduledTimeLocal": "2022-04-07 09:30+02:00",
          "scheduledTimeUtc": "2022-04-07 07:30Z"
         },
         "codeshareStatus": "IsOperator",
         "departure": {
          "airport": {
           "iata": "EDI",
           "icao": "EGPH",
           "name": "Edinburgh"
          },
          "quality": [
           "Basic"
          ],
          "scheduledTimeLocal": "2022-04-07 06:25+01:00",
          "scheduledTimeUtc": "2022-04-07 05:25Z"
         },
         "isCargo": false,
         "number": "FR 2376",
         "status": "Unknown"
        },
        {
         "aircraft": {
          "model": "Airbus A319"
         },
         "airline": {
          "name": "easyJet"
         },
         "arrival": {
          "quality": [
           "Basic"
          ],
          "scheduledTimeLocal": "2022-04-07 09:35+02:00",
          "scheduledTimeUtc": "2022-04-07 07:35Z",
          "terminal": "1"
         },
         "codeshareStatus": "IsOperator",
         "departure": {
          "actualTimeLocal": "2022-04-07 06:40+01:00",
          "actualTimeUtc": "2022-04-07 05:40Z",
          "airport": {
           "iata": "MAN",
           "icao": "EGCC",
           "name": "Manchester"
          },
          "quality": [
           "Basic",
           "Live"
          ],
          "scheduledTimeLocal": "2022-04-07 06:40+01:00",
          "scheduledTimeUtc": "2022-04-07 05:40Z",
          "terminal": "1"
         },
         "isCargo": false,
         "number": "U2 1897",
         "status": "Unknown"
        },
        {
         "aircraft": {
          "model": "Boeing 737-900"
         },
         "airline": {
          "name": "El Al"
         },
         "arrival": {
          "quality": [
           "Basic"
          ],
          "scheduledTimeLocal": "2022-04-07 09:40+02:00",
          "scheduledTimeUtc": "2022-04-07 07:40Z",
          "terminal": "1"
         },
         "codeshareStatus": "IsOperator",
         "departure": {
          "airport": {
           "iata": "TLV",
           "icao": "LLBG",
           "name": "Tel Aviv Yafo"
          },
          "quality": [
           "Basic"
          ],
          "scheduledTimeLocal": "2022-04-07 06:20+03:00",
          "scheduledTimeUtc": "2022-04-07 03:20Z",
          "terminal": "3"
         },
         "isCargo": false,
         "number": "LY 2371",
         "status": "Unknown"
        },
        {
         "aircraft": {
          "model": "Airbus A320"
         },
         "airline": {
          "name": "easyJet"
         },
         "arrival": {
          "quality": [
           "Basic"
          ],
          "scheduledTimeLocal": "2022-04-07 09:45+02:00",
          "scheduledTimeUtc": "2022-04-07 07:45Z",
          "terminal": "1"
         },
         "codeshareStatus": "Unknown",
         "departure": {
          "airport": {
           "iata": "BSL",
           "icao": "LFSB",
           "name": "Bâle/Mulhouse"
          },
          "quality": [
           "Basic"
          ],
          "scheduledTimeLocal": "2022-04-07 08:10+02:00",
          "scheduledTimeUtc": "2022-04-07 06:10Z"
         },
         "isCargo": false,
         "number": "U2 5630",
         "status": "Unknown"
        },
        {
         "aircraft": {
          "model": "Boeing 737-800"
         },
         "airline": {
          "name": "Ryanair"
         },
         "arrival": {
          "quality": [
           "Basic"
          ],
          "scheduledTimeLocal": "2022-04-07 09:45+02:00",
          "scheduledTimeUtc": "2022-04-07 07:45Z"
         },
         "codeshareStatus": "IsOperator",
         "departure": {
          "actualTimeLocal": "2022-04-07 08:15+02:00",
          "actualTimeUtc": "2022-04-07 06:15Z",
          "airport": {
           "iata": "BRU",
           "icao": "EBBR",
           "name": "Brussels"
          },
          "checkInDesk": "08",
          "quality": [
           "Basic",
           "Live"
          ],
          "scheduledTimeLocal": "2022-04-07 08:15+02:00",
          "scheduledTimeUtc": "2022-04-07 06:15Z"
         },
         "isCargo": false,
         "number": "FR 163",
         "status": "Unknown"
        },
        {
         "aircraft": {
          "model": "Airbus A330-300"
         },
         "airline": {
          "name": "Turkish"
         },
         "arrival": {
          "quality": [
           "Basic"
          ],
          "scheduledTimeLocal": "2022-04-07 09:45+02:00",
          "scheduledTimeUtc": "2022-04-07 07:45Z",
          "terminal": "1"
         },
         "codeshareStatus": "IsOperator",
         "departure": {
          "airport": {
           "iata": "IST",
           "icao": "LTFM",
           "name": "Istanbul"
          },
          "quality": [
           "Basic"
          ],
          "scheduledTimeLocal": "2022-04-07 07:55+03:00",
          "scheduledTimeUtc": "2022-04-07 04:55Z"
         },
         "isCargo": false,
         "number": "TK 1721",
         "status": "Unknown"
        },
        {
         "aircraft": {
          "model": "Airbus A320"
         },
         "airline": {
          "name": "easyJet"
         },
         "arrival": {
          "quality": [
           "Basic"
          ],
          "scheduledTimeLocal": "2022-04-07 09:45+02:00",
          "scheduledTimeUtc": "2022-04-07 07:45Z",
          "terminal": "1"
         },
         "codeshareStatus": "IsOperator",
         "departure": {
          "airport": {
           "iata": "CPH",
           "icao": "EKCH",
           "name": "Copenhagen"
          },
          "quality": [
           "Basic"
          ],
          "scheduledTimeLocal": "2022-04-07 08:40+02:00",
          "scheduledTimeUtc": "2022-04-07 06:40Z",
          "terminal": "2"
         },
         "isCargo": false,
         "number": "U2 5682",
         "status": "Unknown"
        },
        {
         "aircraft": {
          "model": "Airbus A320 NEO"
         },
         "airline": {
          "name": "Lufthansa"
         },
         "arrival": {
          "quality": [
           "Basic"
          ],
          "scheduledTimeLocal": "2022-04-07 09:55+02:00",
          "scheduledTimeUtc": "2022-04-07 07:55Z",
          "terminal": "1"
         },
         "codeshareStatus": "Unknown",
         "departure": {
          "actualTimeLocal": "2022-04-07 08:45+02:00",
          "actualTimeUtc": "2022-04-07 06:45Z",
          "airport": {
           "iata": "FRA",
           "icao": "EDDF",
           "name": "Frankfurt-am-Main"
          },
          "quality": [
           "Basic",
           "Live"
          ],
          "scheduledTimeLocal": "2022-04-07 08:45+02:00",
          "scheduledTimeUtc": "2022-04-07 06:45Z",
          "terminal": "1"
         },
         "isCargo": false,
         "number": "LH 176",
         "status": "Unknown"
        },
        {
         "aircraft": {
          "model": "Airbus A320"
         },
         "airline": {
          "name": "easyJet"
         },
         "arrival": {
          "quality": [
           "Basic"
          ],
          "scheduledTimeLocal": "2022-04-07 10:00+02:00",
          "scheduledTimeUtc": "2022-04-07 08:00Z",
          "terminal": "1"
         },
         "codeshareStatus": "Unknown",
         "departure": {
          "airport": {
           "iata": "CGN",
           "icao": "EDDK",
           "name": "Cologne"
          },
          "quality": [
           "Basic"
          ],
          "scheduledTimeLocal": "2022-04-07 08:45+02:00",
          "scheduledTimeUtc": "2022-04-07 06:45Z",
          "terminal": "1"
         },
         "isCargo": false,
         "number": "U2 5512",
         "status": "Unknown"
        },
        {
         "aircraft": {
          "model": "Airbus A320"
         },
         "airline": {
          "name": "Wizz Air"
         },
         "arrival": {
          "quality": [
           "Basic"
          ],
          "scheduledTimeLocal": "2022-04-07 10:00+02:00",
          "scheduledTimeUtc": "2022-04-07 08:00Z",
          "terminal": "0"
         },
         "codeshareStatus": "Unknown",
         "departure": {
          "actualTimeLocal": "2022-04-07 08:30+02:00",
          "actualTimeUtc": "2022-04-07 06:30Z",
          "airport": {
           "iata": "BUD",
           "icao": "LHBP",
           "name": "Budapest"
          },
          "quality": [
           "Basic",
           "Live"
          ],
          "scheduledTimeLocal": "2022-04-07 08:30+02:00",
          "scheduledTimeUtc": "2022-04-07 06:30Z",
          "terminal": "2B"
         },
         "isCargo": false,
         "number": "W6 2315",
         "status": "Unknown"
        },
        {
         "aircraft": {
          "model": "Airbus A319"
         },
         "airline": {
          "name": "easyJet"
         },
         "arrival": {
          "quality": [
           "Basic"
          ],
          "scheduledTimeLocal": "2022-04-07 10:05+02:00",
          "scheduledTimeUtc": "2022-04-07 08:05Z",
          "terminal": "1"
         },
         "codeshareStatus": "Unknown",
         "departure": {
          "airport": {
           "iata": "PMI",
           "icao": "LEPA",
           "name": "Palma De Mallorca"
          },
          "quality": [
           "Basic"
          ],
          "scheduledTimeLocal": "2022-04-07 07:10+02:00",
          "scheduledTimeUtc": "2022-04-07 05:10Z"
         },
         "isCargo": false,
         "number": "U2 5800",
         "status": "Unknown"
        },
        {
         "aircraft": {
          "model": "Airbus A319"
         },
         "airline": {
          "name": "British Airways"
         },
         "arrival": {
          "quality": [
           "Basic"
          ],
          "scheduledTimeLocal": "2022-04-07 10:05+02:00",
          "scheduledTimeUtc": "2022-04-07 08:05Z",
          "terminal": "1"
         },
         "codeshareStatus": "IsOperator",
         "departure": {
          "actualTimeLocal": "2022-04-07 07:15+01:00",
          "actualTimeUtc": "2022-04-07 06:15Z",
          "airport": {
           "iata": "LHR",
           "icao": "EGLL",
           "name": "London"
          },
          "checkInDesk": "C",
          "quality": [
           "Basic",
           "Live"
          ],
          "scheduledTimeLocal": "2022-04-07 07:15+01:00",
          "scheduledTimeUtc": "2022-04-07 06:15Z",
          "terminal": "5"
         },
         "isCargo": false,
         "number": "BA 990",
         "status": "Unknown"
        },
        {
         "aircraft": {
          "model": "Airbus A320"
         },
         "airline": {
          "name": "Lufthansa"
         },
         "arrival": {
          "quality": [
           "Basic"
          ],
          "scheduledTimeLocal": "2022-04-07 10:05+02:00",
          "scheduledTimeUtc": "2022-04-07 08:05Z",
          "terminal": "1"
         },
         "codeshareStatus": "IsOperator",
         "departure": {
          "airport": {
           "iata": "MUC",
           "icao": "EDDM",
           "name": "Munich"
          },
          "quality": [
           "Basic"
          ],
          "scheduledTimeLocal": "2022-04-07 09:00+02:00",
          "scheduledTimeUtc": "2022-04-07 07:00Z",
          "terminal": "2"
         },
         "isCargo": false,
         "number": "LH 1934",
         "status": "Unknown"
        },
        {
         "aircraft": {
          "model": "Airbus A320 NEO"
         },
         "airline": {
          "name": "SWISS"
         },
         "arrival": {
          "quality": [
           "Basic"
          ],
          "scheduledTimeLocal": "2022-04-07 10:05+02:00",
          "scheduledTimeUtc": "2022-04-07 08:05Z",
          "terminal": "1"
         },
         "codeshareStatus": "IsOperator",
         "departure": {
          "actualTimeLocal": "2022-04-07 08:45+02:00",
          "actualTimeUtc": "2022-04-07 06:45Z",
          "airport": {
           "iata": "ZRH",
           "icao": "LSZH",
           "name": "Zurich"
          },
          "checkInDesk": "1",
          "quality": [
           "Basic",
           "Live"
          ],
          "scheduledTimeLocal": "2022-04-07 08:45+02:00",
          "scheduledTimeUtc": "2022-04-07 06:45Z"
         },
         "isCargo": false,
         "number": "LX 976",
         "status": "Unknown"
        },
        {
         "aircraft": {
          "model": "Airbus A320"
         },
         "airline": {
          "name": "Vueling"
         },
         "arrival": {
          "quality": [
           "Basic"
          ],
          "scheduledTimeLocal": "2022-04-07 10:05+02:00",
          "scheduledTimeUtc": "2022-04-07 08:05Z",
          "terminal": "1"
         },
         "codeshareStatus": "IsOperator",
         "departure": {
          "actualTimeLocal": "2022-04-07 07:20+02:00",
          "actualTimeUtc": "2022-04-07 05:20Z",
          "airport": {
           "iata": "BCN",
           "icao": "LEBL",
           "name": "Barcelona"
          },
          "quality": [
           "Basic",
           "Live"
          ],
          "scheduledTimeLocal": "2022-04-07 07:20+02:00",
          "scheduledTimeUtc": "2022-04-07 05:20Z",
          "terminal": "1"
         },
         "isCargo": false,
         "number": "VY 1882",
         "status": "Unknown"
        },
        {
         "aircraft": {
          "model": "Boeing 787-8"
         },
         "airline": {
          "name": "Scoot"
         },
         "arrival": {
          "quality": [
           "Basic"
          ],
          "scheduledTimeLocal": "2022-04-07 10:10+02:00",
          "scheduledTimeUtc": "2022-04-07 08:10Z",
          "terminal": "1"
         },
         "codeshareStatus": "IsOperator",
         "departure": {
          "actualTimeLocal": "2022-04-07 08:15+03:00",
          "actualTimeUtc": "2022-04-07 05:15Z",
          "airport": {
           "iata": "ATH",
           "icao": "LGAV",
           "name": "Athens"
          },
          "checkInDesk": "135--137",
          "quality": [
           "Basic",
           "Live"
          ],
          "scheduledTimeLocal": "2022-04-07 08:15+03:00",
          "scheduledTimeUtc": "2022-04-07 05:15Z",
          "terminal": "I"
         },
         "isCargo": false,
         "number": "TR 722",
         "status": "Unknown"
        },
        {
         "aircraft": {
          "model": "Airbus A319"
         },
         "airline": {
          "name": "easyJet"
         },
         "arrival": {
          "quality": [
           "Basic"
          ],
          "scheduledTimeLocal": "2022-04-07 10:30+02:00",
          "scheduledTimeUtc": "2022-04-07 08:30Z",
          "terminal": "1"
         },
         "codeshareStatus": "Unknown",
         "departure": {
          "airport": {
           "iata": "AMS",
           "icao": "EHAM",
           "name": "Amsterdam"
          },
          "quality": [
           "Basic"
          ],
          "scheduledTimeLocal": "2022-04-07 09:05+02:00",
          "scheduledTimeUtc": "2022-04-07 07:05Z"
         },
         "isCargo": false,
         "number": "U2 4562",
         "status": "Unknown"
        },
        {
         "aircraft": {
          "model": "Airbus A319"
         },
         "airline": {
          "name": "easyJet"
         },
         "arrival": {
          "quality": [
           "Basic"
          ],
          "scheduledTimeLocal": "2022-04-07 10:35+02:00",
          "scheduledTimeUtc": "2022-04-07 08:35Z",
          "terminal": "1"
         },
         "codeshareStatus": "Unknown",
         "departure": {
          "airport": {
           "iata": "AMS",
           "icao": "EHAM",
           "name": "Amsterdam"
          },
          "quality": [
           "Basic"
          ],
          "scheduledTimeLocal": "2022-04-07 09:10+02:00",
          "scheduledTimeUtc": "2022-04-07 07:10Z"
         },
         "isCargo": false,
         "number": "U2 5102",
         "status": "Unknown"
        },
        {
         "aircraft": {
          "model": "Boeing 737-800"
         },
         "airline": {
          "name": "Ryanair"
         },
         "arrival": {
          "quality": [
           "Basic"
          ],
          "scheduledTimeLocal": "2022-04-07 10:35+02:00",
          "scheduledTimeUtc": "2022-04-07 08:35Z"
         },
         "codeshareStatus": "IsOperator",
         "departure": {
          "actualTimeLocal": "2022-04-07 07:05+02:00",
          "actualTimeUtc": "2022-04-07 05:05Z",
          "airport": {
           "iata": "AGP",
           "icao": "LEMG",
           "name": "Málaga"
          },
          "quality": [
           "Basic",
           "Live"
          ],
          "scheduledTimeLocal": "2022-04-07 07:05+02:00",
          "scheduledTimeUtc": "2022-04-07 05:05Z"
         },
         "isCargo": false,
         "number": "FR 235",
         "status": "Unknown"
        },
        {
         "aircraft": {
          "model": "Airbus A320"
         },
         "airline": {
          "name": "Eurowings"
         },
         "arrival": {
          "quality": [
           "Basic"
          ],
          "scheduledTimeLocal": "2022-04-07 10:40+02:00",
          "scheduledTimeUtc": "2022-04-07 08:40Z",
          "terminal": "1"
         },
         "codeshareStatus": "Unknown",
         "departure": {
          "actualTimeLocal": "2022-04-07 07:55+02:00",
          "actualTimeUtc": "2022-04-07 05:55Z",
          "airport": {
           "iata": "PMI",
           "icao": "LEPA",
           "name": "Palma De Mallorca"
          },
          "checkInDesk": "154-157",
          "quality": [
           "Basic",
           "Live"
          ],
          "scheduledTimeLocal": "2022-04-07 07:55+02:00",
          "scheduledTimeUtc": "2022-04-07 05:55Z",
          "terminal": "N"
         },
         "isCargo": false,
         "number": "EW 6892",
         "status": "Unknown"
        },
        {
         "aircraft": {
          "model": "Boeing 737-800"
         },
         "airline": {
          "name": "Ryanair"
         },
         "arrival": {
          "quality": [
           "Basic"
          ],
          "scheduledTimeLocal": "2022-04-07 10:40+02:00",
          "scheduledTimeUtc": "2022-04-07 08:40Z"
         },
         "codeshareStatus": "IsOperator",
         "departure": {
          "airport": {
           "iata": "STN",
           "icao": "EGSS",
           "name": "London"
          },
          "quality": [
           "Basic"
          ],
          "scheduledTimeLocal": "2022-04-07 07:55+01:00",
          "scheduledTimeUtc": "2022-04-07 06:55Z"
         },
         "isCargo": false,
         "number": "FR 145",
         "status": "Unknown"
        },
        {
         "aircraft": {
          "model": "Boeing 737-800"
         },
         "airline": {
          "name": "Ryanair"
         },
         "arrival": {
          "quality": [
           "Basic"
          ],
          "scheduledTimeLocal": "2022-04-07 10:40+02:00",
          "scheduledTimeUtc": "2022-04-07 08:40Z"
         },
         "codeshareStatus": "IsOperator",
         "departure": {
          "actualTimeLocal": "2022-04-07 07:20+01:00",
          "actualTimeUtc": "2022-04-07 06:20Z",
          "airport": {
           "iata": "DUB",
           "icao": "EIDW",
           "name": "Dublin"
          },
          "checkInDesk": "1204-1319",
          "gate": "110",
          "quality": [
           "Basic",
           "Live"
          ],
          "scheduledTimeLocal": "2022-04-07 07:20+01:00",
          "scheduledTimeUtc": "2022-04-07 06:20Z",
          "terminal": "1"
         },
         "isCargo": false,
         "number": "FR 8556",
         "status": "Unknown"
        },
        {
         "aircraft": {
          "model": "Airbus A319"
         },
         "airline": {
          "name": "Brussels"
         },
         "arrival": {
          "quality": [
           "Basic"
          ],
          "scheduledTimeLocal": "2022-04-07 10:50+02:00",
          "scheduledTimeUtc": "2022-04-07 08:50Z",
          "terminal": "1"
         },
         "codeshareStatus": "IsOperator",
         "departure": {
          "actualTimeLocal": "2022-04-07 09:25+02:00",
          "actualTimeUtc": "2022-04-07 07:25Z",
          "airport": {
           "iata": "BRU",
           "icao": "EBBR",
           "name": "Brussels"
          },
          "checkInDesk": "04",
          "quality": [
           "Basic",
           "Live"
          ],
          "scheduledTimeLocal": "2022-04-07 09:25+02:00",
          "scheduledTimeUtc": "2022-04-07 07:25Z"
         },
         "isCargo": false,
         "number": "SN 2581",
         "status": "Unknown"
        },
        {
         "aircraft": {
          "model": "Airbus A320"
         },
         "airline": {
          "name": "Iberia"
         },
         "arrival": {
          "quality": [
           "Basic"
          ],
          "scheduledTimeLocal": "2022-04-07 10:55+02:00",
          "scheduledTimeUtc": "2022-04-07 08:55Z",
          "terminal": "1"
         },
         "codeshareStatus": "Unknown",
         "departure": {
          "actualTimeLocal": "2022-04-07 07:50+02:00",
          "actualTimeUtc": "2022-04-07 05:50Z",
          "airport": {
           "iata": "MAD",
           "icao": "LEMD",
           "name": "Madrid"
          },
          "quality": [
           "Basic",
           "Live"
          ],
          "scheduledTimeLocal": "2022-04-07 07:50+02:00",
          "scheduledTimeUtc": "2022-04-07 05:50Z",
          "terminal": "4"
         },
         "isCargo": false,
         "number": "IB 3066",
         "status": "Unknown"
        },
        {
         "aircraft": {
          "model": "Boeing 737-800"
         },
         "airline": {
          "name": "Ryanair"
         },
         "arrival": {
          "quality": [
           "Basic"
          ],
          "scheduledTimeLocal": "2022-04-07 11:00+02:00",
          "scheduledTimeUtc": "2022-04-07 09:00Z"
         },
         "codeshareStatus": "IsOperator",
         "departure": {
          "airport": {
           "iata": "FCO",
           "icao": "LIRF",
           "name": "Rome"
          },
          "quality": [
           "Basic"
          ],
          "scheduledTimeLocal": "2022-04-07 08:55+02:00",
          "scheduledTimeUtc": "2022-04-07 06:55Z",
          "terminal": "3"
         },
         "isCargo": false,
         "number": "FR 135",
         "status": "Unknown"
        },
        {
         "aircraft": {
          "model": "Embraer 190"
         },
         "airline": {
          "name": "British Airways"
         },
         "arrival": {
          "quality": [
           "Basic"
          ],
          "scheduledTimeLocal": "2022-04-07 11:10+02:00",
          "scheduledTimeUtc": "2022-04-07 09:10Z",
          "terminal": "1"
         },
         "codeshareStatus": "IsCodeshared",
         "departure": {
          "airport": {
           "iata": "LCY",
           "icao": "EGLC",
           "name": "London"
          },
          "quality": [
           "Basic"
          ],
          "scheduledTimeLocal": "2022-04-07 08:25+01:00",
          "scheduledTimeUtc": "2022-04-07 07:25Z"
         },
         "isCargo": false,
         "number": "BA 8491",
         "status": "Unknown"
        },
        {
         "aircraft": {
          "model": "Embraer 195"
         },
         "airline": {
          "name": "LOT - Polish"
         },
         "arrival": {
          "quality": [
           "Basic"
          ],
          "scheduledTimeLocal": "2022-04-07 11:15+02:00",
          "scheduledTimeUtc": "2022-04-07 09:15Z",
          "terminal": "1"
         },
         "codeshareStatus": "IsOperator",
         "departure": {
          "airport": {
           "iata": "WAW",
           "icao": "EPWA",
           "name": "Warsaw"
          },
          "quality": [
           "Basic"
          ],
          "scheduledTimeLocal": "2022-04-07 09:50+02:00",
          "scheduledTimeUtc": "2022-04-07 07:50Z"
         },
         "isCargo": false,
         "number": "LO 387",
         "status": "Unknown"
        },
        {
         "aircraft": {
          "model": "Airbus A220-300"
         },
         "airline": {
          "name": "Air France"
         },
         "arrival": {
          "quality": [
           "Basic"
          ],
          "scheduledTimeLocal": "2022-04-07 11:20+02:00",
          "scheduledTimeUtc": "2022-04-07 09:20Z",
          "terminal": "1"
         },
         "codeshareStatus": "IsOperator",
         "departure": {
          "airport": {
           "iata": "CDG",
           "icao": "LFPG",
           "name": "Paris"
          },
          "quality": [
           "Basic"
          ],
          "scheduledTimeLocal": "2022-04-07 09:35+02:00",
          "scheduledTimeUtc": "2022-04-07 07:35Z",
          "terminal": "2F"
         },
         "isCargo": false,
         "number": "AF 1734",
         "status": "Unknown"
        },
        {
         "aircraft": {
          "model": "Boeing 737-800"
         },
         "airline": {
          "name": "Turkish"
         },
         "arrival": {
          "quality": [
           "Basic"
          ],
          "scheduledTimeLocal": "2022-04-07 11:20+02:00",
          "scheduledTimeUtc": "2022-04-07 09:20Z",
          "terminal": "1"
         },
         "codeshareStatus": "IsOperator",
         "departure": {
          "airport": {
           "iata": "SAW",
           "icao": "LTFJ",
           "name": "Istanbul"
          },
          "quality": [
           "Basic"
          ],
          "scheduledTimeLocal": "2022-04-07 09:25+03:00",
          "scheduledTimeUtc": "2022-04-07 06:25Z"
         },
         "isCargo": false,
         "number": "TK 7728",
         "status": "Unknown"
        },
        {
         "aircraft": {
          "modeS": "5110CA",
          "model": "Bombardier CRJ900",
          "reg": "ES-ACN"
         },
         "airline": {
          "name": "SAS"
         },
         "arrival": {
          "quality": [
           "Basic"
          ],
          "scheduledTimeLocal": "2022-04-07 11:25+02:00",
          "scheduledTimeUtc": "2022-04-07 09:25Z",
          "terminal": "1"
         },
         "callSign": "SAS2677",
         "codeshareStatus": "Unknown",
         "departure": {
          "actualTimeLocal": "2022-04-07 09:55+02:00",
          "actualTimeUtc": "2022-04-07 07:55Z",
          "airport": {
           "iata": "ARN",
           "icao": "ESSA",
           "name": "Stockholm"
          },
          "checkInDesk": "52-55",
          "quality": [
           "Basic",
           "Live"
          ],
          "scheduledTimeLocal": "2022-04-07 09:55+02:00",
          "scheduledTimeUtc": "2022-04-07 07:55Z",
          "terminal": "5"
         },
         "isCargo": false,
         "number": "SK 2677",
         "status": "Unknown"
        },
        {
         "aircraft": {
          "model": "Airbus A320"
         },
         "airline": {
          "name": "easyJet"
         },
         "arrival": {
          "quality": [
           "Basic"
          ],
          "scheduledTimeLocal": "2022-04-07 11:25+02:00",
          "scheduledTimeUtc": "2022-04-07 09:25Z",
          "terminal": "1"
         },
         "codeshareStatus": "Unknown",
         "departure": {
          "airport": {
           "iata": "MXP",
           "icao": "LIMC",
           "name": "Milan"
          },
          "quality": [
           "Basic"
          ],
          "scheduledTimeLocal": "2022-04-07 09:35+02:00",
          "scheduledTimeUtc": "2022-04-07 07:35Z",
          "terminal": "1"
         },
         "isCargo": false,
         "number": "U2 4672",
         "status": "Unknown"
        },
        {
         "aircraft": {
          "model": "Boeing 737-800"
         },
         "airline": {
          "name": "Ryanair"
         },
         "arrival": {
          "quality": [
           "Basic"
          ],
          "scheduledTimeLocal": "2022-04-07 11:30+02:00",
          "scheduledTimeUtc": "2022-04-07 09:30Z"
         },
         "codeshareStatus": "IsOperator",
         "departure": {
          "airport": {
           "iata": "CFU",
           "icao": "LGKR",
           "name": "Kerkyra Island"
          },
          "quality": [
           "Basic"
          ],
          "scheduledTimeLocal": "2022-04-07 10:00+03:00",
          "scheduledTimeUtc": "2022-04-07 07:00Z"
         },
         "isCargo": false,
         "number": "FR 268",
         "status": "Unknown"
        },
        {
         "aircraft": {
          "modeS": "48415F",
          "model": "Boeing 737-800",
          "reg": "PH-BXF"
         },
         "airline": {
          "name": "KLM"
         },
         "arrival": {
          "quality": [
           "Basic"
          ],
          "scheduledTimeLocal": "2022-04-07 11:30+02:00",
          "scheduledTimeUtc": "2022-04-07 09:30Z",
          "terminal": "1"
         },
         "codeshareStatus": "IsOperator",
         "departure": {
          "airport": {
           "iata": "AMS",
           "icao": "EHAM",
           "name": "Amsterdam"
          },
          "checkInDesk": "6-8",
          "quality": [
           "Basic"
          ],
          "scheduledTimeLocal": "2022-04-07 10:20+02:00",
          "scheduledTimeUtc": "2022-04-07 08:20Z",
          "terminal": "1"
         },
         "isCargo": false,
         "number": "KL 1823",
         "status": "Unknown"
        },
        {
         "aircraft": {
          "model": "Airbus A320"
         },
         "airline": {
          "name": "easyJet"
         },
         "arrival": {
          "quality": [
           "Basic"
          ],
          "scheduledTimeLocal": "2022-04-07 11:35+02:00",
          "scheduledTimeUtc": "2022-04-07 09:35Z",
          "terminal": "1"
         },
         "codeshareStatus": "Unknown",
         "departure": {
          "airport": {
           "iata": "CDG",
           "icao": "LFPG",
           "name": "Paris"
          },
          "quality": [
           "Basic"
          ],
          "scheduledTimeLocal": "2022-04-07 09:45+02:00",
          "scheduledTimeUtc": "2022-04-07 07:45Z",
          "terminal": "2D"
         },
         "isCargo": false,
         "number": "U2 5652",
         "status": "Unknown"
        },
        {
         "aircraft": {
          "model": "Airbus A319"
         },
         "airline": {
          "name": "British Airways"
         },
         "arrival": {
          "quality": [
           "Basic"
          ],
          "scheduledTimeLocal": "2022-04-07 11:35+02:00",
          "scheduledTimeUtc": "2022-04-07 09:35Z",
          "terminal": "1"
         },
         "codeshareStatus": "IsOperator",
         "departure": {
          "actualTimeLocal": "2022-04-07 08:40+01:00",
          "actualTimeUtc": "2022-04-07 07:40Z",
          "airport": {
           "iata": "LHR",
           "icao": "EGLL",
           "name": "London"
          },
          "checkInDesk": "C",
          "quality": [
           "Basic",
           "Live"
          ],
          "scheduledTimeLocal": "2022-04-07 08:40+01:00",
          "scheduledTimeUtc": "2022-04-07 07:40Z",
          "terminal": "5"
         },
         "isCargo": false,
         "number": "BA 982",
         "status": "Canceled"
        },
        {
         "aircraft": {
          "model": "Airbus A320"
         },
         "airline": {
          "name": "easyJet"
         },
         "arrival": {
          "quality": [
           "Basic"
          ],
          "scheduledTimeLocal": "2022-04-07 11:45+02:00",
          "scheduledTimeUtc": "2022-04-07 09:45Z",
          "terminal": "1"
         },
         "codeshareStatus": "Unknown",
         "departure": {
          "airport": {
           "iata": "LGW",
           "icao": "EGKK",
           "name": "London"
          },
          "quality": [
           "Basic"
          ],
          "scheduledTimeLocal": "2022-04-07 08:45+01:00",
          "scheduledTimeUtc": "2022-04-07 07:45Z",
          "terminal": "N"
         },
         "isCargo": false,
         "number": "U2 8209",
         "status": "Unknown"
        }
       ]
      },
      "text/plain": [
       "<IPython.core.display.JSON object>"
      ]
     },
     "metadata": {
      "application/json": {
       "expanded": false,
       "root": "root"
      }
     },
     "output_type": "display_data"
    }
   ],
   "source": [
    "# For Between 00:00 - 12:00 o'clock\n",
    "\n",
    "API_key = \"****************************************\"\n",
    "\n",
    "airport_icoa = \"EDDB\"\n",
    "tomorrow = tomorrow\n",
    "to_local_time = f\"{tomorrow}T00:00\"\n",
    "from_local_time = f\"{tomorrow}T12:00\"\n",
    "\n",
    "url = f\"https://aerodatabox.p.rapidapi.com/flights/airports/icao/{airport_icoa}/{to_local_time}/{from_local_time}\"\n",
    "\n",
    "querystring = {\"withLeg\":\"true\",\"direction\":\"Arrival\",\"withCancelled\":\"true\",\"withCodeshared\":\"true\",\"withCargo\":\"false\",\"withPrivate\":\"false\",\"withLocation\":\"false\"}\n",
    "\n",
    "headers = {\n",
    "\t\"X-RapidAPI-Host\": \"aerodatabox.p.rapidapi.com\",\n",
    "\t\"X-RapidAPI-Key\": API_key\n",
    "}\n",
    "\n",
    "response_am = requests.request(\"GET\", url, headers=headers, params=querystring)\n",
    "\n",
    "response_json_am = response_am.json()\n",
    "display(JSON(response_json_am))"
   ]
  },
  {
   "cell_type": "code",
   "execution_count": 103,
   "metadata": {},
   "outputs": [
    {
     "data": {
      "application/json": {
       "arrivals": [
        {
         "aircraft": {
          "model": "Boeing 737-800"
         },
         "airline": {
          "name": "Norwegian Air Shuttle"
         },
         "arrival": {
          "quality": [
           "Basic"
          ],
          "scheduledTimeLocal": "2022-04-07 12:05+02:00",
          "scheduledTimeUtc": "2022-04-07 10:05Z",
          "terminal": "1"
         },
         "codeshareStatus": "IsOperator",
         "departure": {
          "airport": {
           "iata": "BGO",
           "icao": "ENBR",
           "name": "Bergen"
          },
          "quality": [
           "Basic"
          ],
          "scheduledTimeLocal": "2022-04-07 10:25+02:00",
          "scheduledTimeUtc": "2022-04-07 08:25Z"
         },
         "isCargo": false,
         "number": "DY 1160",
         "status": "Unknown"
        },
        {
         "aircraft": {
          "model": "Airbus A321"
         },
         "airline": {
          "name": "Lufthansa"
         },
         "arrival": {
          "quality": [
           "Basic"
          ],
          "scheduledTimeLocal": "2022-04-07 12:05+02:00",
          "scheduledTimeUtc": "2022-04-07 10:05Z",
          "terminal": "1"
         },
         "codeshareStatus": "IsOperator",
         "departure": {
          "airport": {
           "iata": "MUC",
           "icao": "EDDM",
           "name": "Munich"
          },
          "quality": [
           "Basic"
          ],
          "scheduledTimeLocal": "2022-04-07 11:00+02:00",
          "scheduledTimeUtc": "2022-04-07 09:00Z",
          "terminal": "2"
         },
         "isCargo": false,
         "number": "LH 1936",
         "status": "Unknown"
        },
        {
         "aircraft": {
          "model": "Boeing 737-800"
         },
         "airline": {
          "name": "Ryanair"
         },
         "arrival": {
          "quality": [
           "Basic"
          ],
          "scheduledTimeLocal": "2022-04-07 12:10+02:00",
          "scheduledTimeUtc": "2022-04-07 10:10Z"
         },
         "codeshareStatus": "IsOperator",
         "departure": {
          "actualTimeLocal": "2022-04-07 10:15+03:00",
          "actualTimeUtc": "2022-04-07 07:15Z",
          "airport": {
           "iata": "ATH",
           "icao": "LGAV",
           "name": "Athens"
          },
          "checkInDesk": "48---50",
          "quality": [
           "Basic",
           "Live"
          ],
          "scheduledTimeLocal": "2022-04-07 10:15+03:00",
          "scheduledTimeUtc": "2022-04-07 07:15Z",
          "terminal": "D"
         },
         "isCargo": false,
         "number": "FR 171",
         "status": "Unknown"
        },
        {
         "aircraft": {
          "model": "Boeing 737-800"
         },
         "airline": {
          "name": "Ryanair"
         },
         "arrival": {
          "quality": [
           "Basic"
          ],
          "scheduledTimeLocal": "2022-04-07 12:10+02:00",
          "scheduledTimeUtc": "2022-04-07 10:10Z"
         },
         "codeshareStatus": "IsOperator",
         "departure": {
          "airport": {
           "iata": "OTP",
           "icao": "LROP",
           "name": "Bucharest"
          },
          "quality": [
           "Basic"
          ],
          "scheduledTimeLocal": "2022-04-07 11:00+03:00",
          "scheduledTimeUtc": "2022-04-07 08:00Z"
         },
         "isCargo": false,
         "number": "FR 315",
         "status": "Unknown"
        },
        {
         "aircraft": {
          "model": "Airbus A320"
         },
         "airline": {
          "name": "Pegasus"
         },
         "arrival": {
          "quality": [
           "Basic"
          ],
          "scheduledTimeLocal": "2022-04-07 12:10+02:00",
          "scheduledTimeUtc": "2022-04-07 10:10Z",
          "terminal": "0"
         },
         "codeshareStatus": "IsOperator",
         "departure": {
          "airport": {
           "iata": "SAW",
           "icao": "LTFJ",
           "name": "Istanbul"
          },
          "quality": [
           "Basic"
          ],
          "scheduledTimeLocal": "2022-04-07 10:10+03:00",
          "scheduledTimeUtc": "2022-04-07 07:10Z"
         },
         "isCargo": false,
         "number": "PC 979",
         "status": "Unknown"
        },
        {
         "aircraft": {
          "model": "Boeing 737-800"
         },
         "airline": {
          "name": "Ryanair"
         },
         "arrival": {
          "quality": [
           "Basic"
          ],
          "scheduledTimeLocal": "2022-04-07 12:15+02:00",
          "scheduledTimeUtc": "2022-04-07 10:15Z"
         },
         "codeshareStatus": "IsOperator",
         "departure": {
          "actualTimeLocal": "2022-04-07 09:40+02:00",
          "actualTimeUtc": "2022-04-07 07:40Z",
          "airport": {
           "iata": "PMI",
           "icao": "LEPA",
           "name": "Palma De Mallorca"
          },
          "quality": [
           "Basic",
           "Live"
          ],
          "scheduledTimeLocal": "2022-04-07 09:40+02:00",
          "scheduledTimeUtc": "2022-04-07 07:40Z"
         },
         "isCargo": false,
         "number": "FR 227",
         "status": "Unknown"
        },
        {
         "aircraft": {
          "model": "Airbus A320"
         },
         "airline": {
          "name": "easyJet"
         },
         "arrival": {
          "quality": [
           "Basic"
          ],
          "scheduledTimeLocal": "2022-04-07 12:20+02:00",
          "scheduledTimeUtc": "2022-04-07 10:20Z",
          "terminal": "1"
         },
         "codeshareStatus": "Unknown",
         "departure": {
          "airport": {
           "iata": "PMI",
           "icao": "LEPA",
           "name": "Palma De Mallorca"
          },
          "quality": [
           "Basic"
          ],
          "scheduledTimeLocal": "2022-04-07 09:25+02:00",
          "scheduledTimeUtc": "2022-04-07 07:25Z"
         },
         "isCargo": false,
         "number": "U2 5802",
         "status": "Unknown"
        },
        {
         "aircraft": {
          "model": "Boeing 737-800"
         },
         "airline": {
          "name": "Ryanair"
         },
         "arrival": {
          "quality": [
           "Basic"
          ],
          "scheduledTimeLocal": "2022-04-07 12:20+02:00",
          "scheduledTimeUtc": "2022-04-07 10:20Z"
         },
         "codeshareStatus": "IsOperator",
         "departure": {
          "actualTimeLocal": "2022-04-07 09:35+02:00",
          "actualTimeUtc": "2022-04-07 07:35Z",
          "airport": {
           "iata": "BCN",
           "icao": "LEBL",
           "name": "Barcelona"
          },
          "quality": [
           "Basic",
           "Live"
          ],
          "scheduledTimeLocal": "2022-04-07 09:35+02:00",
          "scheduledTimeUtc": "2022-04-07 07:35Z",
          "terminal": "2"
         },
         "isCargo": false,
         "number": "FR 133",
         "status": "Unknown"
        },
        {
         "aircraft": {
          "model": "Boeing 737-800"
         },
         "airline": {
          "name": "Ryanair"
         },
         "arrival": {
          "quality": [
           "Basic"
          ],
          "scheduledTimeLocal": "2022-04-07 12:25+02:00",
          "scheduledTimeUtc": "2022-04-07 10:25Z"
         },
         "codeshareStatus": "IsOperator",
         "departure": {
          "airport": {
           "iata": "CTA",
           "icao": "LICC",
           "name": "Catania"
          },
          "quality": [
           "Basic"
          ],
          "scheduledTimeLocal": "2022-04-07 09:40+02:00",
          "scheduledTimeUtc": "2022-04-07 07:40Z"
         },
         "isCargo": false,
         "number": "FR 1577",
         "status": "Unknown"
        },
        {
         "aircraft": {
          "model": "Boeing 737"
         },
         "airline": {
          "name": "SunExpress"
         },
         "arrival": {
          "quality": [
           "Basic"
          ],
          "scheduledTimeLocal": "2022-04-07 12:35+02:00",
          "scheduledTimeUtc": "2022-04-07 10:35Z",
          "terminal": "1"
         },
         "codeshareStatus": "IsOperator",
         "departure": {
          "airport": {
           "iata": "AYT",
           "icao": "LTAI",
           "name": "Antalya"
          },
          "quality": [
           "Basic"
          ],
          "scheduledTimeLocal": "2022-04-07 11:00+03:00",
          "scheduledTimeUtc": "2022-04-07 08:00Z",
          "terminal": "1"
         },
         "isCargo": false,
         "number": "XQ 160",
         "status": "Unknown"
        },
        {
         "aircraft": {
          "model": "Airbus A320"
         },
         "airline": {
          "name": "easyJet"
         },
         "arrival": {
          "quality": [
           "Basic"
          ],
          "scheduledTimeLocal": "2022-04-07 12:50+02:00",
          "scheduledTimeUtc": "2022-04-07 10:50Z",
          "terminal": "1"
         },
         "codeshareStatus": "Unknown",
         "departure": {
          "airport": {
           "iata": "PRN",
           "icao": "BKPR",
           "name": "Prishtina"
          },
          "quality": [
           "Basic"
          ],
          "scheduledTimeLocal": "2022-04-07 10:30+02:00",
          "scheduledTimeUtc": "2022-04-07 08:30Z"
         },
         "isCargo": false,
         "number": "U2 4580",
         "status": "Unknown"
        },
        {
         "aircraft": {
          "model": "Airbus A319"
         },
         "airline": {
          "name": "easyJet"
         },
         "arrival": {
          "quality": [
           "Basic"
          ],
          "scheduledTimeLocal": "2022-04-07 12:50+02:00",
          "scheduledTimeUtc": "2022-04-07 10:50Z",
          "terminal": "1"
         },
         "codeshareStatus": "Unknown",
         "departure": {
          "airport": {
           "iata": "CDG",
           "icao": "LFPG",
           "name": "Paris"
          },
          "quality": [
           "Basic"
          ],
          "scheduledTimeLocal": "2022-04-07 11:00+02:00",
          "scheduledTimeUtc": "2022-04-07 09:00Z",
          "terminal": "2D"
         },
         "isCargo": false,
         "number": "U2 5668",
         "status": "Unknown"
        },
        {
         "aircraft": {
          "model": "Boeing 787-9"
         },
         "airline": {
          "name": "Qatar Airways"
         },
         "arrival": {
          "quality": [
           "Basic"
          ],
          "scheduledTimeLocal": "2022-04-07 12:55+02:00",
          "scheduledTimeUtc": "2022-04-07 10:55Z",
          "terminal": "1"
         },
         "codeshareStatus": "Unknown",
         "departure": {
          "airport": {
           "iata": "DOH",
           "icao": "OTHH",
           "name": "Doha"
          },
          "quality": [
           "Basic"
          ],
          "scheduledTimeLocal": "2022-04-07 07:50+03:00",
          "scheduledTimeUtc": "2022-04-07 04:50Z"
         },
         "isCargo": false,
         "number": "QR 81",
         "status": "Unknown"
        },
        {
         "aircraft": {
          "model": "Airbus A320"
         },
         "airline": {
          "name": "Lufthansa"
         },
         "arrival": {
          "quality": [
           "Basic"
          ],
          "scheduledTimeLocal": "2022-04-07 12:55+02:00",
          "scheduledTimeUtc": "2022-04-07 10:55Z",
          "terminal": "1"
         },
         "codeshareStatus": "IsOperator",
         "departure": {
          "actualTimeLocal": "2022-04-07 11:45+02:00",
          "actualTimeUtc": "2022-04-07 09:45Z",
          "airport": {
           "iata": "FRA",
           "icao": "EDDF",
           "name": "Frankfurt-am-Main"
          },
          "quality": [
           "Basic",
           "Live"
          ],
          "scheduledTimeLocal": "2022-04-07 11:45+02:00",
          "scheduledTimeUtc": "2022-04-07 09:45Z",
          "terminal": "1"
         },
         "isCargo": false,
         "number": "LH 182",
         "status": "Unknown"
        },
        {
         "aircraft": {
          "model": "Airbus A320"
         },
         "airline": {
          "name": "easyJet"
         },
         "arrival": {
          "quality": [
           "Basic"
          ],
          "scheduledTimeLocal": "2022-04-07 12:55+02:00",
          "scheduledTimeUtc": "2022-04-07 10:55Z",
          "terminal": "1"
         },
         "codeshareStatus": "IsOperator",
         "departure": {
          "airport": {
           "iata": "EDI",
           "icao": "EGPH",
           "name": "Edinburgh"
          },
          "quality": [
           "Basic"
          ],
          "scheduledTimeLocal": "2022-04-07 09:50+01:00",
          "scheduledTimeUtc": "2022-04-07 08:50Z"
         },
         "isCargo": false,
         "number": "U2 5548",
         "status": "Unknown"
        },
        {
         "aircraft": {
          "model": "Boeing 737-800"
         },
         "airline": {
          "name": "Ryanair"
         },
         "arrival": {
          "quality": [
           "Basic"
          ],
          "scheduledTimeLocal": "2022-04-07 13:05+02:00",
          "scheduledTimeUtc": "2022-04-07 11:05Z",
          "terminal": "0"
         },
         "codeshareStatus": "Unknown",
         "departure": {
          "airport": {
           "iata": "RAK",
           "icao": "GMMX",
           "name": "Marrakech"
          },
          "quality": [
           "Basic"
          ],
          "scheduledTimeLocal": "2022-04-07 06:00+00:00",
          "scheduledTimeUtc": "2022-04-07 06:00Z",
          "terminal": "1"
         },
         "isCargo": false,
         "number": "FR 5475",
         "status": "Unknown"
        },
        {
         "aircraft": {
          "model": "Airbus A320"
         },
         "airline": {
          "name": "Lufthansa"
         },
         "arrival": {
          "quality": [
           "Basic"
          ],
          "scheduledTimeLocal": "2022-04-07 13:05+02:00",
          "scheduledTimeUtc": "2022-04-07 11:05Z",
          "terminal": "1"
         },
         "codeshareStatus": "IsOperator",
         "departure": {
          "airport": {
           "iata": "MUC",
           "icao": "EDDM",
           "name": "Munich"
          },
          "quality": [
           "Basic"
          ],
          "scheduledTimeLocal": "2022-04-07 12:00+02:00",
          "scheduledTimeUtc": "2022-04-07 10:00Z",
          "terminal": "2"
         },
         "isCargo": false,
         "number": "LH 1938",
         "status": "Unknown"
        },
        {
         "aircraft": {
          "model": "Boeing 737"
         },
         "airline": {
          "name": "Icelandair"
         },
         "arrival": {
          "quality": [
           "Basic"
          ],
          "scheduledTimeLocal": "2022-04-07 13:10+02:00",
          "scheduledTimeUtc": "2022-04-07 11:10Z",
          "terminal": "1"
         },
         "codeshareStatus": "IsOperator",
         "departure": {
          "airport": {
           "iata": "KEF",
           "icao": "BIKF",
           "name": "Reykjavik"
          },
          "quality": [
           "Basic"
          ],
          "scheduledTimeLocal": "2022-04-07 07:40+00:00",
          "scheduledTimeUtc": "2022-04-07 07:40Z"
         },
         "isCargo": false,
         "number": "FI 528",
         "status": "Unknown"
        },
        {
         "aircraft": {
          "model": "Boeing 737-800"
         },
         "airline": {
          "name": "Ryanair"
         },
         "arrival": {
          "quality": [
           "Basic"
          ],
          "scheduledTimeLocal": "2022-04-07 13:15+02:00",
          "scheduledTimeUtc": "2022-04-07 11:15Z"
         },
         "codeshareStatus": "Unknown",
         "departure": {
          "airport": {
           "iata": "CHQ",
           "icao": "LGSA",
           "name": "Souda"
          },
          "quality": [
           "Basic"
          ],
          "scheduledTimeLocal": "2022-04-07 11:05+03:00",
          "scheduledTimeUtc": "2022-04-07 08:05Z"
         },
         "isCargo": false,
         "number": "FR 5642",
         "status": "Unknown"
        },
        {
         "aircraft": {
          "model": "Boeing 737-800"
         },
         "airline": {
          "name": "Ryanair"
         },
         "arrival": {
          "quality": [
           "Basic"
          ],
          "scheduledTimeLocal": "2022-04-07 13:25+02:00",
          "scheduledTimeUtc": "2022-04-07 11:25Z"
         },
         "codeshareStatus": "Unknown",
         "departure": {
          "airport": {
           "iata": "MRS",
           "icao": "LFML",
           "name": "Marseille"
          },
          "quality": [
           "Basic"
          ],
          "scheduledTimeLocal": "2022-04-07 11:20+02:00",
          "scheduledTimeUtc": "2022-04-07 09:20Z"
         },
         "isCargo": false,
         "number": "FR 8950",
         "status": "Unknown"
        },
        {
         "aircraft": {
          "model": "Airbus A320 NEO"
         },
         "airline": {
          "name": "British Airways"
         },
         "arrival": {
          "quality": [
           "Basic"
          ],
          "scheduledTimeLocal": "2022-04-07 13:40+02:00",
          "scheduledTimeUtc": "2022-04-07 11:40Z",
          "terminal": "1"
         },
         "codeshareStatus": "IsOperator",
         "departure": {
          "actualTimeLocal": "2022-04-07 10:45+01:00",
          "actualTimeUtc": "2022-04-07 09:45Z",
          "airport": {
           "iata": "LHR",
           "icao": "EGLL",
           "name": "London"
          },
          "checkInDesk": "C",
          "quality": [
           "Basic",
           "Live"
          ],
          "scheduledTimeLocal": "2022-04-07 10:45+01:00",
          "scheduledTimeUtc": "2022-04-07 09:45Z",
          "terminal": "5"
         },
         "isCargo": false,
         "number": "BA 992",
         "status": "Unknown"
        },
        {
         "aircraft": {
          "modeS": "486491",
          "model": "Boeing 737-800",
          "reg": "PH-NXH"
         },
         "airline": {
          "name": "KLM"
         },
         "arrival": {
          "quality": [
           "Basic"
          ],
          "scheduledTimeLocal": "2022-04-07 13:45+02:00",
          "scheduledTimeUtc": "2022-04-07 11:45Z",
          "terminal": "1"
         },
         "codeshareStatus": "IsOperator",
         "departure": {
          "airport": {
           "iata": "AMS",
           "icao": "EHAM",
           "name": "Amsterdam"
          },
          "checkInDesk": "6-8",
          "quality": [
           "Basic"
          ],
          "scheduledTimeLocal": "2022-04-07 12:30+02:00",
          "scheduledTimeUtc": "2022-04-07 10:30Z",
          "terminal": "1"
         },
         "isCargo": false,
         "number": "KL 1825",
         "status": "Unknown"
        },
        {
         "aircraft": {
          "model": "Boeing 737-800"
         },
         "airline": {
          "name": "Ryanair"
         },
         "arrival": {
          "quality": [
           "Basic"
          ],
          "scheduledTimeLocal": "2022-04-07 13:50+02:00",
          "scheduledTimeUtc": "2022-04-07 11:50Z",
          "terminal": "0"
         },
         "codeshareStatus": "Unknown",
         "departure": {
          "airport": {
           "iata": "VNO",
           "icao": "EYVI",
           "name": "Vilnius"
          },
          "quality": [
           "Basic"
          ],
          "scheduledTimeLocal": "2022-04-07 13:10+03:00",
          "scheduledTimeUtc": "2022-04-07 10:10Z"
         },
         "isCargo": false,
         "number": "FR 1571",
         "status": "Unknown"
        },
        {
         "aircraft": {
          "model": "Boeing 737-800"
         },
         "airline": {
          "name": "Ryanair"
         },
         "arrival": {
          "quality": [
           "Basic"
          ],
          "scheduledTimeLocal": "2022-04-07 13:55+02:00",
          "scheduledTimeUtc": "2022-04-07 11:55Z"
         },
         "codeshareStatus": "Unknown",
         "departure": {
          "airport": {
           "iata": "PFO",
           "icao": "LCPH",
           "name": "Paphos"
          },
          "quality": [
           "Basic"
          ],
          "scheduledTimeLocal": "2022-04-07 11:05+03:00",
          "scheduledTimeUtc": "2022-04-07 08:05Z"
         },
         "isCargo": false,
         "number": "FR 354",
         "status": "Unknown"
        },
        {
         "aircraft": {
          "model": "Airbus A321"
         },
         "airline": {
          "name": "Lufthansa"
         },
         "arrival": {
          "quality": [
           "Basic"
          ],
          "scheduledTimeLocal": "2022-04-07 13:55+02:00",
          "scheduledTimeUtc": "2022-04-07 11:55Z",
          "terminal": "1"
         },
         "codeshareStatus": "Unknown",
         "departure": {
          "actualTimeLocal": "2022-04-07 12:45+02:00",
          "actualTimeUtc": "2022-04-07 10:45Z",
          "airport": {
           "iata": "FRA",
           "icao": "EDDF",
           "name": "Frankfurt-am-Main"
          },
          "quality": [
           "Basic",
           "Live"
          ],
          "scheduledTimeLocal": "2022-04-07 12:45+02:00",
          "scheduledTimeUtc": "2022-04-07 10:45Z",
          "terminal": "1"
         },
         "isCargo": false,
         "number": "LH 184",
         "status": "Unknown"
        },
        {
         "aircraft": {
          "model": "Boeing 737-800"
         },
         "airline": {
          "name": "Ryanair"
         },
         "arrival": {
          "quality": [
           "Basic"
          ],
          "scheduledTimeLocal": "2022-04-07 13:55+02:00",
          "scheduledTimeUtc": "2022-04-07 11:55Z"
         },
         "codeshareStatus": "IsOperator",
         "departure": {
          "actualTimeLocal": "2022-04-07 11:10+02:00",
          "actualTimeUtc": "2022-04-07 09:10Z",
          "airport": {
           "iata": "PMI",
           "icao": "LEPA",
           "name": "Palma De Mallorca"
          },
          "quality": [
           "Basic",
           "Live"
          ],
          "scheduledTimeLocal": "2022-04-07 11:10+02:00",
          "scheduledTimeUtc": "2022-04-07 09:10Z"
         },
         "isCargo": false,
         "number": "FR 2146",
         "status": "Unknown"
        },
        {
         "aircraft": {
          "model": "Boeing 737-800"
         },
         "airline": {
          "name": "Ryanair"
         },
         "arrival": {
          "quality": [
           "Basic"
          ],
          "scheduledTimeLocal": "2022-04-07 14:00+02:00",
          "scheduledTimeUtc": "2022-04-07 12:00Z"
         },
         "codeshareStatus": "IsOperator",
         "departure": {
          "airport": {
           "name": "Bologna"
          },
          "quality": []
         },
         "isCargo": false,
         "number": "FR 137",
         "status": "Unknown"
        },
        {
         "aircraft": {
          "model": "Airbus A321"
         },
         "airline": {
          "name": "Turkish"
         },
         "arrival": {
          "quality": [
           "Basic"
          ],
          "scheduledTimeLocal": "2022-04-07 14:05+02:00",
          "scheduledTimeUtc": "2022-04-07 12:05Z",
          "terminal": "1"
         },
         "codeshareStatus": "Unknown",
         "departure": {
          "airport": {
           "iata": "IST",
           "icao": "LTFM",
           "name": "Istanbul"
          },
          "quality": [
           "Basic"
          ],
          "scheduledTimeLocal": "2022-04-07 12:10+03:00",
          "scheduledTimeUtc": "2022-04-07 09:10Z"
         },
         "isCargo": false,
         "number": "TK 1725",
         "status": "Unknown"
        },
        {
         "aircraft": {
          "model": "Airbus A321"
         },
         "airline": {
          "name": "SWISS"
         },
         "arrival": {
          "quality": [
           "Basic"
          ],
          "scheduledTimeLocal": "2022-04-07 14:10+02:00",
          "scheduledTimeUtc": "2022-04-07 12:10Z",
          "terminal": "1"
         },
         "codeshareStatus": "IsOperator",
         "departure": {
          "actualTimeLocal": "2022-04-07 12:45+02:00",
          "actualTimeUtc": "2022-04-07 10:45Z",
          "airport": {
           "iata": "ZRH",
           "icao": "LSZH",
           "name": "Zurich"
          },
          "checkInDesk": "1",
          "quality": [
           "Basic",
           "Live"
          ],
          "scheduledTimeLocal": "2022-04-07 12:45+02:00",
          "scheduledTimeUtc": "2022-04-07 10:45Z"
         },
         "isCargo": false,
         "number": "LX 966",
         "status": "Unknown"
        },
        {
         "aircraft": {
          "model": "Airbus A320"
         },
         "airline": {
          "name": "easyJet"
         },
         "arrival": {
          "quality": [
           "Basic"
          ],
          "scheduledTimeLocal": "2022-04-07 14:15+02:00",
          "scheduledTimeUtc": "2022-04-07 12:15Z",
          "terminal": "1"
         },
         "codeshareStatus": "Unknown",
         "departure": {
          "airport": {
           "iata": "KGS",
           "icao": "LGKO",
           "name": "Kos Island"
          },
          "quality": [
           "Basic"
          ],
          "scheduledTimeLocal": "2022-04-07 11:55+03:00",
          "scheduledTimeUtc": "2022-04-07 08:55Z"
         },
         "isCargo": false,
         "number": "U2 5790",
         "status": "Unknown"
        },
        {
         "aircraft": {
          "model": "Airbus A320"
         },
         "airline": {
          "name": "Austrian"
         },
         "arrival": {
          "quality": [
           "Basic"
          ],
          "scheduledTimeLocal": "2022-04-07 14:20+02:00",
          "scheduledTimeUtc": "2022-04-07 12:20Z",
          "terminal": "1"
         },
         "codeshareStatus": "IsOperator",
         "departure": {
          "airport": {
           "iata": "VIE",
           "icao": "LOWW",
           "name": "Vienna"
          },
          "quality": [
           "Basic"
          ],
          "scheduledTimeLocal": "2022-04-07 13:05+02:00",
          "scheduledTimeUtc": "2022-04-07 11:05Z",
          "terminal": "3"
         },
         "isCargo": false,
         "number": "OS 229",
         "status": "Unknown"
        },
        {
         "aircraft": {
          "model": "Airbus A320"
         },
         "airline": {
          "name": "easyJet"
         },
         "arrival": {
          "quality": [
           "Basic"
          ],
          "scheduledTimeLocal": "2022-04-07 14:25+02:00",
          "scheduledTimeUtc": "2022-04-07 12:25Z",
          "terminal": "1"
         },
         "codeshareStatus": "Unknown",
         "departure": {
          "airport": {
           "iata": "AGP",
           "icao": "LEMG",
           "name": "Málaga"
          },
          "quality": [
           "Basic"
          ],
          "scheduledTimeLocal": "2022-04-07 10:45+02:00",
          "scheduledTimeUtc": "2022-04-07 08:45Z"
         },
         "isCargo": false,
         "number": "U2 4522",
         "status": "Unknown"
        },
        {
         "aircraft": {
          "model": "Airbus A319"
         },
         "airline": {
          "name": "Royal Jordanian"
         },
         "arrival": {
          "quality": [
           "Basic"
          ],
          "scheduledTimeLocal": "2022-04-07 14:25+02:00",
          "scheduledTimeUtc": "2022-04-07 12:25Z",
          "terminal": "1"
         },
         "codeshareStatus": "IsOperator",
         "departure": {
          "airport": {
           "iata": "AMM",
           "icao": "OJAI",
           "name": "Amman"
          },
          "quality": [
           "Basic"
          ],
          "scheduledTimeLocal": "2022-04-07 10:55+03:00",
          "scheduledTimeUtc": "2022-04-07 07:55Z"
         },
         "isCargo": false,
         "number": "RJ 121",
         "status": "Unknown"
        },
        {
         "aircraft": {
          "model": "Airbus A320 NEO"
         },
         "airline": {
          "name": "SAS"
         },
         "arrival": {
          "quality": [
           "Basic"
          ],
          "scheduledTimeLocal": "2022-04-07 14:25+02:00",
          "scheduledTimeUtc": "2022-04-07 12:25Z",
          "terminal": "1"
         },
         "codeshareStatus": "IsOperator",
         "departure": {
          "airport": {
           "iata": "CPH",
           "icao": "EKCH",
           "name": "Copenhagen"
          },
          "quality": [
           "Basic"
          ],
          "scheduledTimeLocal": "2022-04-07 13:30+02:00",
          "scheduledTimeUtc": "2022-04-07 11:30Z",
          "terminal": "3"
         },
         "isCargo": false,
         "number": "SK 1673",
         "status": "Unknown"
        },
        {
         "aircraft": {
          "model": "Airbus A320"
         },
         "airline": {
          "name": "easyJet"
         },
         "arrival": {
          "quality": [
           "Basic"
          ],
          "scheduledTimeLocal": "2022-04-07 14:35+02:00",
          "scheduledTimeUtc": "2022-04-07 12:35Z",
          "terminal": "1"
         },
         "codeshareStatus": "Unknown",
         "departure": {
          "airport": {
           "iata": "MRS",
           "icao": "LFML",
           "name": "Marseille"
          },
          "quality": [
           "Basic"
          ],
          "scheduledTimeLocal": "2022-04-07 12:25+02:00",
          "scheduledTimeUtc": "2022-04-07 10:25Z",
          "terminal": "2"
         },
         "isCargo": false,
         "number": "U2 4548",
         "status": "Unknown"
        },
        {
         "aircraft": {
          "model": "Airbus A320 NEO"
         },
         "airline": {
          "name": "EgyptAir"
         },
         "arrival": {
          "quality": [
           "Basic"
          ],
          "scheduledTimeLocal": "2022-04-07 14:45+02:00",
          "scheduledTimeUtc": "2022-04-07 12:45Z",
          "terminal": "1"
         },
         "codeshareStatus": "IsOperator",
         "departure": {
          "airport": {
           "iata": "CAI",
           "icao": "HECA",
           "name": "Cairo"
          },
          "quality": [
           "Basic"
          ],
          "scheduledTimeLocal": "2022-04-07 10:35+02:00",
          "scheduledTimeUtc": "2022-04-07 08:35Z",
          "terminal": "2"
         },
         "isCargo": false,
         "number": "MS 731",
         "status": "Unknown"
        },
        {
         "aircraft": {
          "model": "Airbus A320"
         },
         "airline": {
          "name": "easyJet"
         },
         "arrival": {
          "quality": [
           "Basic"
          ],
          "scheduledTimeLocal": "2022-04-07 14:55+02:00",
          "scheduledTimeUtc": "2022-04-07 12:55Z",
          "terminal": "1"
         },
         "codeshareStatus": "Unknown",
         "departure": {
          "airport": {
           "iata": "BCN",
           "icao": "LEBL",
           "name": "Barcelona"
          },
          "quality": [
           "Basic"
          ],
          "scheduledTimeLocal": "2022-04-07 12:05+02:00",
          "scheduledTimeUtc": "2022-04-07 10:05Z",
          "terminal": "2"
         },
         "isCargo": false,
         "number": "U2 4530",
         "status": "Unknown"
        },
        {
         "aircraft": {
          "model": "Airbus A320"
         },
         "airline": {
          "name": "easyJet"
         },
         "arrival": {
          "quality": [
           "Basic"
          ],
          "scheduledTimeLocal": "2022-04-07 15:05+02:00",
          "scheduledTimeUtc": "2022-04-07 13:05Z",
          "terminal": "1"
         },
         "codeshareStatus": "IsOperator",
         "departure": {
          "airport": {
           "iata": "CPH",
           "icao": "EKCH",
           "name": "Copenhagen"
          },
          "quality": [
           "Basic"
          ],
          "scheduledTimeLocal": "2022-04-07 14:00+02:00",
          "scheduledTimeUtc": "2022-04-07 12:00Z",
          "terminal": "2"
         },
         "isCargo": false,
         "number": "U2 5684",
         "status": "Unknown"
        },
        {
         "aircraft": {
          "model": "Boeing 737-800"
         },
         "airline": {
          "name": "Norwegian Air International"
         },
         "arrival": {
          "quality": [
           "Basic"
          ],
          "scheduledTimeLocal": "2022-04-07 15:15+02:00",
          "scheduledTimeUtc": "2022-04-07 13:15Z",
          "terminal": "1"
         },
         "callSign": "NSZ4505",
         "codeshareStatus": "IsOperator",
         "departure": {
          "actualTimeLocal": "2022-04-07 13:40+02:00",
          "actualTimeUtc": "2022-04-07 11:40Z",
          "airport": {
           "iata": "ARN",
           "icao": "ESSA",
           "name": "Stockholm"
          },
          "checkInDesk": "10-17",
          "quality": [
           "Basic",
           "Live"
          ],
          "scheduledTimeLocal": "2022-04-07 13:40+02:00",
          "scheduledTimeUtc": "2022-04-07 11:40Z",
          "terminal": "5"
         },
         "isCargo": false,
         "number": "D8 4505",
         "status": "Unknown"
        },
        {
         "aircraft": {
          "model": "Boeing 737-800"
         },
         "airline": {
          "name": "Ryanair"
         },
         "arrival": {
          "quality": [
           "Basic"
          ],
          "scheduledTimeLocal": "2022-04-07 15:20+02:00",
          "scheduledTimeUtc": "2022-04-07 13:20Z"
         },
         "codeshareStatus": "IsOperator",
         "departure": {
          "airport": {
           "iata": "TLL",
           "icao": "EETN",
           "name": "Tallinn"
          },
          "quality": [
           "Basic"
          ],
          "scheduledTimeLocal": "2022-04-07 14:25+03:00",
          "scheduledTimeUtc": "2022-04-07 11:25Z"
         },
         "isCargo": false,
         "number": "FR 2733",
         "status": "Unknown"
        },
        {
         "aircraft": {
          "model": "Airbus A321"
         },
         "airline": {
          "name": "Pegasus"
         },
         "arrival": {
          "quality": [
           "Basic"
          ],
          "scheduledTimeLocal": "2022-04-07 15:30+02:00",
          "scheduledTimeUtc": "2022-04-07 13:30Z",
          "terminal": "0"
         },
         "codeshareStatus": "IsOperator",
         "departure": {
          "airport": {
           "iata": "SAW",
           "icao": "LTFJ",
           "name": "Istanbul"
          },
          "quality": [
           "Basic"
          ],
          "scheduledTimeLocal": "2022-04-07 13:30+03:00",
          "scheduledTimeUtc": "2022-04-07 10:30Z"
         },
         "isCargo": false,
         "number": "PC 977",
         "status": "Unknown"
        },
        {
         "aircraft": {
          "model": "Airbus A319"
         },
         "airline": {
          "name": "Eurowings"
         },
         "arrival": {
          "quality": [
           "Basic"
          ],
          "scheduledTimeLocal": "2022-04-07 15:40+02:00",
          "scheduledTimeUtc": "2022-04-07 13:40Z",
          "terminal": "1"
         },
         "codeshareStatus": "IsOperator",
         "departure": {
          "airport": {
           "iata": "CGN",
           "icao": "EDDK",
           "name": "Cologne"
          },
          "quality": [
           "Basic"
          ],
          "scheduledTimeLocal": "2022-04-07 14:30+02:00",
          "scheduledTimeUtc": "2022-04-07 12:30Z",
          "terminal": "1"
         },
         "isCargo": false,
         "number": "EW 50",
         "status": "Unknown"
        },
        {
         "aircraft": {
          "model": "Airbus A220-300"
         },
         "airline": {
          "name": "Air Baltic"
         },
         "arrival": {
          "quality": [
           "Basic"
          ],
          "scheduledTimeLocal": "2022-04-07 15:50+02:00",
          "scheduledTimeUtc": "2022-04-07 13:50Z",
          "terminal": "1"
         },
         "codeshareStatus": "IsOperator",
         "departure": {
          "airport": {
           "iata": "TLL",
           "icao": "EETN",
           "name": "Tallinn"
          },
          "quality": [
           "Basic"
          ],
          "scheduledTimeLocal": "2022-04-07 15:00+03:00",
          "scheduledTimeUtc": "2022-04-07 12:00Z"
         },
         "isCargo": false,
         "number": "BT 821",
         "status": "Unknown"
        },
        {
         "aircraft": {
          "model": "Airbus A320"
         },
         "airline": {
          "name": "Eurowings"
         },
         "arrival": {
          "quality": [
           "Basic"
          ],
          "scheduledTimeLocal": "2022-04-07 15:50+02:00",
          "scheduledTimeUtc": "2022-04-07 13:50Z",
          "terminal": "1"
         },
         "codeshareStatus": "IsOperator",
         "departure": {
          "actualTimeLocal": "2022-04-07 14:35+02:00",
          "actualTimeUtc": "2022-04-07 12:35Z",
          "airport": {
           "iata": "STR",
           "icao": "EDDS",
           "name": "Stuttgart"
          },
          "quality": [
           "Basic",
           "Live"
          ],
          "scheduledTimeLocal": "2022-04-07 14:35+02:00",
          "scheduledTimeUtc": "2022-04-07 12:35Z",
          "terminal": "1"
         },
         "isCargo": false,
         "number": "EW 2018",
         "status": "Unknown"
        },
        {
         "aircraft": {
          "model": "Airbus A321"
         },
         "airline": {
          "name": "Lufthansa"
         },
         "arrival": {
          "quality": [
           "Basic"
          ],
          "scheduledTimeLocal": "2022-04-07 15:55+02:00",
          "scheduledTimeUtc": "2022-04-07 13:55Z",
          "terminal": "1"
         },
         "codeshareStatus": "IsOperator",
         "departure": {
          "actualTimeLocal": "2022-04-07 14:45+02:00",
          "actualTimeUtc": "2022-04-07 12:45Z",
          "airport": {
           "iata": "FRA",
           "icao": "EDDF",
           "name": "Frankfurt-am-Main"
          },
          "quality": [
           "Basic",
           "Live"
          ],
          "scheduledTimeLocal": "2022-04-07 14:45+02:00",
          "scheduledTimeUtc": "2022-04-07 12:45Z",
          "terminal": "1"
         },
         "isCargo": false,
         "number": "LH 188",
         "status": "Unknown"
        },
        {
         "aircraft": {
          "model": "Embraer 190"
         },
         "airline": {
          "name": "British Airways"
         },
         "arrival": {
          "quality": [
           "Basic"
          ],
          "scheduledTimeLocal": "2022-04-07 15:55+02:00",
          "scheduledTimeUtc": "2022-04-07 13:55Z",
          "terminal": "1"
         },
         "codeshareStatus": "IsCodeshared",
         "departure": {
          "airport": {
           "iata": "LCY",
           "icao": "EGLC",
           "name": "London"
          },
          "quality": [
           "Basic"
          ],
          "scheduledTimeLocal": "2022-04-07 13:15+01:00",
          "scheduledTimeUtc": "2022-04-07 12:15Z"
         },
         "isCargo": false,
         "number": "BA 8493",
         "status": "Unknown"
        },
        {
         "aircraft": {
          "model": "Boeing 737-800"
         },
         "airline": {
          "name": "Ryanair"
         },
         "arrival": {
          "quality": [
           "Basic"
          ],
          "scheduledTimeLocal": "2022-04-07 16:00+02:00",
          "scheduledTimeUtc": "2022-04-07 14:00Z"
         },
         "codeshareStatus": "Unknown",
         "departure": {
          "airport": {
           "iata": "TGD",
           "icao": "LYPG",
           "name": "Podgorica"
          },
          "quality": [
           "Basic"
          ],
          "scheduledTimeLocal": "2022-04-07 13:55+02:00",
          "scheduledTimeUtc": "2022-04-07 11:55Z"
         },
         "isCargo": false,
         "number": "FR 1579",
         "status": "Unknown"
        },
        {
         "aircraft": {
          "model": "Airbus A320"
         },
         "airline": {
          "name": "easyJet"
         },
         "arrival": {
          "quality": [
           "Basic"
          ],
          "scheduledTimeLocal": "2022-04-07 16:00+02:00",
          "scheduledTimeUtc": "2022-04-07 14:00Z",
          "terminal": "1"
         },
         "codeshareStatus": "Unknown",
         "departure": {
          "airport": {
           "iata": "SKG",
           "icao": "LGTS",
           "name": "Thessaloniki"
          },
          "quality": [
           "Basic"
          ],
          "scheduledTimeLocal": "2022-04-07 14:30+03:00",
          "scheduledTimeUtc": "2022-04-07 11:30Z"
         },
         "isCargo": false,
         "number": "U2 4606",
         "status": "Unknown"
        },
        {
         "aircraft": {
          "model": "Airbus A320 NEO"
         },
         "airline": {
          "name": "British Airways"
         },
         "arrival": {
          "quality": [
           "Basic"
          ],
          "scheduledTimeLocal": "2022-04-07 16:00+02:00",
          "scheduledTimeUtc": "2022-04-07 14:00Z",
          "terminal": "1"
         },
         "codeshareStatus": "IsOperator",
         "departure": {
          "actualTimeLocal": "2022-04-07 13:10+01:00",
          "actualTimeUtc": "2022-04-07 12:10Z",
          "airport": {
           "iata": "LHR",
           "icao": "EGLL",
           "name": "London"
          },
          "checkInDesk": "C",
          "quality": [
           "Basic",
           "Live"
          ],
          "scheduledTimeLocal": "2022-04-07 13:10+01:00",
          "scheduledTimeUtc": "2022-04-07 12:10Z",
          "terminal": "5"
         },
         "isCargo": false,
         "number": "BA 984",
         "status": "Unknown"
        },
        {
         "aircraft": {
          "model": "Airbus A319"
         },
         "airline": {
          "name": "Eurowings"
         },
         "arrival": {
          "quality": [
           "Basic"
          ],
          "scheduledTimeLocal": "2022-04-07 16:00+02:00",
          "scheduledTimeUtc": "2022-04-07 14:00Z",
          "terminal": "1"
         },
         "callSign": "GWI4ZU",
         "codeshareStatus": "IsOperator",
         "departure": {
          "actualTimeLocal": "2022-04-07 14:45+02:00",
          "actualTimeUtc": "2022-04-07 12:45Z",
          "airport": {
           "iata": "DUS",
           "icao": "EDDL",
           "name": "Duesseldorf"
          },
          "checkInDesk": "153,170",
          "gate": "A30",
          "quality": [
           "Basic",
           "Live"
          ],
          "scheduledTimeLocal": "2022-04-07 14:45+02:00",
          "scheduledTimeUtc": "2022-04-07 12:45Z",
          "terminal": "B"
         },
         "isCargo": false,
         "number": "EW 9042",
         "status": "Unknown"
        },
        {
         "aircraft": {
          "model": "Airbus A320"
         },
         "airline": {
          "name": "easyJet"
         },
         "arrival": {
          "quality": [
           "Basic"
          ],
          "scheduledTimeLocal": "2022-04-07 16:00+02:00",
          "scheduledTimeUtc": "2022-04-07 14:00Z",
          "terminal": "1"
         },
         "codeshareStatus": "IsOperator",
         "departure": {
          "airport": {
           "iata": "RHO",
           "icao": "LGRP",
           "name": "Rodes Island"
          },
          "quality": [
           "Basic"
          ],
          "scheduledTimeLocal": "2022-04-07 13:25+03:00",
          "scheduledTimeUtc": "2022-04-07 10:25Z"
         },
         "isCargo": false,
         "number": "U2 5690",
         "status": "Unknown"
        },
        {
         "aircraft": {
          "model": "Airbus A320"
         },
         "airline": {
          "name": "easyJet"
         },
         "arrival": {
          "quality": [
           "Basic"
          ],
          "scheduledTimeLocal": "2022-04-07 16:00+02:00",
          "scheduledTimeUtc": "2022-04-07 14:00Z",
          "terminal": "1"
         },
         "codeshareStatus": "IsOperator",
         "departure": {
          "airport": {
           "iata": "BRS",
           "icao": "EGGD",
           "name": "Bristol"
          },
          "quality": [
           "Basic"
          ],
          "scheduledTimeLocal": "2022-04-07 13:00+01:00",
          "scheduledTimeUtc": "2022-04-07 12:00Z"
         },
         "isCargo": false,
         "number": "U2 6237",
         "status": "Unknown"
        },
        {
         "aircraft": {
          "model": "Airbus A319"
         },
         "airline": {
          "name": "Lufthansa"
         },
         "arrival": {
          "quality": [
           "Basic"
          ],
          "scheduledTimeLocal": "2022-04-07 16:05+02:00",
          "scheduledTimeUtc": "2022-04-07 14:05Z",
          "terminal": "1"
         },
         "codeshareStatus": "IsOperator",
         "departure": {
          "airport": {
           "iata": "MUC",
           "icao": "EDDM",
           "name": "Munich"
          },
          "quality": [
           "Basic"
          ],
          "scheduledTimeLocal": "2022-04-07 15:00+02:00",
          "scheduledTimeUtc": "2022-04-07 13:00Z",
          "terminal": "2"
         },
         "isCargo": false,
         "number": "LH 1944",
         "status": "Unknown"
        },
        {
         "aircraft": {
          "model": "Airbus A319"
         },
         "airline": {
          "name": "easyJet"
         },
         "arrival": {
          "quality": [
           "Basic"
          ],
          "scheduledTimeLocal": "2022-04-07 16:10+02:00",
          "scheduledTimeUtc": "2022-04-07 14:10Z",
          "terminal": "1"
         },
         "codeshareStatus": "Unknown",
         "departure": {
          "airport": {
           "iata": "LTN",
           "icao": "EGGW",
           "name": "London"
          },
          "quality": [
           "Basic"
          ],
          "scheduledTimeLocal": "2022-04-07 13:20+01:00",
          "scheduledTimeUtc": "2022-04-07 12:20Z"
         },
         "isCargo": false,
         "number": "U2 2103",
         "status": "Unknown"
        },
        {
         "aircraft": {
          "model": "Airbus A319"
         },
         "airline": {
          "name": "easyJet"
         },
         "arrival": {
          "quality": [
           "Basic"
          ],
          "scheduledTimeLocal": "2022-04-07 16:20+02:00",
          "scheduledTimeUtc": "2022-04-07 14:20Z",
          "terminal": "1"
         },
         "codeshareStatus": "Unknown",
         "departure": {
          "airport": {
           "iata": "VCE",
           "icao": "LIPZ",
           "name": "Venice"
          },
          "quality": [
           "Basic"
          ],
          "scheduledTimeLocal": "2022-04-07 14:35+02:00",
          "scheduledTimeUtc": "2022-04-07 12:35Z"
         },
         "isCargo": false,
         "number": "U2 5840",
         "status": "Unknown"
        },
        {
         "aircraft": {
          "model": "Boeing 737-800"
         },
         "airline": {
          "name": "Ryanair"
         },
         "arrival": {
          "quality": [
           "Basic"
          ],
          "scheduledTimeLocal": "2022-04-07 16:20+02:00",
          "scheduledTimeUtc": "2022-04-07 14:20Z"
         },
         "codeshareStatus": "IsOperator",
         "departure": {
          "airport": {
           "iata": "MXP",
           "icao": "LIMC",
           "name": "Milan"
          },
          "quality": [
           "Basic"
          ],
          "scheduledTimeLocal": "2022-04-07 14:35+02:00",
          "scheduledTimeUtc": "2022-04-07 12:35Z",
          "terminal": "1"
         },
         "isCargo": false,
         "number": "FR 9",
         "status": "Unknown"
        },
        {
         "aircraft": {
          "model": "Airbus A220-300"
         },
         "airline": {
          "name": "SWISS"
         },
         "arrival": {
          "quality": [
           "Basic"
          ],
          "scheduledTimeLocal": "2022-04-07 16:25+02:00",
          "scheduledTimeUtc": "2022-04-07 14:25Z",
          "terminal": "1"
         },
         "codeshareStatus": "Unknown",
         "departure": {
          "airport": {
           "iata": "ZRH",
           "icao": "LSZH",
           "name": "Zurich"
          },
          "quality": [
           "Basic"
          ],
          "scheduledTimeLocal": "2022-04-07 15:00+02:00",
          "scheduledTimeUtc": "2022-04-07 13:00Z"
         },
         "isCargo": false,
         "number": "LX 980",
         "status": "Unknown"
        },
        {
         "aircraft": {
          "model": "Airbus A320"
         },
         "airline": {
          "name": "easyJet"
         },
         "arrival": {
          "quality": [
           "Basic"
          ],
          "scheduledTimeLocal": "2022-04-07 16:25+02:00",
          "scheduledTimeUtc": "2022-04-07 14:25Z",
          "terminal": "1"
         },
         "codeshareStatus": "Unknown",
         "departure": {
          "airport": {
           "iata": "LCA",
           "icao": "LCLK",
           "name": "Larnarca"
          },
          "quality": [
           "Basic"
          ],
          "scheduledTimeLocal": "2022-04-07 13:20+03:00",
          "scheduledTimeUtc": "2022-04-07 10:20Z"
         },
         "isCargo": false,
         "number": "U2 4728",
         "status": "Unknown"
        },
        {
         "aircraft": {
          "model": "Embraer 195"
         },
         "airline": {
          "name": "TAP Air Portugal"
         },
         "arrival": {
          "quality": [
           "Basic"
          ],
          "scheduledTimeLocal": "2022-04-07 16:30+02:00",
          "scheduledTimeUtc": "2022-04-07 14:30Z",
          "terminal": "1"
         },
         "codeshareStatus": "IsOperator",
         "departure": {
          "airport": {
           "name": "Lisbon"
          },
          "quality": []
         },
         "isCargo": false,
         "number": "TP 530",
         "status": "Unknown"
        },
        {
         "aircraft": {
          "model": "Boeing 737-800"
         },
         "airline": {
          "name": "Norwegian Air International"
         },
         "arrival": {
          "quality": [
           "Basic"
          ],
          "scheduledTimeLocal": "2022-04-07 16:45+02:00",
          "scheduledTimeUtc": "2022-04-07 14:45Z",
          "terminal": "1"
         },
         "codeshareStatus": "Unknown",
         "departure": {
          "airport": {
           "iata": "CPH",
           "icao": "EKCH",
           "name": "Copenhagen"
          },
          "quality": [
           "Basic"
          ],
          "scheduledTimeLocal": "2022-04-07 15:45+02:00",
          "scheduledTimeUtc": "2022-04-07 13:45Z",
          "terminal": "2"
         },
         "isCargo": false,
         "number": "D8 3302",
         "status": "Unknown"
        },
        {
         "aircraft": {
          "model": "Airbus A320"
         },
         "airline": {
          "name": "easyJet"
         },
         "arrival": {
          "quality": [
           "Basic"
          ],
          "scheduledTimeLocal": "2022-04-07 16:45+02:00",
          "scheduledTimeUtc": "2022-04-07 14:45Z",
          "terminal": "1"
         },
         "codeshareStatus": "Unknown",
         "departure": {
          "airport": {
           "iata": "TLV",
           "icao": "LLBG",
           "name": "Tel Aviv Yafo"
          },
          "quality": [
           "Basic"
          ],
          "scheduledTimeLocal": "2022-04-07 13:10+03:00",
          "scheduledTimeUtc": "2022-04-07 10:10Z",
          "terminal": "3"
         },
         "isCargo": false,
         "number": "U2 5202",
         "status": "Unknown"
        },
        {
         "aircraft": {
          "model": "Airbus A319"
         },
         "airline": {
          "name": "easyJet"
         },
         "arrival": {
          "quality": [
           "Basic"
          ],
          "scheduledTimeLocal": "2022-04-07 16:50+02:00",
          "scheduledTimeUtc": "2022-04-07 14:50Z",
          "terminal": "1"
         },
         "codeshareStatus": "Unknown",
         "departure": {
          "airport": {
           "iata": "IBZ",
           "icao": "LEIB",
           "name": "Ibiza Town"
          },
          "quality": [
           "Basic"
          ],
          "scheduledTimeLocal": "2022-04-07 13:55+02:00",
          "scheduledTimeUtc": "2022-04-07 11:55Z"
         },
         "isCargo": false,
         "number": "U2 5008",
         "status": "Unknown"
        },
        {
         "aircraft": {
          "model": "Airbus A320"
         },
         "airline": {
          "name": "easyJet"
         },
         "arrival": {
          "quality": [
           "Basic"
          ],
          "scheduledTimeLocal": "2022-04-07 16:50+02:00",
          "scheduledTimeUtc": "2022-04-07 14:50Z",
          "terminal": "1"
         },
         "codeshareStatus": "Unknown",
         "departure": {
          "airport": {
           "iata": "CTA",
           "icao": "LICC",
           "name": "Catania"
          },
          "quality": [
           "Basic"
          ],
          "scheduledTimeLocal": "2022-04-07 13:55+02:00",
          "scheduledTimeUtc": "2022-04-07 11:55Z"
         },
         "isCargo": false,
         "number": "U2 5694",
         "status": "Unknown"
        },
        {
         "aircraft": {
          "model": "Boeing 737-800"
         },
         "airline": {
          "name": "Ryanair"
         },
         "arrival": {
          "quality": [
           "Basic"
          ],
          "scheduledTimeLocal": "2022-04-07 16:50+02:00",
          "scheduledTimeUtc": "2022-04-07 14:50Z"
         },
         "codeshareStatus": "IsOperator",
         "departure": {
          "airport": {
           "iata": "RIX",
           "icao": "EVRA",
           "name": "Riga"
          },
          "quality": [
           "Basic"
          ],
          "scheduledTimeLocal": "2022-04-07 16:10+03:00",
          "scheduledTimeUtc": "2022-04-07 13:10Z"
         },
         "isCargo": false,
         "number": "FR 2600",
         "status": "Unknown"
        },
        {
         "aircraft": {
          "model": "Airbus A320"
         },
         "airline": {
          "name": "Lufthansa"
         },
         "arrival": {
          "quality": [
           "Basic"
          ],
          "scheduledTimeLocal": "2022-04-07 16:55+02:00",
          "scheduledTimeUtc": "2022-04-07 14:55Z",
          "terminal": "1"
         },
         "codeshareStatus": "IsOperator",
         "departure": {
          "actualTimeLocal": "2022-04-07 15:45+02:00",
          "actualTimeUtc": "2022-04-07 13:45Z",
          "airport": {
           "iata": "FRA",
           "icao": "EDDF",
           "name": "Frankfurt-am-Main"
          },
          "quality": [
           "Basic",
           "Live"
          ],
          "scheduledTimeLocal": "2022-04-07 15:45+02:00",
          "scheduledTimeUtc": "2022-04-07 13:45Z",
          "terminal": "1"
         },
         "isCargo": false,
         "number": "LH 190",
         "status": "Unknown"
        },
        {
         "aircraft": {
          "model": "Airbus A220-300"
         },
         "airline": {
          "name": "Air France"
         },
         "arrival": {
          "quality": [
           "Basic"
          ],
          "scheduledTimeLocal": "2022-04-07 17:05+02:00",
          "scheduledTimeUtc": "2022-04-07 15:05Z",
          "terminal": "1"
         },
         "codeshareStatus": "IsOperator",
         "departure": {
          "airport": {
           "iata": "CDG",
           "icao": "LFPG",
           "name": "Paris"
          },
          "quality": [
           "Basic"
          ],
          "scheduledTimeLocal": "2022-04-07 15:25+02:00",
          "scheduledTimeUtc": "2022-04-07 13:25Z",
          "terminal": "2F"
         },
         "isCargo": false,
         "number": "AF 1834",
         "status": "Unknown"
        },
        {
         "aircraft": {
          "model": "Airbus A319"
         },
         "airline": {
          "name": "Lufthansa"
         },
         "arrival": {
          "quality": [
           "Basic"
          ],
          "scheduledTimeLocal": "2022-04-07 17:05+02:00",
          "scheduledTimeUtc": "2022-04-07 15:05Z",
          "terminal": "1"
         },
         "codeshareStatus": "IsOperator",
         "departure": {
          "airport": {
           "iata": "MUC",
           "icao": "EDDM",
           "name": "Munich"
          },
          "quality": [
           "Basic"
          ],
          "scheduledTimeLocal": "2022-04-07 16:00+02:00",
          "scheduledTimeUtc": "2022-04-07 14:00Z",
          "terminal": "2"
         },
         "isCargo": false,
         "number": "LH 1946",
         "status": "Unknown"
        },
        {
         "aircraft": {
          "model": "Airbus A320"
         },
         "airline": {
          "name": "Austrian"
         },
         "arrival": {
          "quality": [
           "Basic"
          ],
          "scheduledTimeLocal": "2022-04-07 17:05+02:00",
          "scheduledTimeUtc": "2022-04-07 15:05Z",
          "terminal": "1"
         },
         "codeshareStatus": "IsOperator",
         "departure": {
          "airport": {
           "iata": "VIE",
           "icao": "LOWW",
           "name": "Vienna"
          },
          "quality": [
           "Basic"
          ],
          "scheduledTimeLocal": "2022-04-07 15:50+02:00",
          "scheduledTimeUtc": "2022-04-07 13:50Z",
          "terminal": "3"
         },
         "isCargo": false,
         "number": "OS 231",
         "status": "Unknown"
        },
        {
         "aircraft": {
          "model": "Airbus A319"
         },
         "airline": {
          "name": "easyJet"
         },
         "arrival": {
          "quality": [
           "Basic"
          ],
          "scheduledTimeLocal": "2022-04-07 17:15+02:00",
          "scheduledTimeUtc": "2022-04-07 15:15Z",
          "terminal": "1"
         },
         "codeshareStatus": "IsOperator",
         "departure": {
          "airport": {
           "iata": "CPH",
           "icao": "EKCH",
           "name": "Copenhagen"
          },
          "quality": [
           "Basic"
          ],
          "scheduledTimeLocal": "2022-04-07 16:10+02:00",
          "scheduledTimeUtc": "2022-04-07 14:10Z",
          "terminal": "2"
         },
         "isCargo": false,
         "number": "U2 5686",
         "status": "Unknown"
        },
        {
         "aircraft": {
          "model": "Airbus A319"
         },
         "airline": {
          "name": "easyJet"
         },
         "arrival": {
          "quality": [
           "Basic"
          ],
          "scheduledTimeLocal": "2022-04-07 17:20+02:00",
          "scheduledTimeUtc": "2022-04-07 15:20Z",
          "terminal": "1"
         },
         "codeshareStatus": "Unknown",
         "departure": {
          "airport": {
           "iata": "ARN",
           "icao": "ESSA",
           "name": "Stockholm"
          },
          "quality": [
           "Basic"
          ],
          "scheduledTimeLocal": "2022-04-07 15:35+02:00",
          "scheduledTimeUtc": "2022-04-07 13:35Z",
          "terminal": "2"
         },
         "isCargo": false,
         "number": "U2 5886",
         "status": "Unknown"
        },
        {
         "aircraft": {
          "model": "Airbus A320"
         },
         "airline": {
          "name": "Finnair"
         },
         "arrival": {
          "quality": [
           "Basic"
          ],
          "scheduledTimeLocal": "2022-04-07 17:20+02:00",
          "scheduledTimeUtc": "2022-04-07 15:20Z",
          "terminal": "1"
         },
         "codeshareStatus": "IsOperator",
         "departure": {
          "actualTimeLocal": "2022-04-07 16:15+03:00",
          "actualTimeUtc": "2022-04-07 13:15Z",
          "airport": {
           "iata": "HEL",
           "icao": "EFHK",
           "name": "Helsinki"
          },
          "quality": [
           "Basic",
           "Live"
          ],
          "scheduledTimeLocal": "2022-04-07 16:15+03:00",
          "scheduledTimeUtc": "2022-04-07 13:15Z",
          "terminal": "2-200"
         },
         "isCargo": false,
         "number": "AY 1437",
         "status": "Unknown"
        },
        {
         "aircraft": {
          "model": "Boeing 737-800"
         },
         "airline": {
          "name": "Ryanair"
         },
         "arrival": {
          "quality": [
           "Basic"
          ],
          "scheduledTimeLocal": "2022-04-07 17:20+02:00",
          "scheduledTimeUtc": "2022-04-07 15:20Z"
         },
         "codeshareStatus": "IsOperator",
         "departure": {
          "airport": {
           "iata": "PMI",
           "icao": "LEPA",
           "name": "Palma De Mallorca"
          },
          "quality": [
           "Basic"
          ],
          "scheduledTimeLocal": "2022-04-07 14:35+02:00",
          "scheduledTimeUtc": "2022-04-07 12:35Z"
         },
         "isCargo": false,
         "number": "FR 111",
         "status": "Unknown"
        },
        {
         "aircraft": {
          "model": "Boeing 737-800"
         },
         "airline": {
          "name": "Ryanair"
         },
         "arrival": {
          "quality": [
           "Basic"
          ],
          "scheduledTimeLocal": "2022-04-07 17:25+02:00",
          "scheduledTimeUtc": "2022-04-07 15:25Z",
          "terminal": "0"
         },
         "codeshareStatus": "IsOperator",
         "departure": {
          "airport": {
           "iata": "MAN",
           "icao": "EGCC",
           "name": "Manchester"
          },
          "quality": [
           "Basic"
          ],
          "scheduledTimeLocal": "2022-04-07 14:30+01:00",
          "scheduledTimeUtc": "2022-04-07 13:30Z"
         },
         "isCargo": false,
         "number": "FR 1145",
         "status": "Unknown"
        },
        {
         "aircraft": {
          "model": "Airbus A320"
         },
         "airline": {
          "name": "easyJet"
         },
         "arrival": {
          "quality": [
           "Basic"
          ],
          "scheduledTimeLocal": "2022-04-07 17:40+02:00",
          "scheduledTimeUtc": "2022-04-07 15:40Z",
          "terminal": "1"
         },
         "codeshareStatus": "Unknown",
         "departure": {
          "airport": {
           "iata": "FAO",
           "icao": "LPFR",
           "name": "Faro"
          },
          "quality": [
           "Basic"
          ],
          "scheduledTimeLocal": "2022-04-07 12:55+01:00",
          "scheduledTimeUtc": "2022-04-07 11:55Z"
         },
         "isCargo": false,
         "number": "U2 5784",
         "status": "Unknown"
        },
        {
         "aircraft": {
          "model": "Airbus A320"
         },
         "airline": {
          "name": "easyJet"
         },
         "arrival": {
          "quality": [
           "Basic"
          ],
          "scheduledTimeLocal": "2022-04-07 17:50+02:00",
          "scheduledTimeUtc": "2022-04-07 15:50Z",
          "terminal": "1"
         },
         "codeshareStatus": "Unknown",
         "departure": {
          "airport": {
           "iata": "NAP",
           "icao": "LIRN",
           "name": "Nápoli"
          },
          "quality": [
           "Basic"
          ],
          "scheduledTimeLocal": "2022-04-07 15:30+02:00",
          "scheduledTimeUtc": "2022-04-07 13:30Z"
         },
         "isCargo": false,
         "number": "U2 5142",
         "status": "Unknown"
        },
        {
         "aircraft": {
          "model": "Airbus A321"
         },
         "airline": {
          "name": "Lufthansa"
         },
         "arrival": {
          "quality": [
           "Basic"
          ],
          "scheduledTimeLocal": "2022-04-07 17:55+02:00",
          "scheduledTimeUtc": "2022-04-07 15:55Z",
          "terminal": "1"
         },
         "codeshareStatus": "IsOperator",
         "departure": {
          "actualTimeLocal": "2022-04-07 16:45+02:00",
          "actualTimeUtc": "2022-04-07 14:45Z",
          "airport": {
           "iata": "FRA",
           "icao": "EDDF",
           "name": "Frankfurt-am-Main"
          },
          "quality": [
           "Basic",
           "Live"
          ],
          "scheduledTimeLocal": "2022-04-07 16:45+02:00",
          "scheduledTimeUtc": "2022-04-07 14:45Z",
          "terminal": "1"
         },
         "isCargo": false,
         "number": "LH 192",
         "status": "Unknown"
        },
        {
         "aircraft": {
          "model": "Airbus A319"
         },
         "airline": {
          "name": "Brussels"
         },
         "arrival": {
          "quality": [
           "Basic"
          ],
          "scheduledTimeLocal": "2022-04-07 17:55+02:00",
          "scheduledTimeUtc": "2022-04-07 15:55Z",
          "terminal": "1"
         },
         "codeshareStatus": "IsOperator",
         "departure": {
          "actualTimeLocal": "2022-04-07 16:35+02:00",
          "actualTimeUtc": "2022-04-07 14:35Z",
          "airport": {
           "iata": "BRU",
           "icao": "EBBR",
           "name": "Brussels"
          },
          "checkInDesk": "04",
          "quality": [
           "Basic",
           "Live"
          ],
          "scheduledTimeLocal": "2022-04-07 16:35+02:00",
          "scheduledTimeUtc": "2022-04-07 14:35Z"
         },
         "isCargo": false,
         "number": "SN 2587",
         "status": "Unknown"
        },
        {
         "aircraft": {
          "model": "Airbus A320"
         },
         "airline": {
          "name": "easyJet"
         },
         "arrival": {
          "quality": [
           "Basic"
          ],
          "scheduledTimeLocal": "2022-04-07 18:00+02:00",
          "scheduledTimeUtc": "2022-04-07 16:00Z",
          "terminal": "1"
         },
         "codeshareStatus": "Unknown",
         "departure": {
          "airport": {
           "iata": "OLB",
           "icao": "LIEO",
           "name": "Olbia"
          },
          "quality": [
           "Basic"
          ],
          "scheduledTimeLocal": "2022-04-07 15:35+02:00",
          "scheduledTimeUtc": "2022-04-07 13:35Z"
         },
         "isCargo": false,
         "number": "U2 4590",
         "status": "Unknown"
        },
        {
         "aircraft": {
          "model": "Boeing 737-800"
         },
         "airline": {
          "name": "KLM"
         },
         "arrival": {
          "quality": [
           "Basic"
          ],
          "scheduledTimeLocal": "2022-04-07 18:00+02:00",
          "scheduledTimeUtc": "2022-04-07 16:00Z",
          "terminal": "1"
         },
         "codeshareStatus": "IsOperator",
         "departure": {
          "airport": {
           "name": "Amsterdam"
          },
          "quality": []
         },
         "isCargo": false,
         "number": "KL 1831",
         "status": "Unknown"
        },
        {
         "aircraft": {
          "model": "Airbus A320 NEO"
         },
         "airline": {
          "name": "SWISS"
         },
         "arrival": {
          "quality": [
           "Basic"
          ],
          "scheduledTimeLocal": "2022-04-07 18:00+02:00",
          "scheduledTimeUtc": "2022-04-07 16:00Z",
          "terminal": "1"
         },
         "codeshareStatus": "IsOperator",
         "departure": {
          "actualTimeLocal": "2022-04-07 16:35+02:00",
          "actualTimeUtc": "2022-04-07 14:35Z",
          "airport": {
           "iata": "ZRH",
           "icao": "LSZH",
           "name": "Zurich"
          },
          "checkInDesk": "1",
          "quality": [
           "Basic",
           "Live"
          ],
          "scheduledTimeLocal": "2022-04-07 16:35+02:00",
          "scheduledTimeUtc": "2022-04-07 14:35Z"
         },
         "isCargo": false,
         "number": "LX 970",
         "status": "Unknown"
        },
        {
         "aircraft": {
          "model": "Airbus A330-300"
         },
         "airline": {
          "name": "Turkish"
         },
         "arrival": {
          "quality": [
           "Basic"
          ],
          "scheduledTimeLocal": "2022-04-07 18:00+02:00",
          "scheduledTimeUtc": "2022-04-07 16:00Z",
          "terminal": "1"
         },
         "codeshareStatus": "IsOperator",
         "departure": {
          "airport": {
           "iata": "IST",
           "icao": "LTFM",
           "name": "Istanbul"
          },
          "quality": [
           "Basic"
          ],
          "scheduledTimeLocal": "2022-04-07 16:10+03:00",
          "scheduledTimeUtc": "2022-04-07 13:10Z"
         },
         "isCargo": false,
         "number": "TK 1723",
         "status": "Unknown"
        },
        {
         "aircraft": {
          "model": "Boeing 737-800"
         },
         "airline": {
          "name": "Ryanair"
         },
         "arrival": {
          "quality": [
           "Basic"
          ],
          "scheduledTimeLocal": "2022-04-07 18:05+02:00",
          "scheduledTimeUtc": "2022-04-07 16:05Z"
         },
         "codeshareStatus": "IsOperator",
         "departure": {
          "airport": {
           "iata": "STN",
           "icao": "EGSS",
           "name": "London"
          },
          "quality": [
           "Basic"
          ],
          "scheduledTimeLocal": "2022-04-07 15:20+01:00",
          "scheduledTimeUtc": "2022-04-07 14:20Z"
         },
         "isCargo": false,
         "number": "FR 8544",
         "status": "Unknown"
        },
        {
         "aircraft": {
          "model": "Airbus A319"
         },
         "airline": {
          "name": "Lufthansa"
         },
         "arrival": {
          "quality": [
           "Basic"
          ],
          "scheduledTimeLocal": "2022-04-07 18:05+02:00",
          "scheduledTimeUtc": "2022-04-07 16:05Z",
          "terminal": "1"
         },
         "codeshareStatus": "IsOperator",
         "departure": {
          "airport": {
           "iata": "MUC",
           "icao": "EDDM",
           "name": "Munich"
          },
          "quality": [
           "Basic"
          ],
          "scheduledTimeLocal": "2022-04-07 17:00+02:00",
          "scheduledTimeUtc": "2022-04-07 15:00Z",
          "terminal": "2"
         },
         "isCargo": false,
         "number": "LH 1948",
         "status": "Unknown"
        },
        {
         "aircraft": {
          "model": "Airbus A319"
         },
         "airline": {
          "name": "Eurowings"
         },
         "arrival": {
          "quality": [
           "Basic"
          ],
          "scheduledTimeLocal": "2022-04-07 18:10+02:00",
          "scheduledTimeUtc": "2022-04-07 16:10Z",
          "terminal": "1"
         },
         "codeshareStatus": "IsOperator",
         "departure": {
          "airport": {
           "iata": "CGN",
           "icao": "EDDK",
           "name": "Cologne"
          },
          "quality": [
           "Basic"
          ],
          "scheduledTimeLocal": "2022-04-07 17:00+02:00",
          "scheduledTimeUtc": "2022-04-07 15:00Z",
          "terminal": "1"
         },
         "isCargo": false,
         "number": "EW 6",
         "status": "Unknown"
        },
        {
         "aircraft": {
          "model": "Airbus A320"
         },
         "airline": {
          "name": "Eurowings"
         },
         "arrival": {
          "quality": [
           "Basic"
          ],
          "scheduledTimeLocal": "2022-04-07 18:20+02:00",
          "scheduledTimeUtc": "2022-04-07 16:20Z",
          "terminal": "1"
         },
         "codeshareStatus": "IsOperator",
         "departure": {
          "actualTimeLocal": "2022-04-07 12:15+01:00",
          "actualTimeUtc": "2022-04-07 11:15Z",
          "airport": {
           "iata": "FUE",
           "icao": "GCFV",
           "name": "Fuerteventura Island"
          },
          "quality": [
           "Basic",
           "Live"
          ],
          "scheduledTimeLocal": "2022-04-07 12:15+01:00",
          "scheduledTimeUtc": "2022-04-07 11:15Z"
         },
         "isCargo": false,
         "number": "EW 8181",
         "status": "Unknown"
        },
        {
         "aircraft": {
          "model": "Airbus A320"
         },
         "airline": {
          "name": "British Airways"
         },
         "arrival": {
          "quality": [
           "Basic"
          ],
          "scheduledTimeLocal": "2022-04-07 18:30+02:00",
          "scheduledTimeUtc": "2022-04-07 16:30Z",
          "terminal": "1"
         },
         "codeshareStatus": "IsOperator",
         "departure": {
          "actualTimeLocal": "2022-04-07 15:35+01:00",
          "actualTimeUtc": "2022-04-07 14:35Z",
          "airport": {
           "iata": "LHR",
           "icao": "EGLL",
           "name": "London"
          },
          "checkInDesk": "C",
          "quality": [
           "Basic",
           "Live"
          ],
          "scheduledTimeLocal": "2022-04-07 15:35+01:00",
          "scheduledTimeUtc": "2022-04-07 14:35Z",
          "terminal": "5"
         },
         "isCargo": false,
         "number": "BA 986",
         "status": "Unknown"
        },
        {
         "aircraft": {
          "model": "Airbus A321"
         },
         "airline": {
          "name": "Condor"
         },
         "arrival": {
          "quality": [
           "Basic"
          ],
          "scheduledTimeLocal": "2022-04-07 18:30+02:00",
          "scheduledTimeUtc": "2022-04-07 16:30Z",
          "terminal": "1"
         },
         "codeshareStatus": "IsOperator",
         "departure": {
          "airport": {
           "iata": "HRG",
           "icao": "HEGN",
           "name": "Hurghada"
          },
          "quality": [
           "Basic"
          ],
          "scheduledTimeLocal": "2022-04-07 13:40+02:00",
          "scheduledTimeUtc": "2022-04-07 11:40Z",
          "terminal": "1"
         },
         "isCargo": false,
         "number": "DE 433",
         "status": "Unknown"
        },
        {
         "aircraft": {
          "model": "Embraer 190"
         },
         "airline": {
          "name": "Finnair"
         },
         "arrival": {
          "quality": [
           "Basic"
          ],
          "scheduledTimeLocal": "2022-04-07 18:35+02:00",
          "scheduledTimeUtc": "2022-04-07 16:35Z",
          "terminal": "1"
         },
         "codeshareStatus": "Unknown",
         "departure": {
          "airport": {
           "iata": "HEL",
           "icao": "EFHK",
           "name": "Helsinki"
          },
          "quality": [
           "Basic"
          ],
          "scheduledTimeLocal": "2022-04-07 17:35+03:00",
          "scheduledTimeUtc": "2022-04-07 14:35Z",
          "terminal": "2"
         },
         "isCargo": false,
         "number": "AY 1435",
         "status": "Unknown"
        },
        {
         "aircraft": {
          "model": "Airbus A319"
         },
         "airline": {
          "name": "easyJet"
         },
         "arrival": {
          "quality": [
           "Basic"
          ],
          "scheduledTimeLocal": "2022-04-07 18:45+02:00",
          "scheduledTimeUtc": "2022-04-07 16:45Z",
          "terminal": "1"
         },
         "codeshareStatus": "Unknown",
         "departure": {
          "airport": {
           "iata": "LIN",
           "icao": "LIML",
           "name": "Milan"
          },
          "quality": [
           "Basic"
          ],
          "scheduledTimeLocal": "2022-04-07 16:55+02:00",
          "scheduledTimeUtc": "2022-04-07 14:55Z"
         },
         "isCargo": false,
         "number": "U2 5186",
         "status": "Unknown"
        },
        {
         "aircraft": {
          "model": "Airbus A220-300"
         },
         "airline": {
          "name": "Air Baltic"
         },
         "arrival": {
          "quality": [
           "Basic"
          ],
          "scheduledTimeLocal": "2022-04-07 18:45+02:00",
          "scheduledTimeUtc": "2022-04-07 16:45Z",
          "terminal": "1"
         },
         "codeshareStatus": "IsOperator",
         "departure": {
          "airport": {
           "iata": "RIX",
           "icao": "EVRA",
           "name": "Riga"
          },
          "quality": [
           "Basic"
          ],
          "scheduledTimeLocal": "2022-04-07 18:10+03:00",
          "scheduledTimeUtc": "2022-04-07 15:10Z"
         },
         "isCargo": false,
         "number": "BT 213",
         "status": "Unknown"
        },
        {
         "aircraft": {
          "model": "Boeing 737-800"
         },
         "airline": {
          "name": "Ryanair"
         },
         "arrival": {
          "quality": [
           "Basic"
          ],
          "scheduledTimeLocal": "2022-04-07 18:50+02:00",
          "scheduledTimeUtc": "2022-04-07 16:50Z"
         },
         "codeshareStatus": "IsOperator",
         "departure": {
          "actualTimeLocal": "2022-04-07 14:20+01:00",
          "actualTimeUtc": "2022-04-07 13:20Z",
          "airport": {
           "iata": "FAO",
           "icao": "LPFR",
           "name": "Faro"
          },
          "quality": [
           "Basic",
           "Live"
          ],
          "scheduledTimeLocal": "2022-04-07 14:20+01:00",
          "scheduledTimeUtc": "2022-04-07 13:20Z",
          "terminal": "1"
         },
         "isCargo": false,
         "number": "FR 254",
         "status": "Unknown"
        },
        {
         "aircraft": {
          "model": "Airbus A321"
         },
         "airline": {
          "name": "Lufthansa"
         },
         "arrival": {
          "quality": [
           "Basic"
          ],
          "scheduledTimeLocal": "2022-04-07 18:55+02:00",
          "scheduledTimeUtc": "2022-04-07 16:55Z",
          "terminal": "1"
         },
         "codeshareStatus": "Unknown",
         "departure": {
          "actualTimeLocal": "2022-04-07 17:45+02:00",
          "actualTimeUtc": "2022-04-07 15:45Z",
          "airport": {
           "iata": "FRA",
           "icao": "EDDF",
           "name": "Frankfurt-am-Main"
          },
          "quality": [
           "Basic",
           "Live"
          ],
          "scheduledTimeLocal": "2022-04-07 17:45+02:00",
          "scheduledTimeUtc": "2022-04-07 15:45Z",
          "terminal": "1"
         },
         "isCargo": false,
         "number": "LH 194",
         "status": "Unknown"
        },
        {
         "aircraft": {
          "model": "Airbus A320"
         },
         "airline": {
          "name": "SWISS"
         },
         "arrival": {
          "quality": [
           "Basic"
          ],
          "scheduledTimeLocal": "2022-04-07 18:55+02:00",
          "scheduledTimeUtc": "2022-04-07 16:55Z",
          "terminal": "1"
         },
         "codeshareStatus": "IsOperator",
         "departure": {
          "actualTimeLocal": "2022-04-07 17:30+02:00",
          "actualTimeUtc": "2022-04-07 15:30Z",
          "airport": {
           "iata": "ZRH",
           "icao": "LSZH",
           "name": "Zurich"
          },
          "checkInDesk": "1",
          "quality": [
           "Basic",
           "Live"
          ],
          "scheduledTimeLocal": "2022-04-07 17:30+02:00",
          "scheduledTimeUtc": "2022-04-07 15:30Z"
         },
         "isCargo": false,
         "number": "LX 982",
         "status": "Unknown"
        },
        {
         "aircraft": {
          "model": "Airbus A320"
         },
         "airline": {
          "name": "Austrian"
         },
         "arrival": {
          "quality": [
           "Basic"
          ],
          "scheduledTimeLocal": "2022-04-07 18:55+02:00",
          "scheduledTimeUtc": "2022-04-07 16:55Z",
          "terminal": "1"
         },
         "codeshareStatus": "IsOperator",
         "departure": {
          "airport": {
           "iata": "VIE",
           "icao": "LOWW",
           "name": "Vienna"
          },
          "quality": [
           "Basic"
          ],
          "scheduledTimeLocal": "2022-04-07 17:40+02:00",
          "scheduledTimeUtc": "2022-04-07 15:40Z",
          "terminal": "3"
         },
         "isCargo": false,
         "number": "OS 235",
         "status": "Unknown"
        },
        {
         "aircraft": {
          "model": "ATR 42-300"
         },
         "airline": {
          "name": "Danish Air"
         },
         "arrival": {
          "quality": [
           "Basic"
          ],
          "scheduledTimeLocal": "2022-04-07 19:00+02:00",
          "scheduledTimeUtc": "2022-04-07 17:00Z",
          "terminal": "0"
         },
         "codeshareStatus": "IsOperator",
         "departure": {
          "airport": {
           "iata": "SCN",
           "icao": "EDDR",
           "name": "Saarbrücken"
          },
          "quality": [
           "Basic"
          ],
          "scheduledTimeLocal": "2022-04-07 17:20+02:00",
          "scheduledTimeUtc": "2022-04-07 15:20Z"
         },
         "isCargo": false,
         "number": "DX 125",
         "status": "Unknown"
        },
        {
         "aircraft": {
          "model": "Airbus A320"
         },
         "airline": {
          "name": "easyJet"
         },
         "arrival": {
          "quality": [
           "Basic"
          ],
          "scheduledTimeLocal": "2022-04-07 19:05+02:00",
          "scheduledTimeUtc": "2022-04-07 17:05Z",
          "terminal": "1"
         },
         "codeshareStatus": "Unknown",
         "departure": {
          "airport": {
           "iata": "CAG",
           "icao": "LIEE",
           "name": "Cagliari"
          },
          "quality": [
           "Basic"
          ],
          "scheduledTimeLocal": "2022-04-07 16:30+02:00",
          "scheduledTimeUtc": "2022-04-07 14:30Z"
         },
         "isCargo": false,
         "number": "U2 5662",
         "status": "Unknown"
        },
        {
         "aircraft": {
          "model": "Airbus A320"
         },
         "airline": {
          "name": "Lufthansa"
         },
         "arrival": {
          "quality": [
           "Basic"
          ],
          "scheduledTimeLocal": "2022-04-07 19:05+02:00",
          "scheduledTimeUtc": "2022-04-07 17:05Z",
          "terminal": "1"
         },
         "codeshareStatus": "IsOperator",
         "departure": {
          "airport": {
           "iata": "MUC",
           "icao": "EDDM",
           "name": "Munich"
          },
          "quality": [
           "Basic"
          ],
          "scheduledTimeLocal": "2022-04-07 18:00+02:00",
          "scheduledTimeUtc": "2022-04-07 16:00Z",
          "terminal": "2"
         },
         "isCargo": false,
         "number": "LH 1952",
         "status": "Unknown"
        },
        {
         "aircraft": {
          "model": "Airbus A320"
         },
         "airline": {
          "name": "Iberia"
         },
         "arrival": {
          "quality": [
           "Basic"
          ],
          "scheduledTimeLocal": "2022-04-07 19:10+02:00",
          "scheduledTimeUtc": "2022-04-07 17:10Z",
          "terminal": "1"
         },
         "codeshareStatus": "Unknown",
         "departure": {
          "actualTimeLocal": "2022-04-07 16:05+02:00",
          "actualTimeUtc": "2022-04-07 14:05Z",
          "airport": {
           "iata": "MAD",
           "icao": "LEMD",
           "name": "Madrid"
          },
          "quality": [
           "Basic",
           "Live"
          ],
          "scheduledTimeLocal": "2022-04-07 16:05+02:00",
          "scheduledTimeUtc": "2022-04-07 14:05Z",
          "terminal": "4"
         },
         "isCargo": false,
         "number": "IB 3068",
         "status": "Unknown"
        },
        {
         "aircraft": {
          "model": "Airbus A320"
         },
         "airline": {
          "name": "Eurowings"
         },
         "arrival": {
          "quality": [
           "Basic"
          ],
          "scheduledTimeLocal": "2022-04-07 19:20+02:00",
          "scheduledTimeUtc": "2022-04-07 17:20Z",
          "terminal": "1"
         },
         "codeshareStatus": "IsOperator",
         "departure": {
          "airport": {
           "iata": "CGN",
           "icao": "EDDK",
           "name": "Cologne"
          },
          "quality": [
           "Basic"
          ],
          "scheduledTimeLocal": "2022-04-07 18:10+02:00",
          "scheduledTimeUtc": "2022-04-07 16:10Z",
          "terminal": "1"
         },
         "isCargo": false,
         "number": "EW 20",
         "status": "Unknown"
        },
        {
         "aircraft": {
          "model": "Airbus A320"
         },
         "airline": {
          "name": "easyJet"
         },
         "arrival": {
          "quality": [
           "Basic"
          ],
          "scheduledTimeLocal": "2022-04-07 19:25+02:00",
          "scheduledTimeUtc": "2022-04-07 17:25Z",
          "terminal": "1"
         },
         "codeshareStatus": "Unknown",
         "departure": {
          "airport": {
           "iata": "PMI",
           "icao": "LEPA",
           "name": "Palma De Mallorca"
          },
          "quality": [
           "Basic"
          ],
          "scheduledTimeLocal": "2022-04-07 16:30+02:00",
          "scheduledTimeUtc": "2022-04-07 14:30Z"
         },
         "isCargo": false,
         "number": "U2 5818",
         "status": "Unknown"
        },
        {
         "aircraft": {
          "model": "Airbus A320"
         },
         "airline": {
          "name": "easyJet"
         },
         "arrival": {
          "quality": [
           "Basic"
          ],
          "scheduledTimeLocal": "2022-04-07 19:30+02:00",
          "scheduledTimeUtc": "2022-04-07 17:30Z",
          "terminal": "1"
         },
         "codeshareStatus": "Unknown",
         "departure": {
          "airport": {
           "iata": "AMS",
           "icao": "EHAM",
           "name": "Amsterdam"
          },
          "quality": [
           "Basic"
          ],
          "scheduledTimeLocal": "2022-04-07 18:05+02:00",
          "scheduledTimeUtc": "2022-04-07 16:05Z"
         },
         "isCargo": false,
         "number": "U2 4566",
         "status": "Unknown"
        },
        {
         "aircraft": {
          "model": "Airbus A320"
         },
         "airline": {
          "name": "easyJet"
         },
         "arrival": {
          "quality": [
           "Basic"
          ],
          "scheduledTimeLocal": "2022-04-07 19:35+02:00",
          "scheduledTimeUtc": "2022-04-07 17:35Z",
          "terminal": "1"
         },
         "codeshareStatus": "Unknown",
         "departure": {
          "airport": {
           "iata": "CDG",
           "icao": "LFPG",
           "name": "Paris"
          },
          "quality": [
           "Basic"
          ],
          "scheduledTimeLocal": "2022-04-07 17:45+02:00",
          "scheduledTimeUtc": "2022-04-07 15:45Z",
          "terminal": "2D"
         },
         "isCargo": false,
         "number": "U2 5676",
         "status": "Unknown"
        },
        {
         "aircraft": {
          "model": "Airbus A220-300"
         },
         "airline": {
          "name": "Air France"
         },
         "arrival": {
          "quality": [
           "Basic"
          ],
          "scheduledTimeLocal": "2022-04-07 19:40+02:00",
          "scheduledTimeUtc": "2022-04-07 17:40Z",
          "terminal": "1"
         },
         "codeshareStatus": "IsOperator",
         "departure": {
          "airport": {
           "iata": "CDG",
           "icao": "LFPG",
           "name": "Paris"
          },
          "quality": [
           "Basic"
          ],
          "scheduledTimeLocal": "2022-04-07 18:00+02:00",
          "scheduledTimeUtc": "2022-04-07 16:00Z",
          "terminal": "2F"
         },
         "isCargo": false,
         "number": "AF 1534",
         "status": "Unknown"
        },
        {
         "aircraft": {
          "model": "Airbus A320"
         },
         "airline": {
          "name": "Eurowings"
         },
         "arrival": {
          "quality": [
           "Basic"
          ],
          "scheduledTimeLocal": "2022-04-07 19:40+02:00",
          "scheduledTimeUtc": "2022-04-07 17:40Z",
          "terminal": "1"
         },
         "codeshareStatus": "IsOperator",
         "departure": {
          "actualTimeLocal": "2022-04-07 18:25+02:00",
          "actualTimeUtc": "2022-04-07 16:25Z",
          "airport": {
           "iata": "STR",
           "icao": "EDDS",
           "name": "Stuttgart"
          },
          "quality": [
           "Basic",
           "Live"
          ],
          "scheduledTimeLocal": "2022-04-07 18:25+02:00",
          "scheduledTimeUtc": "2022-04-07 16:25Z",
          "terminal": "1"
         },
         "isCargo": false,
         "number": "EW 2020",
         "status": "Unknown"
        },
        {
         "aircraft": {
          "model": "Airbus A320 NEO"
         },
         "airline": {
          "name": "SWISS"
         },
         "arrival": {
          "quality": [
           "Basic"
          ],
          "scheduledTimeLocal": "2022-04-07 19:45+02:00",
          "scheduledTimeUtc": "2022-04-07 17:45Z",
          "terminal": "1"
         },
         "codeshareStatus": "IsOperator",
         "departure": {
          "actualTimeLocal": "2022-04-07 18:20+02:00",
          "actualTimeUtc": "2022-04-07 16:20Z",
          "airport": {
           "iata": "ZRH",
           "icao": "LSZH",
           "name": "Zurich"
          },
          "checkInDesk": "1",
          "quality": [
           "Basic",
           "Live"
          ],
          "scheduledTimeLocal": "2022-04-07 18:20+02:00",
          "scheduledTimeUtc": "2022-04-07 16:20Z"
         },
         "isCargo": false,
         "number": "LX 978",
         "status": "Unknown"
        },
        {
         "aircraft": {
          "model": "Boeing 737-800"
         },
         "airline": {
          "name": "Norwegian Air Shuttle"
         },
         "arrival": {
          "quality": [
           "Basic"
          ],
          "scheduledTimeLocal": "2022-04-07 19:50+02:00",
          "scheduledTimeUtc": "2022-04-07 17:50Z",
          "terminal": "1"
         },
         "codeshareStatus": "IsOperator",
         "departure": {
          "airport": {
           "iata": "OSL",
           "icao": "ENGM",
           "name": "Oslo"
          },
          "checkInDesk": "23",
          "quality": [
           "Basic"
          ],
          "scheduledTimeLocal": "2022-04-07 18:15+02:00",
          "scheduledTimeUtc": "2022-04-07 16:15Z"
         },
         "isCargo": false,
         "number": "DY 1108",
         "status": "Unknown"
        },
        {
         "aircraft": {
          "model": "Boeing 737-800"
         },
         "airline": {
          "name": "Transavia France"
         },
         "arrival": {
          "quality": [
           "Basic"
          ],
          "scheduledTimeLocal": "2022-04-07 19:50+02:00",
          "scheduledTimeUtc": "2022-04-07 17:50Z",
          "terminal": "2"
         },
         "codeshareStatus": "IsOperator",
         "departure": {
          "airport": {
           "iata": "NTE",
           "icao": "LFRS",
           "name": "Nantes"
          },
          "quality": [
           "Basic"
          ],
          "scheduledTimeLocal": "2022-04-07 17:30+02:00",
          "scheduledTimeUtc": "2022-04-07 15:30Z"
         },
         "isCargo": false,
         "number": "TO 3410",
         "status": "Unknown"
        },
        {
         "aircraft": {
          "model": "Boeing 737-800"
         },
         "airline": {
          "name": "Ryanair"
         },
         "arrival": {
          "quality": [
           "Basic"
          ],
          "scheduledTimeLocal": "2022-04-07 19:55+02:00",
          "scheduledTimeUtc": "2022-04-07 17:55Z",
          "terminal": "0"
         },
         "codeshareStatus": "IsOperator",
         "departure": {
          "airport": {
           "iata": "TSF",
           "icao": "LIPH",
           "name": "Treviso"
          },
          "quality": [
           "Basic"
          ],
          "scheduledTimeLocal": "2022-04-07 18:25+02:00",
          "scheduledTimeUtc": "2022-04-07 16:25Z"
         },
         "isCargo": false,
         "number": "FR 2607",
         "status": "Unknown"
        },
        {
         "aircraft": {
          "model": "Embraer 175"
         },
         "airline": {
          "name": "KLM"
         },
         "arrival": {
          "quality": [
           "Basic"
          ],
          "scheduledTimeLocal": "2022-04-07 19:55+02:00",
          "scheduledTimeUtc": "2022-04-07 17:55Z",
          "terminal": "1"
         },
         "codeshareStatus": "IsOperator",
         "departure": {
          "airport": {
           "iata": "AMS",
           "icao": "EHAM",
           "name": "Amsterdam"
          },
          "checkInDesk": "6-8",
          "quality": [
           "Basic"
          ],
          "scheduledTimeLocal": "2022-04-07 18:40+02:00",
          "scheduledTimeUtc": "2022-04-07 16:40Z",
          "terminal": "1"
         },
         "isCargo": false,
         "number": "KL 1833",
         "status": "Unknown"
        },
        {
         "aircraft": {
          "model": "Airbus A321"
         },
         "airline": {
          "name": "Lufthansa"
         },
         "arrival": {
          "quality": [
           "Basic"
          ],
          "scheduledTimeLocal": "2022-04-07 19:55+02:00",
          "scheduledTimeUtc": "2022-04-07 17:55Z",
          "terminal": "1"
         },
         "codeshareStatus": "IsOperator",
         "departure": {
          "actualTimeLocal": "2022-04-07 18:45+02:00",
          "actualTimeUtc": "2022-04-07 16:45Z",
          "airport": {
           "iata": "FRA",
           "icao": "EDDF",
           "name": "Frankfurt-am-Main"
          },
          "quality": [
           "Basic",
           "Live"
          ],
          "scheduledTimeLocal": "2022-04-07 18:45+02:00",
          "scheduledTimeUtc": "2022-04-07 16:45Z",
          "terminal": "1"
         },
         "isCargo": false,
         "number": "LH 198",
         "status": "Unknown"
        },
        {
         "aircraft": {
          "model": "Airbus A320"
         },
         "airline": {
          "name": "easyJet"
         },
         "arrival": {
          "quality": [
           "Basic"
          ],
          "scheduledTimeLocal": "2022-04-07 20:00+02:00",
          "scheduledTimeUtc": "2022-04-07 18:00Z",
          "terminal": "1"
         },
         "codeshareStatus": "IsOperator",
         "departure": {
          "airport": {
           "iata": "LGW",
           "icao": "EGKK",
           "name": "London"
          },
          "quality": [
           "Basic"
          ],
          "scheduledTimeLocal": "2022-04-07 17:00+01:00",
          "scheduledTimeUtc": "2022-04-07 16:00Z",
          "terminal": "N"
         },
         "isCargo": false,
         "number": "U2 8456",
         "status": "Unknown"
        },
        {
         "aircraft": {
          "model": "Airbus A320"
         },
         "airline": {
          "name": "Eurowings"
         },
         "arrival": {
          "quality": [
           "Basic"
          ],
          "scheduledTimeLocal": "2022-04-07 20:05+02:00",
          "scheduledTimeUtc": "2022-04-07 18:05Z",
          "terminal": "1"
         },
         "callSign": "EWG5CN",
         "codeshareStatus": "IsOperator",
         "departure": {
          "actualTimeLocal": "2022-04-07 18:50+02:00",
          "actualTimeUtc": "2022-04-07 16:50Z",
          "airport": {
           "iata": "DUS",
           "icao": "EDDL",
           "name": "Duesseldorf"
          },
          "checkInDesk": "153,170",
          "gate": "A46",
          "quality": [
           "Basic",
           "Live"
          ],
          "scheduledTimeLocal": "2022-04-07 18:50+02:00",
          "scheduledTimeUtc": "2022-04-07 16:50Z",
          "terminal": "B"
         },
         "isCargo": false,
         "number": "EW 9044",
         "status": "Unknown"
        },
        {
         "aircraft": {
          "model": "Airbus A319"
         },
         "airline": {
          "name": "Lufthansa"
         },
         "arrival": {
          "quality": [
           "Basic"
          ],
          "scheduledTimeLocal": "2022-04-07 20:05+02:00",
          "scheduledTimeUtc": "2022-04-07 18:05Z",
          "terminal": "1"
         },
         "codeshareStatus": "IsOperator",
         "departure": {
          "airport": {
           "iata": "MUC",
           "icao": "EDDM",
           "name": "Munich"
          },
          "quality": [
           "Basic"
          ],
          "scheduledTimeLocal": "2022-04-07 19:00+02:00",
          "scheduledTimeUtc": "2022-04-07 17:00Z",
          "terminal": "2"
         },
         "isCargo": false,
         "number": "LH 1956",
         "status": "Unknown"
        },
        {
         "aircraft": {
          "modeS": "5110F3",
          "model": "Bombardier CRJ900",
          "reg": "ES-ACM"
         },
         "airline": {
          "name": "SAS"
         },
         "arrival": {
          "quality": [
           "Basic"
          ],
          "scheduledTimeLocal": "2022-04-07 20:10+02:00",
          "scheduledTimeUtc": "2022-04-07 18:10Z",
          "terminal": "1"
         },
         "callSign": "SAS95W",
         "codeshareStatus": "Unknown",
         "departure": {
          "actualTimeLocal": "2022-04-07 18:40+02:00",
          "actualTimeUtc": "2022-04-07 16:40Z",
          "airport": {
           "iata": "ARN",
           "icao": "ESSA",
           "name": "Stockholm"
          },
          "checkInDesk": "52-55",
          "quality": [
           "Basic",
           "Live"
          ],
          "scheduledTimeLocal": "2022-04-07 18:40+02:00",
          "scheduledTimeUtc": "2022-04-07 16:40Z",
          "terminal": "5"
         },
         "isCargo": false,
         "number": "SK 2679",
         "status": "Unknown"
        },
        {
         "aircraft": {
          "model": "Bombardier Dash 8 Q400 / DHC-8-400"
         },
         "airline": {
          "name": "Luxair"
         },
         "arrival": {
          "quality": [
           "Basic"
          ],
          "scheduledTimeLocal": "2022-04-07 20:10+02:00",
          "scheduledTimeUtc": "2022-04-07 18:10Z",
          "terminal": "1"
         },
         "codeshareStatus": "IsOperator",
         "departure": {
          "actualTimeLocal": "2022-04-07 18:40+02:00",
          "actualTimeUtc": "2022-04-07 16:40Z",
          "airport": {
           "iata": "LUX",
           "icao": "ELLX",
           "name": "Luxembourg"
          },
          "quality": [
           "Basic",
           "Live"
          ],
          "scheduledTimeLocal": "2022-04-07 18:40+02:00",
          "scheduledTimeUtc": "2022-04-07 16:40Z"
         },
         "isCargo": false,
         "number": "LG 9473",
         "status": "Unknown"
        },
        {
         "aircraft": {
          "model": "Boeing 737-800"
         },
         "airline": {
          "name": "Transavia France"
         },
         "arrival": {
          "quality": [
           "Basic"
          ],
          "scheduledTimeLocal": "2022-04-07 20:15+02:00",
          "scheduledTimeUtc": "2022-04-07 18:15Z",
          "terminal": "2"
         },
         "codeshareStatus": "Unknown",
         "departure": {
          "airport": {
           "iata": "ORY",
           "icao": "LFPO",
           "name": "Paris"
          },
          "quality": [
           "Basic"
          ],
          "scheduledTimeLocal": "2022-04-07 18:20+02:00",
          "scheduledTimeUtc": "2022-04-07 16:20Z",
          "terminal": "3"
         },
         "isCargo": false,
         "number": "TO 3400",
         "status": "Unknown"
        },
        {
         "aircraft": {
          "model": "Airbus A320"
         },
         "airline": {
          "name": "British Airways"
         },
         "arrival": {
          "quality": [
           "Basic"
          ],
          "scheduledTimeLocal": "2022-04-07 20:15+02:00",
          "scheduledTimeUtc": "2022-04-07 18:15Z",
          "terminal": "1"
         },
         "codeshareStatus": "IsOperator",
         "departure": {
          "actualTimeLocal": "2022-04-07 17:20+01:00",
          "actualTimeUtc": "2022-04-07 16:20Z",
          "airport": {
           "iata": "LHR",
           "icao": "EGLL",
           "name": "London"
          },
          "checkInDesk": "C",
          "quality": [
           "Basic",
           "Live"
          ],
          "scheduledTimeLocal": "2022-04-07 17:20+01:00",
          "scheduledTimeUtc": "2022-04-07 16:20Z",
          "terminal": "5"
         },
         "isCargo": false,
         "number": "BA 994",
         "status": "Unknown"
        },
        {
         "aircraft": {
          "model": "Boeing 737-800"
         },
         "airline": {
          "name": "Ryanair"
         },
         "arrival": {
          "quality": [
           "Basic"
          ],
          "scheduledTimeLocal": "2022-04-07 20:25+02:00",
          "scheduledTimeUtc": "2022-04-07 18:25Z"
         },
         "codeshareStatus": "IsOperator",
         "departure": {
          "actualTimeLocal": "2022-04-07 17:25+02:00",
          "actualTimeUtc": "2022-04-07 15:25Z",
          "airport": {
           "iata": "MAD",
           "icao": "LEMD",
           "name": "Madrid"
          },
          "quality": [
           "Basic",
           "Live"
          ],
          "scheduledTimeLocal": "2022-04-07 17:25+02:00",
          "scheduledTimeUtc": "2022-04-07 15:25Z",
          "terminal": "1"
         },
         "isCargo": false,
         "number": "FR 2528",
         "status": "Unknown"
        },
        {
         "aircraft": {
          "model": "Boeing 737-800"
         },
         "airline": {
          "name": "Ryanair"
         },
         "arrival": {
          "quality": [
           "Basic"
          ],
          "scheduledTimeLocal": "2022-04-07 20:25+02:00",
          "scheduledTimeUtc": "2022-04-07 18:25Z"
         },
         "codeshareStatus": "IsOperator",
         "departure": {
          "actualTimeLocal": "2022-04-07 17:40+02:00",
          "actualTimeUtc": "2022-04-07 15:40Z",
          "airport": {
           "iata": "PMI",
           "icao": "LEPA",
           "name": "Palma De Mallorca"
          },
          "quality": [
           "Basic",
           "Live"
          ],
          "scheduledTimeLocal": "2022-04-07 17:40+02:00",
          "scheduledTimeUtc": "2022-04-07 15:40Z"
         },
         "isCargo": false,
         "number": "FR 279",
         "status": "Unknown"
        },
        {
         "aircraft": {
          "model": "Airbus A320"
         },
         "airline": {
          "name": "easyJet"
         },
         "arrival": {
          "quality": [
           "Basic"
          ],
          "scheduledTimeLocal": "2022-04-07 20:35+02:00",
          "scheduledTimeUtc": "2022-04-07 18:35Z",
          "terminal": "1"
         },
         "codeshareStatus": "Unknown",
         "departure": {
          "airport": {
           "iata": "BSL",
           "icao": "LFSB",
           "name": "Bâle/Mulhouse"
          },
          "quality": [
           "Basic"
          ],
          "scheduledTimeLocal": "2022-04-07 19:00+02:00",
          "scheduledTimeUtc": "2022-04-07 17:00Z"
         },
         "isCargo": false,
         "number": "U2 4640",
         "status": "Unknown"
        },
        {
         "aircraft": {
          "model": "Airbus A320"
         },
         "airline": {
          "name": "easyJet"
         },
         "arrival": {
          "quality": [
           "Basic"
          ],
          "scheduledTimeLocal": "2022-04-07 20:35+02:00",
          "scheduledTimeUtc": "2022-04-07 18:35Z",
          "terminal": "1"
         },
         "codeshareStatus": "Unknown",
         "departure": {
          "airport": {
           "iata": "CFU",
           "icao": "LGKR",
           "name": "Kerkyra Island"
          },
          "quality": [
           "Basic"
          ],
          "scheduledTimeLocal": "2022-04-07 19:15+03:00",
          "scheduledTimeUtc": "2022-04-07 16:15Z"
         },
         "isCargo": false,
         "number": "U2 4732",
         "status": "Unknown"
        },
        {
         "aircraft": {
          "model": "Airbus A319"
         },
         "airline": {
          "name": "easyJet"
         },
         "arrival": {
          "quality": [
           "Basic"
          ],
          "scheduledTimeLocal": "2022-04-07 20:40+02:00",
          "scheduledTimeUtc": "2022-04-07 18:40Z",
          "terminal": "1"
         },
         "codeshareStatus": "Unknown",
         "departure": {
          "airport": {
           "iata": "CGN",
           "icao": "EDDK",
           "name": "Cologne"
          },
          "quality": [
           "Basic"
          ],
          "scheduledTimeLocal": "2022-04-07 19:25+02:00",
          "scheduledTimeUtc": "2022-04-07 17:25Z",
          "terminal": "1"
         },
         "isCargo": false,
         "number": "U2 5514",
         "status": "Unknown"
        },
        {
         "aircraft": {
          "model": "Airbus A319"
         },
         "airline": {
          "name": "Eurowings"
         },
         "arrival": {
          "quality": [
           "Basic"
          ],
          "scheduledTimeLocal": "2022-04-07 20:45+02:00",
          "scheduledTimeUtc": "2022-04-07 18:45Z",
          "terminal": "1"
         },
         "codeshareStatus": "IsOperator",
         "departure": {
          "airport": {
           "iata": "SZG",
           "icao": "LOWS",
           "name": "Salzburg"
          },
          "quality": [
           "Basic"
          ],
          "scheduledTimeLocal": "2022-04-07 19:35+02:00",
          "scheduledTimeUtc": "2022-04-07 17:35Z"
         },
         "isCargo": false,
         "number": "EW 4342",
         "status": "Unknown"
        },
        {
         "aircraft": {
          "model": "Boeing 737-900"
         },
         "airline": {
          "name": "El Al"
         },
         "arrival": {
          "quality": [
           "Basic"
          ],
          "scheduledTimeLocal": "2022-04-07 20:50+02:00",
          "scheduledTimeUtc": "2022-04-07 18:50Z",
          "terminal": "1"
         },
         "codeshareStatus": "IsOperator",
         "departure": {
          "airport": {
           "iata": "TLV",
           "icao": "LLBG",
           "name": "Tel Aviv Yafo"
          },
          "quality": [
           "Basic"
          ],
          "scheduledTimeLocal": "2022-04-07 17:30+03:00",
          "scheduledTimeUtc": "2022-04-07 14:30Z",
          "terminal": "3"
         },
         "isCargo": false,
         "number": "LY 2373",
         "status": "Unknown"
        },
        {
         "aircraft": {
          "model": "Airbus A320"
         },
         "airline": {
          "name": "Eurowings"
         },
         "arrival": {
          "quality": [
           "Basic"
          ],
          "scheduledTimeLocal": "2022-04-07 20:55+02:00",
          "scheduledTimeUtc": "2022-04-07 18:55Z",
          "terminal": "1"
         },
         "codeshareStatus": "IsOperator",
         "departure": {
          "airport": {
           "iata": "CGN",
           "icao": "EDDK",
           "name": "Cologne"
          },
          "quality": [
           "Basic"
          ],
          "scheduledTimeLocal": "2022-04-07 19:45+02:00",
          "scheduledTimeUtc": "2022-04-07 17:45Z",
          "terminal": "1"
         },
         "isCargo": false,
         "number": "EW 8055",
         "status": "Unknown"
        },
        {
         "aircraft": {
          "model": "Airbus A319"
         },
         "airline": {
          "name": "easyJet"
         },
         "arrival": {
          "quality": [
           "Basic"
          ],
          "scheduledTimeLocal": "2022-04-07 21:00+02:00",
          "scheduledTimeUtc": "2022-04-07 19:00Z",
          "terminal": "1"
         },
         "codeshareStatus": "Unknown",
         "departure": {
          "airport": {
           "iata": "LTN",
           "icao": "EGGW",
           "name": "London"
          },
          "quality": [
           "Basic"
          ],
          "scheduledTimeLocal": "2022-04-07 18:10+01:00",
          "scheduledTimeUtc": "2022-04-07 17:10Z"
         },
         "isCargo": false,
         "number": "U2 2145",
         "status": "Unknown"
        },
        {
         "aircraft": {
          "model": "Boeing 737-800"
         },
         "airline": {
          "name": "Ryanair"
         },
         "arrival": {
          "quality": [
           "Basic"
          ],
          "scheduledTimeLocal": "2022-04-07 21:05+02:00",
          "scheduledTimeUtc": "2022-04-07 19:05Z"
         },
         "codeshareStatus": "Unknown",
         "departure": {
          "airport": {
           "iata": "RHO",
           "icao": "LGRP",
           "name": "Rodes Island"
          },
          "quality": [
           "Basic"
          ],
          "scheduledTimeLocal": "2022-04-07 18:40+03:00",
          "scheduledTimeUtc": "2022-04-07 15:40Z"
         },
         "isCargo": false,
         "number": "FR 352",
         "status": "Unknown"
        },
        {
         "aircraft": {
          "model": "Boeing 737-800"
         },
         "airline": {
          "name": "Ryanair"
         },
         "arrival": {
          "quality": [
           "Basic"
          ],
          "scheduledTimeLocal": "2022-04-07 21:05+02:00",
          "scheduledTimeUtc": "2022-04-07 19:05Z"
         },
         "codeshareStatus": "IsOperator",
         "departure": {
          "airport": {
           "iata": "PMO",
           "icao": "LICJ",
           "name": "Palermo"
          },
          "quality": [
           "Basic"
          ],
          "scheduledTimeLocal": "2022-04-07 18:30+02:00",
          "scheduledTimeUtc": "2022-04-07 16:30Z"
         },
         "isCargo": false,
         "number": "FR 4942",
         "status": "Unknown"
        },
        {
         "aircraft": {
          "model": "Airbus A320"
         },
         "airline": {
          "name": "easyJet"
         },
         "arrival": {
          "quality": [
           "Basic"
          ],
          "scheduledTimeLocal": "2022-04-07 21:10+02:00",
          "scheduledTimeUtc": "2022-04-07 19:10Z",
          "terminal": "1"
         },
         "codeshareStatus": "Unknown",
         "departure": {
          "airport": {
           "iata": "LIN",
           "icao": "LIML",
           "name": "Milan"
          },
          "quality": [
           "Basic"
          ],
          "scheduledTimeLocal": "2022-04-07 19:20+02:00",
          "scheduledTimeUtc": "2022-04-07 17:20Z"
         },
         "isCargo": false,
         "number": "U2 4678",
         "status": "Unknown"
        },
        {
         "aircraft": {
          "model": "Airbus A320"
         },
         "airline": {
          "name": "Aer Lingus"
         },
         "arrival": {
          "quality": [
           "Basic"
          ],
          "scheduledTimeLocal": "2022-04-07 21:15+02:00",
          "scheduledTimeUtc": "2022-04-07 19:15Z",
          "terminal": "2"
         },
         "codeshareStatus": "IsOperator",
         "departure": {
          "actualTimeLocal": "2022-04-07 17:55+01:00",
          "actualTimeUtc": "2022-04-07 16:55Z",
          "airport": {
           "iata": "DUB",
           "icao": "EIDW",
           "name": "Dublin"
          },
          "checkInDesk": "29-56",
          "gate": "412",
          "quality": [
           "Basic",
           "Live"
          ],
          "scheduledTimeLocal": "2022-04-07 17:55+01:00",
          "scheduledTimeUtc": "2022-04-07 16:55Z",
          "terminal": "2"
         },
         "isCargo": false,
         "number": "EI 336",
         "status": "Unknown"
        },
        {
         "aircraft": {
          "model": "Boeing 737-800"
         },
         "airline": {
          "name": "Ryanair"
         },
         "arrival": {
          "quality": [
           "Basic"
          ],
          "scheduledTimeLocal": "2022-04-07 21:15+02:00",
          "scheduledTimeUtc": "2022-04-07 19:15Z"
         },
         "codeshareStatus": "IsOperator",
         "departure": {
          "airport": {
           "iata": "BCN",
           "icao": "LEBL",
           "name": "Barcelona"
          },
          "quality": [
           "Basic"
          ],
          "scheduledTimeLocal": "2022-04-07 18:30+02:00",
          "scheduledTimeUtc": "2022-04-07 16:30Z"
         },
         "isCargo": false,
         "number": "FR 1135",
         "status": "Unknown"
        },
        {
         "aircraft": {
          "model": "Airbus A320"
         },
         "airline": {
          "name": "Vueling"
         },
         "arrival": {
          "quality": [
           "Basic"
          ],
          "scheduledTimeLocal": "2022-04-07 21:20+02:00",
          "scheduledTimeUtc": "2022-04-07 19:20Z",
          "terminal": "1"
         },
         "codeshareStatus": "IsOperator",
         "departure": {
          "actualTimeLocal": "2022-04-07 18:35+02:00",
          "actualTimeUtc": "2022-04-07 16:35Z",
          "airport": {
           "iata": "BCN",
           "icao": "LEBL",
           "name": "Barcelona"
          },
          "quality": [
           "Basic",
           "Live"
          ],
          "scheduledTimeLocal": "2022-04-07 18:35+02:00",
          "scheduledTimeUtc": "2022-04-07 16:35Z",
          "terminal": "1"
         },
         "isCargo": false,
         "number": "VY 1884",
         "status": "Unknown"
        },
        {
         "aircraft": {
          "model": "Boeing 737-800"
         },
         "airline": {
          "name": "Ryanair"
         },
         "arrival": {
          "quality": [
           "Basic"
          ],
          "scheduledTimeLocal": "2022-04-07 21:25+02:00",
          "scheduledTimeUtc": "2022-04-07 19:25Z",
          "terminal": "0"
         },
         "codeshareStatus": "IsOperator",
         "departure": {
          "airport": {
           "iata": "KGS",
           "icao": "LGKO",
           "name": "Kos Island"
          },
          "quality": [
           "Basic"
          ],
          "scheduledTimeLocal": "2022-04-07 19:15+03:00",
          "scheduledTimeUtc": "2022-04-07 16:15Z"
         },
         "isCargo": false,
         "number": "FR 260",
         "status": "Unknown"
        },
        {
         "aircraft": {
          "model": "Airbus A320"
         },
         "airline": {
          "name": "easyJet"
         },
         "arrival": {
          "quality": [
           "Basic"
          ],
          "scheduledTimeLocal": "2022-04-07 21:25+02:00",
          "scheduledTimeUtc": "2022-04-07 19:25Z",
          "terminal": "1"
         },
         "codeshareStatus": "IsOperator",
         "departure": {
          "airport": {
           "iata": "MAN",
           "icao": "EGCC",
           "name": "Manchester"
          },
          "quality": [
           "Basic"
          ],
          "scheduledTimeLocal": "2022-04-07 18:30+01:00",
          "scheduledTimeUtc": "2022-04-07 17:30Z",
          "terminal": "1"
         },
         "isCargo": false,
         "number": "U2 1895",
         "status": "Unknown"
        },
        {
         "aircraft": {
          "model": "Airbus A319"
         },
         "airline": {
          "name": "easyJet"
         },
         "arrival": {
          "quality": [
           "Basic"
          ],
          "scheduledTimeLocal": "2022-04-07 21:30+02:00",
          "scheduledTimeUtc": "2022-04-07 19:30Z",
          "terminal": "1"
         },
         "codeshareStatus": "Unknown",
         "departure": {
          "airport": {
           "iata": "AMS",
           "icao": "EHAM",
           "name": "Amsterdam"
          },
          "quality": [
           "Basic"
          ],
          "scheduledTimeLocal": "2022-04-07 20:05+02:00",
          "scheduledTimeUtc": "2022-04-07 18:05Z"
         },
         "isCargo": false,
         "number": "U2 5108",
         "status": "Unknown"
        },
        {
         "aircraft": {
          "model": "Airbus A319"
         },
         "airline": {
          "name": "easyJet"
         },
         "arrival": {
          "quality": [
           "Basic"
          ],
          "scheduledTimeLocal": "2022-04-07 21:35+02:00",
          "scheduledTimeUtc": "2022-04-07 19:35Z",
          "terminal": "1"
         },
         "codeshareStatus": "Unknown",
         "departure": {
          "airport": {
           "iata": "ZRH",
           "icao": "LSZH",
           "name": "Zurich"
          },
          "quality": [
           "Basic"
          ],
          "scheduledTimeLocal": "2022-04-07 20:00+02:00",
          "scheduledTimeUtc": "2022-04-07 18:00Z"
         },
         "isCargo": false,
         "number": "U2 5874",
         "status": "Unknown"
        },
        {
         "aircraft": {
          "model": "Airbus A320"
         },
         "airline": {
          "name": "Eurowings"
         },
         "arrival": {
          "quality": [
           "Basic"
          ],
          "scheduledTimeLocal": "2022-04-07 21:45+02:00",
          "scheduledTimeUtc": "2022-04-07 19:45Z",
          "terminal": "1"
         },
         "callSign": "GWI27LR",
         "codeshareStatus": "IsOperator",
         "departure": {
          "actualTimeLocal": "2022-04-07 20:30+02:00",
          "actualTimeUtc": "2022-04-07 18:30Z",
          "airport": {
           "iata": "DUS",
           "icao": "EDDL",
           "name": "Duesseldorf"
          },
          "checkInDesk": "155,170",
          "gate": "A66",
          "quality": [
           "Basic",
           "Live"
          ],
          "scheduledTimeLocal": "2022-04-07 20:30+02:00",
          "scheduledTimeUtc": "2022-04-07 18:30Z",
          "terminal": "B"
         },
         "isCargo": false,
         "number": "EW 8047",
         "status": "Unknown"
        },
        {
         "aircraft": {
          "modeS": "48418D",
          "model": "Boeing 737-800",
          "reg": "PH-BXS"
         },
         "airline": {
          "name": "KLM"
         },
         "arrival": {
          "quality": [
           "Basic"
          ],
          "scheduledTimeLocal": "2022-04-07 22:00+02:00",
          "scheduledTimeUtc": "2022-04-07 20:00Z",
          "terminal": "1"
         },
         "codeshareStatus": "IsOperator",
         "departure": {
          "airport": {
           "iata": "AMS",
           "icao": "EHAM",
           "name": "Amsterdam"
          },
          "checkInDesk": "6-8",
          "quality": [
           "Basic"
          ],
          "scheduledTimeLocal": "2022-04-07 20:45+02:00",
          "scheduledTimeUtc": "2022-04-07 18:45Z",
          "terminal": "1"
         },
         "isCargo": false,
         "number": "KL 1835",
         "status": "Unknown"
        },
        {
         "aircraft": {
          "model": "Boeing 737-800"
         },
         "airline": {
          "name": "Ryanair"
         },
         "arrival": {
          "quality": [
           "Basic"
          ],
          "scheduledTimeLocal": "2022-04-07 22:05+02:00",
          "scheduledTimeUtc": "2022-04-07 20:05Z",
          "terminal": "0"
         },
         "codeshareStatus": "IsOperator",
         "departure": {
          "airport": {
           "iata": "LIS",
           "icao": "LPPT",
           "name": "Lisbon"
          },
          "quality": [
           "Basic"
          ],
          "scheduledTimeLocal": "2022-04-07 17:40+01:00",
          "scheduledTimeUtc": "2022-04-07 16:40Z",
          "terminal": "2"
         },
         "isCargo": false,
         "number": "FR 1143",
         "status": "Unknown"
        },
        {
         "aircraft": {
          "model": "Airbus A320"
         },
         "airline": {
          "name": "easyJet"
         },
         "arrival": {
          "quality": [
           "Basic"
          ],
          "scheduledTimeLocal": "2022-04-07 22:10+02:00",
          "scheduledTimeUtc": "2022-04-07 20:10Z",
          "terminal": "1"
         },
         "codeshareStatus": "Unknown",
         "departure": {
          "airport": {
           "iata": "FCO",
           "icao": "LIRF",
           "name": "Rome"
          },
          "quality": [
           "Basic"
          ],
          "scheduledTimeLocal": "2022-04-07 19:55+02:00",
          "scheduledTimeUtc": "2022-04-07 17:55Z",
          "terminal": "3"
         },
         "isCargo": false,
         "number": "U2 5708",
         "status": "Unknown"
        },
        {
         "aircraft": {
          "model": "Airbus A320"
         },
         "airline": {
          "name": "easyJet"
         },
         "arrival": {
          "quality": [
           "Basic"
          ],
          "scheduledTimeLocal": "2022-04-07 22:10+02:00",
          "scheduledTimeUtc": "2022-04-07 20:10Z",
          "terminal": "1"
         },
         "codeshareStatus": "Unknown",
         "departure": {
          "airport": {
           "iata": "HEL",
           "icao": "EFHK",
           "name": "Helsinki"
          },
          "quality": [
           "Basic"
          ],
          "scheduledTimeLocal": "2022-04-07 20:55+03:00",
          "scheduledTimeUtc": "2022-04-07 17:55Z",
          "terminal": "2"
         },
         "isCargo": false,
         "number": "U2 5734",
         "status": "Unknown"
        },
        {
         "aircraft": {
          "model": "Airbus A320"
         },
         "airline": {
          "name": "Brussels"
         },
         "arrival": {
          "quality": [
           "Basic"
          ],
          "scheduledTimeLocal": "2022-04-07 22:10+02:00",
          "scheduledTimeUtc": "2022-04-07 20:10Z",
          "terminal": "1"
         },
         "codeshareStatus": "IsOperator",
         "departure": {
          "actualTimeLocal": "2022-04-07 20:50+02:00",
          "actualTimeUtc": "2022-04-07 18:50Z",
          "airport": {
           "iata": "BRU",
           "icao": "EBBR",
           "name": "Brussels"
          },
          "checkInDesk": "04",
          "quality": [
           "Basic",
           "Live"
          ],
          "scheduledTimeLocal": "2022-04-07 20:50+02:00",
          "scheduledTimeUtc": "2022-04-07 18:50Z"
         },
         "isCargo": false,
         "number": "SN 2591",
         "status": "Unknown"
        },
        {
         "aircraft": {
          "model": "Boeing 737-800"
         },
         "airline": {
          "name": "Ryanair"
         },
         "arrival": {
          "quality": [
           "Basic"
          ],
          "scheduledTimeLocal": "2022-04-07 22:15+02:00",
          "scheduledTimeUtc": "2022-04-07 20:15Z"
         },
         "codeshareStatus": "Unknown",
         "departure": {
          "airport": {
           "iata": "SKG",
           "icao": "LGTS",
           "name": "Thessaloniki"
          },
          "quality": [
           "Basic"
          ],
          "scheduledTimeLocal": "2022-04-07 20:40+03:00",
          "scheduledTimeUtc": "2022-04-07 17:40Z"
         },
         "isCargo": false,
         "number": "FR 1147",
         "status": "Unknown"
        },
        {
         "aircraft": {
          "model": "Boeing 737-800"
         },
         "airline": {
          "name": "Ryanair"
         },
         "arrival": {
          "quality": [
           "Basic"
          ],
          "scheduledTimeLocal": "2022-04-07 22:15+02:00",
          "scheduledTimeUtc": "2022-04-07 20:15Z"
         },
         "codeshareStatus": "Unknown",
         "departure": {
          "airport": {
           "iata": "TLV",
           "icao": "LLBG",
           "name": "Tel Aviv Yafo"
          },
          "quality": [
           "Basic"
          ],
          "scheduledTimeLocal": "2022-04-07 19:00+03:00",
          "scheduledTimeUtc": "2022-04-07 16:00Z"
         },
         "isCargo": false,
         "number": "FR 6473",
         "status": "Unknown"
        },
        {
         "aircraft": {
          "model": "Airbus A320"
         },
         "airline": {
          "name": "easyJet"
         },
         "arrival": {
          "quality": [
           "Basic"
          ],
          "scheduledTimeLocal": "2022-04-07 22:15+02:00",
          "scheduledTimeUtc": "2022-04-07 20:15Z",
          "terminal": "1"
         },
         "codeshareStatus": "Unknown",
         "departure": {
          "airport": {
           "iata": "NAP",
           "icao": "LIRN",
           "name": "Nápoli"
          },
          "quality": [
           "Basic"
          ],
          "scheduledTimeLocal": "2022-04-07 19:55+02:00",
          "scheduledTimeUtc": "2022-04-07 17:55Z"
         },
         "isCargo": false,
         "number": "U2 4576",
         "status": "Unknown"
        },
        {
         "aircraft": {
          "model": "Airbus A320"
         },
         "airline": {
          "name": "Austrian"
         },
         "arrival": {
          "quality": [
           "Basic"
          ],
          "scheduledTimeLocal": "2022-04-07 22:15+02:00",
          "scheduledTimeUtc": "2022-04-07 20:15Z",
          "terminal": "1"
         },
         "codeshareStatus": "IsOperator",
         "departure": {
          "airport": {
           "iata": "VIE",
           "icao": "LOWW",
           "name": "Vienna"
          },
          "quality": [
           "Basic"
          ],
          "scheduledTimeLocal": "2022-04-07 21:00+02:00",
          "scheduledTimeUtc": "2022-04-07 19:00Z",
          "terminal": "3"
         },
         "isCargo": false,
         "number": "OS 239",
         "status": "Unknown"
        },
        {
         "aircraft": {
          "model": "Airbus A319"
         },
         "airline": {
          "name": "easyJet"
         },
         "arrival": {
          "quality": [
           "Basic"
          ],
          "scheduledTimeLocal": "2022-04-07 22:15+02:00",
          "scheduledTimeUtc": "2022-04-07 20:15Z",
          "terminal": "1"
         },
         "codeshareStatus": "IsOperator",
         "departure": {
          "airport": {
           "iata": "ORY",
           "icao": "LFPO",
           "name": "Paris"
          },
          "quality": [
           "Basic"
          ],
          "scheduledTimeLocal": "2022-04-07 20:30+02:00",
          "scheduledTimeUtc": "2022-04-07 18:30Z",
          "terminal": "1"
         },
         "isCargo": false,
         "number": "U2 5540",
         "status": "Unknown"
        },
        {
         "aircraft": {
          "model": "Airbus A320"
         },
         "airline": {
          "name": "British Airways"
         },
         "arrival": {
          "quality": [
           "Basic"
          ],
          "scheduledTimeLocal": "2022-04-07 22:20+02:00",
          "scheduledTimeUtc": "2022-04-07 20:20Z",
          "terminal": "1"
         },
         "codeshareStatus": "IsOperator",
         "departure": {
          "actualTimeLocal": "2022-04-07 19:25+01:00",
          "actualTimeUtc": "2022-04-07 18:25Z",
          "airport": {
           "iata": "LHR",
           "icao": "EGLL",
           "name": "London"
          },
          "checkInDesk": "C",
          "quality": [
           "Basic",
           "Live"
          ],
          "scheduledTimeLocal": "2022-04-07 19:25+01:00",
          "scheduledTimeUtc": "2022-04-07 18:25Z",
          "terminal": "5"
         },
         "isCargo": false,
         "number": "BA 988",
         "status": "Unknown"
        },
        {
         "aircraft": {
          "model": "Airbus A320 NEO"
         },
         "airline": {
          "name": "SWISS"
         },
         "arrival": {
          "quality": [
           "Basic"
          ],
          "scheduledTimeLocal": "2022-04-07 22:20+02:00",
          "scheduledTimeUtc": "2022-04-07 20:20Z",
          "terminal": "1"
         },
         "codeshareStatus": "IsOperator",
         "departure": {
          "actualTimeLocal": "2022-04-07 20:55+02:00",
          "actualTimeUtc": "2022-04-07 18:55Z",
          "airport": {
           "iata": "ZRH",
           "icao": "LSZH",
           "name": "Zurich"
          },
          "checkInDesk": "1",
          "quality": [
           "Basic",
           "Live"
          ],
          "scheduledTimeLocal": "2022-04-07 20:55+02:00",
          "scheduledTimeUtc": "2022-04-07 18:55Z"
         },
         "isCargo": false,
         "number": "LX 962",
         "status": "Unknown"
        },
        {
         "aircraft": {
          "model": "Airbus A320"
         },
         "airline": {
          "name": "TAP Air Portugal"
         },
         "arrival": {
          "quality": [
           "Basic"
          ],
          "scheduledTimeLocal": "2022-04-07 22:20+02:00",
          "scheduledTimeUtc": "2022-04-07 20:20Z",
          "terminal": "1"
         },
         "codeshareStatus": "IsOperator",
         "departure": {
          "airport": {
           "iata": "LIS",
           "icao": "LPPT",
           "name": "Lisbon"
          },
          "quality": [
           "Basic"
          ],
          "scheduledTimeLocal": "2022-04-07 17:55+01:00",
          "scheduledTimeUtc": "2022-04-07 16:55Z",
          "terminal": "1"
         },
         "isCargo": false,
         "number": "TP 532",
         "status": "Unknown"
        },
        {
         "aircraft": {
          "model": "Airbus A321"
         },
         "airline": {
          "name": "Lufthansa"
         },
         "arrival": {
          "quality": [
           "Basic"
          ],
          "scheduledTimeLocal": "2022-04-07 22:25+02:00",
          "scheduledTimeUtc": "2022-04-07 20:25Z",
          "terminal": "1"
         },
         "codeshareStatus": "Unknown",
         "departure": {
          "actualTimeLocal": "2022-04-07 21:15+02:00",
          "actualTimeUtc": "2022-04-07 19:15Z",
          "airport": {
           "iata": "FRA",
           "icao": "EDDF",
           "name": "Frankfurt-am-Main"
          },
          "quality": [
           "Basic",
           "Live"
          ],
          "scheduledTimeLocal": "2022-04-07 21:15+02:00",
          "scheduledTimeUtc": "2022-04-07 19:15Z",
          "terminal": "1"
         },
         "isCargo": false,
         "number": "LH 202",
         "status": "Unknown"
        },
        {
         "aircraft": {
          "model": "Airbus A320"
         },
         "airline": {
          "name": "easyJet"
         },
         "arrival": {
          "quality": [
           "Basic"
          ],
          "scheduledTimeLocal": "2022-04-07 22:25+02:00",
          "scheduledTimeUtc": "2022-04-07 20:25Z",
          "terminal": "1"
         },
         "codeshareStatus": "Unknown",
         "departure": {
          "airport": {
           "iata": "NCE",
           "icao": "LFMN",
           "name": "Nice"
          },
          "quality": [
           "Basic"
          ],
          "scheduledTimeLocal": "2022-04-07 20:20+02:00",
          "scheduledTimeUtc": "2022-04-07 18:20Z",
          "terminal": "2"
         },
         "isCargo": false,
         "number": "U2 4546",
         "status": "Unknown"
        },
        {
         "aircraft": {
          "model": "Airbus A320"
         },
         "airline": {
          "name": "easyJet"
         },
         "arrival": {
          "quality": [
           "Basic"
          ],
          "scheduledTimeLocal": "2022-04-07 22:25+02:00",
          "scheduledTimeUtc": "2022-04-07 20:25Z",
          "terminal": "1"
         },
         "codeshareStatus": "Unknown",
         "departure": {
          "airport": {
           "iata": "ARN",
           "icao": "ESSA",
           "name": "Stockholm"
          },
          "quality": [
           "Basic"
          ],
          "scheduledTimeLocal": "2022-04-07 20:40+02:00",
          "scheduledTimeUtc": "2022-04-07 18:40Z",
          "terminal": "2"
         },
         "isCargo": false,
         "number": "U2 5888",
         "status": "Unknown"
        },
        {
         "aircraft": {
          "model": "Airbus A320"
         },
         "airline": {
          "name": "Eurowings"
         },
         "arrival": {
          "quality": [
           "Basic"
          ],
          "scheduledTimeLocal": "2022-04-07 22:25+02:00",
          "scheduledTimeUtc": "2022-04-07 20:25Z",
          "terminal": "1"
         },
         "codeshareStatus": "IsOperator",
         "departure": {
          "actualTimeLocal": "2022-04-07 21:05+02:00",
          "actualTimeUtc": "2022-04-07 19:05Z",
          "airport": {
           "iata": "STR",
           "icao": "EDDS",
           "name": "Stuttgart"
          },
          "quality": [
           "Basic",
           "Live"
          ],
          "scheduledTimeLocal": "2022-04-07 21:05+02:00",
          "scheduledTimeUtc": "2022-04-07 19:05Z",
          "terminal": "1"
         },
         "isCargo": false,
         "number": "EW 8007",
         "status": "Unknown"
        },
        {
         "aircraft": {
          "model": "Boeing 737-800"
         },
         "airline": {
          "name": "Ryanair"
         },
         "arrival": {
          "quality": [
           "Basic"
          ],
          "scheduledTimeLocal": "2022-04-07 22:25+02:00",
          "scheduledTimeUtc": "2022-04-07 20:25Z",
          "terminal": "0"
         },
         "codeshareStatus": "IsOperator",
         "departure": {
          "actualTimeLocal": "2022-04-07 19:40+02:00",
          "actualTimeUtc": "2022-04-07 17:40Z",
          "airport": {
           "iata": "IBZ",
           "icao": "LEIB",
           "name": "Ibiza Town"
          },
          "quality": [
           "Basic",
           "Live"
          ],
          "scheduledTimeLocal": "2022-04-07 19:40+02:00",
          "scheduledTimeUtc": "2022-04-07 17:40Z"
         },
         "isCargo": false,
         "number": "FR 209",
         "status": "Unknown"
        },
        {
         "aircraft": {
          "model": "Boeing 737-800"
         },
         "airline": {
          "name": "Ryanair"
         },
         "arrival": {
          "quality": [
           "Basic"
          ],
          "scheduledTimeLocal": "2022-04-07 22:25+02:00",
          "scheduledTimeUtc": "2022-04-07 20:25Z",
          "terminal": "0"
         },
         "codeshareStatus": "IsOperator",
         "departure": {
          "airport": {
           "iata": "BGY",
           "icao": "LIME",
           "name": "Bergamo"
          },
          "quality": [
           "Basic"
          ],
          "scheduledTimeLocal": "2022-04-07 20:45+02:00",
          "scheduledTimeUtc": "2022-04-07 18:45Z"
         },
         "isCargo": false,
         "number": "FR 4731",
         "status": "Unknown"
        },
        {
         "aircraft": {
          "model": "Airbus A319"
         },
         "airline": {
          "name": "easyJet"
         },
         "arrival": {
          "quality": [
           "Basic"
          ],
          "scheduledTimeLocal": "2022-04-07 22:25+02:00",
          "scheduledTimeUtc": "2022-04-07 20:25Z",
          "terminal": "1"
         },
         "codeshareStatus": "IsOperator",
         "departure": {
          "airport": {
           "iata": "CPH",
           "icao": "EKCH",
           "name": "Copenhagen"
          },
          "quality": [
           "Basic"
          ],
          "scheduledTimeLocal": "2022-04-07 21:20+02:00",
          "scheduledTimeUtc": "2022-04-07 19:20Z",
          "terminal": "2"
         },
         "isCargo": false,
         "number": "U2 5688",
         "status": "Unknown"
        },
        {
         "aircraft": {
          "model": "Airbus A320"
         },
         "airline": {
          "name": "easyJet"
         },
         "arrival": {
          "quality": [
           "Basic"
          ],
          "scheduledTimeLocal": "2022-04-07 22:30+02:00",
          "scheduledTimeUtc": "2022-04-07 20:30Z",
          "terminal": "1"
         },
         "codeshareStatus": "Unknown",
         "departure": {
          "airport": {
           "name": "Palma De Mallorca"
          },
          "quality": []
         },
         "isCargo": false,
         "number": "U2 5816",
         "status": "Unknown"
        },
        {
         "aircraft": {
          "model": "Boeing 737-800"
         },
         "airline": {
          "name": "Ryanair"
         },
         "arrival": {
          "quality": [
           "Basic"
          ],
          "scheduledTimeLocal": "2022-04-07 22:30+02:00",
          "scheduledTimeUtc": "2022-04-07 20:30Z"
         },
         "codeshareStatus": "IsOperator",
         "departure": {
          "airport": {
           "iata": "FCO",
           "icao": "LIRF",
           "name": "Rome"
          },
          "quality": [
           "Basic"
          ],
          "scheduledTimeLocal": "2022-04-07 20:25+02:00",
          "scheduledTimeUtc": "2022-04-07 18:25Z",
          "terminal": "3"
         },
         "isCargo": false,
         "number": "FR 141",
         "status": "Unknown"
        },
        {
         "aircraft": {
          "model": "Boeing 737-800"
         },
         "airline": {
          "name": "Ryanair"
         },
         "arrival": {
          "quality": [
           "Basic"
          ],
          "scheduledTimeLocal": "2022-04-07 22:30+02:00",
          "scheduledTimeUtc": "2022-04-07 20:30Z"
         },
         "codeshareStatus": "IsOperator",
         "departure": {
          "airport": {
           "iata": "STN",
           "icao": "EGSS",
           "name": "London"
          },
          "quality": [
           "Basic"
          ],
          "scheduledTimeLocal": "2022-04-07 19:45+01:00",
          "scheduledTimeUtc": "2022-04-07 18:45Z"
         },
         "isCargo": false,
         "number": "FR 147",
         "status": "Unknown"
        },
        {
         "aircraft": {
          "model": "Airbus A321"
         },
         "airline": {
          "name": "Lufthansa"
         },
         "arrival": {
          "quality": [
           "Basic"
          ],
          "scheduledTimeLocal": "2022-04-07 22:35+02:00",
          "scheduledTimeUtc": "2022-04-07 20:35Z",
          "terminal": "1"
         },
         "codeshareStatus": "Unknown",
         "departure": {
          "airport": {
           "iata": "MUC",
           "icao": "EDDM",
           "name": "Munich"
          },
          "quality": [
           "Basic"
          ],
          "scheduledTimeLocal": "2022-04-07 21:30+02:00",
          "scheduledTimeUtc": "2022-04-07 19:30Z",
          "terminal": "2"
         },
         "isCargo": false,
         "number": "LH 1962",
         "status": "Unknown"
        },
        {
         "aircraft": {
          "model": "Airbus A320"
         },
         "airline": {
          "name": "Iberia"
         },
         "arrival": {
          "quality": [
           "Basic"
          ],
          "scheduledTimeLocal": "2022-04-07 22:40+02:00",
          "scheduledTimeUtc": "2022-04-07 20:40Z",
          "terminal": "1"
         },
         "codeshareStatus": "Unknown",
         "departure": {
          "actualTimeLocal": "2022-04-07 19:40+02:00",
          "actualTimeUtc": "2022-04-07 17:40Z",
          "airport": {
           "iata": "MAD",
           "icao": "LEMD",
           "name": "Madrid"
          },
          "quality": [
           "Basic",
           "Live"
          ],
          "scheduledTimeLocal": "2022-04-07 19:40+02:00",
          "scheduledTimeUtc": "2022-04-07 17:40Z",
          "terminal": "4"
         },
         "isCargo": false,
         "number": "IB 3056",
         "status": "Unknown"
        },
        {
         "aircraft": {
          "model": "Airbus A320"
         },
         "airline": {
          "name": "easyJet"
         },
         "arrival": {
          "quality": [
           "Basic"
          ],
          "scheduledTimeLocal": "2022-04-07 22:40+02:00",
          "scheduledTimeUtc": "2022-04-07 20:40Z",
          "terminal": "1"
         },
         "codeshareStatus": "Unknown",
         "departure": {
          "airport": {
           "iata": "GVA",
           "icao": "LSGG",
           "name": "Geneva"
          },
          "quality": [
           "Basic"
          ],
          "scheduledTimeLocal": "2022-04-07 20:55+02:00",
          "scheduledTimeUtc": "2022-04-07 18:55Z",
          "terminal": "1"
         },
         "isCargo": false,
         "number": "U2 1595",
         "status": "Unknown"
        },
        {
         "aircraft": {
          "model": "Airbus A220-300"
         },
         "airline": {
          "name": "Air France"
         },
         "arrival": {
          "quality": [
           "Basic"
          ],
          "scheduledTimeLocal": "2022-04-07 22:40+02:00",
          "scheduledTimeUtc": "2022-04-07 20:40Z",
          "terminal": "1"
         },
         "codeshareStatus": "IsOperator",
         "departure": {
          "airport": {
           "iata": "CDG",
           "icao": "LFPG",
           "name": "Paris"
          },
          "quality": [
           "Basic"
          ],
          "scheduledTimeLocal": "2022-04-07 20:55+02:00",
          "scheduledTimeUtc": "2022-04-07 18:55Z",
          "terminal": "2F"
         },
         "isCargo": false,
         "number": "AF 1134",
         "status": "Unknown"
        },
        {
         "aircraft": {
          "model": "Airbus A320"
         },
         "airline": {
          "name": "easyJet"
         },
         "arrival": {
          "quality": [
           "Basic"
          ],
          "scheduledTimeLocal": "2022-04-07 22:50+02:00",
          "scheduledTimeUtc": "2022-04-07 20:50Z",
          "terminal": "1"
         },
         "codeshareStatus": "IsOperator",
         "departure": {
          "airport": {
           "iata": "LGW",
           "icao": "EGKK",
           "name": "London"
          },
          "quality": [
           "Basic"
          ],
          "scheduledTimeLocal": "2022-04-07 19:50+01:00",
          "scheduledTimeUtc": "2022-04-07 18:50Z",
          "terminal": "N"
         },
         "isCargo": false,
         "number": "U2 8217",
         "status": "Unknown"
        }
       ]
      },
      "text/plain": [
       "<IPython.core.display.JSON object>"
      ]
     },
     "metadata": {
      "application/json": {
       "expanded": false,
       "root": "root"
      }
     },
     "output_type": "display_data"
    }
   ],
   "source": [
    "# Between 12:00 - 23:59 o'clock\n",
    "\n",
    "API_key = \"****************************************\"\n",
    "\n",
    "airport_icoa = \"EDDB\"\n",
    "to_local_time = f\"{tomorrow}T12:00\"\n",
    "from_local_time = f\"{tomorrow}T23:59\"\n",
    "\n",
    "url = f\"https://aerodatabox.p.rapidapi.com/flights/airports/icao/{airport_icoa}/{to_local_time}/{from_local_time}\"\n",
    "\n",
    "querystring = {\"withLeg\":\"true\",\"direction\":\"Arrival\",\"withCancelled\":\"true\",\"withCodeshared\":\"true\",\"withCargo\":\"false\",\"withPrivate\":\"false\",\"withLocation\":\"false\"}\n",
    "\n",
    "headers = {\n",
    "\t\"X-RapidAPI-Host\": \"aerodatabox.p.rapidapi.com\",\n",
    "\t\"X-RapidAPI-Key\": API_key\n",
    "}\n",
    "\n",
    "response_pm = requests.request(\"GET\", url, headers=headers, params=querystring)\n",
    "\n",
    "response_json_pm = response_pm.json()\n",
    "display(JSON(response_json_pm))"
   ]
  },
  {
   "cell_type": "code",
   "execution_count": 64,
   "metadata": {},
   "outputs": [],
   "source": [
    "# Transform the data from json format to a pd data frame\n",
    "\n",
    "arrivals_first_half = pd.json_normalize(response_am.json()[\"arrivals\"])\n",
    "arrivals_second_half = pd.json_normalize(response_pm.json()[\"arrivals\"])"
   ]
  },
  {
   "cell_type": "code",
   "execution_count": 77,
   "metadata": {},
   "outputs": [],
   "source": [
    "# arrivals_first_half.info()"
   ]
  },
  {
   "cell_type": "code",
   "execution_count": 78,
   "metadata": {},
   "outputs": [],
   "source": [
    "# arrivals_second_half.info()"
   ]
  },
  {
   "cell_type": "code",
   "execution_count": 67,
   "metadata": {},
   "outputs": [],
   "source": [
    "# select the columns you want to include into the database for the am flights\n",
    "\n",
    "arrivals_first_half = (\n",
    "    arrivals_first_half\n",
    "    .filter(['departure.airport.name','arrival.scheduledTimeLocal',\n",
    "    'arrival.terminal','status','aircraft.model'])\n",
    "    .assign(icao_arrival_airport = airport_icoa)\n",
    ")\n"
   ]
  },
  {
   "cell_type": "code",
   "execution_count": 79,
   "metadata": {},
   "outputs": [],
   "source": [
    "# arrivals_first_half.info()"
   ]
  },
  {
   "cell_type": "code",
   "execution_count": 69,
   "metadata": {},
   "outputs": [],
   "source": [
    "# select the columns you want to include into the database for the pm flights\n",
    "\n",
    "arrivals_second_half = (\n",
    "    arrivals_second_half\n",
    "    .filter(['departure.airport.name','arrival.scheduledTimeLocal',\n",
    "    'arrival.terminal','status','aircraft.model'])\n",
    "    .assign(icao_arrival_airport = airport_icoa)\n",
    ")"
   ]
  },
  {
   "cell_type": "code",
   "execution_count": 80,
   "metadata": {},
   "outputs": [],
   "source": [
    "# arrivals_second_half.info()"
   ]
  },
  {
   "cell_type": "code",
   "execution_count": 71,
   "metadata": {},
   "outputs": [],
   "source": [
    "# Append the half day data frames into one df which covers the whole day\n",
    "\n",
    "df_ber_flights_arrivals = arrivals_first_half.append(arrivals_second_half)"
   ]
  },
  {
   "cell_type": "code",
   "execution_count": 89,
   "metadata": {},
   "outputs": [],
   "source": [
    "# df_ber_flights_arrivals.info()"
   ]
  },
  {
   "cell_type": "code",
   "execution_count": 87,
   "metadata": {},
   "outputs": [],
   "source": [
    "# df_ber_flights_arrivals.tail(10)"
   ]
  },
  {
   "cell_type": "code",
   "execution_count": 91,
   "metadata": {},
   "outputs": [],
   "source": [
    "# Replace all null values with \"unknown\"\n",
    "\n",
    "import numpy as np\n",
    "df_ber_flights_arrivals = (\n",
    "    df_ber_flights_arrivals\n",
    "    .replace({np.nan},'unknown'))\n",
    "    #.assign(sched_arr_loc_time = lambda x: pd.to_datetime(x['sched_arr_loc_time']))\n",
    "    \n",
    "\n",
    "# change date datatype\n",
    "df_ber_flights_arrivals[\"arrival.scheduledTimeLocal\"] = pd.to_datetime(df_ber_flights_arrivals[\"arrival.scheduledTimeLocal\"])"
   ]
  },
  {
   "cell_type": "code",
   "execution_count": 93,
   "metadata": {},
   "outputs": [],
   "source": [
    "# df_ber_flights_arrivals.info()"
   ]
  },
  {
   "cell_type": "markdown",
   "metadata": {},
   "source": [
    "### Update data into database using sqlalchemy"
   ]
  },
  {
   "cell_type": "markdown",
   "metadata": {},
   "source": [
    "#### Establish the connection"
   ]
  },
  {
   "cell_type": "code",
   "execution_count": 94,
   "metadata": {},
   "outputs": [],
   "source": [
    "import sqlalchemy"
   ]
  },
  {
   "cell_type": "code",
   "execution_count": 95,
   "metadata": {},
   "outputs": [],
   "source": [
    "schema=\"name of the schema\"\n",
    "host=\"provide the aws host\"\n",
    "user=\"admin\"\n",
    "password=\"your password for MySQL\"\n",
    "port=3306\n",
    "con = f'mysql+pymysql://{user}:{password}@{host}:{port}/{schema}'"
   ]
  },
  {
   "cell_type": "markdown",
   "metadata": {},
   "source": [
    "#### Import and update the tables to the SQL"
   ]
  },
  {
   "cell_type": "code",
   "execution_count": 96,
   "metadata": {},
   "outputs": [],
   "source": [
    "df_ber_flights_arrivals.to_sql('arrivals', con=con, if_exists='append', index=False)"
   ]
  },
  {
   "cell_type": "code",
   "execution_count": null,
   "metadata": {},
   "outputs": [],
   "source": []
  }
 ],
 "metadata": {
  "kernelspec": {
   "display_name": "Python 3",
   "language": "python",
   "name": "python3"
  },
  "language_info": {
   "codemirror_mode": {
    "name": "ipython",
    "version": 3
   },
   "file_extension": ".py",
   "mimetype": "text/x-python",
   "name": "python",
   "nbconvert_exporter": "python",
   "pygments_lexer": "ipython3",
   "version": "3.8.3"
  }
 },
 "nbformat": 4,
 "nbformat_minor": 4
}
