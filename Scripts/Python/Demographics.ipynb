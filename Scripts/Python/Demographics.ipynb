{
 "cells": [
  {
   "cell_type": "markdown",
   "metadata": {},
   "source": [
    "### Get the 12 most populated cities in Germany"
   ]
  },
  {
   "cell_type": "markdown",
   "metadata": {},
   "source": [
    "##### Using City by API-Ninjas from rapidapi.com"
   ]
  },
  {
   "cell_type": "code",
   "execution_count": 2,
   "metadata": {},
   "outputs": [],
   "source": [
    "from datetime import datetime, timedelta, timezone\n",
    "from IPython.display import display, JSON\n",
    "import pandas as pd\n",
    "import requests"
   ]
  },
  {
   "cell_type": "code",
   "execution_count": 3,
   "metadata": {},
   "outputs": [
    {
     "data": {
      "application/json": [
       {
        "country": "DE",
        "is_capital": true,
        "latitude": 52.5167,
        "longitude": 13.3833,
        "name": "Berlin",
        "population": 3644826
       },
       {
        "country": "DE",
        "is_capital": false,
        "latitude": 53.55,
        "longitude": 10,
        "name": "Hamburg",
        "population": 1841179
       },
       {
        "country": "DE",
        "is_capital": false,
        "latitude": 48.1372,
        "longitude": 11.5755,
        "name": "Munich",
        "population": 1471508
       },
       {
        "country": "DE",
        "is_capital": false,
        "latitude": 50.9422,
        "longitude": 6.9578,
        "name": "Cologne",
        "population": 1085664
       },
       {
        "country": "DE",
        "is_capital": false,
        "latitude": 50.1136,
        "longitude": 8.6797,
        "name": "Frankfurt",
        "population": 753056
       },
       {
        "country": "DE",
        "is_capital": false,
        "latitude": 53.1153,
        "longitude": 8.7975,
        "name": "Bremen",
        "population": 724909
       },
       {
        "country": "DE",
        "is_capital": false,
        "latitude": 48.7761,
        "longitude": 9.1775,
        "name": "Stuttgart",
        "population": 634830
       },
       {
        "country": "DE",
        "is_capital": false,
        "latitude": 51.2311,
        "longitude": 6.7724,
        "name": "Dusseldorf",
        "population": 619294
       },
       {
        "country": "DE",
        "is_capital": false,
        "latitude": 51.5139,
        "longitude": 7.4653,
        "name": "Dortmund",
        "population": 587010
       },
       {
        "country": "DE",
        "is_capital": false,
        "latitude": 51.4508,
        "longitude": 7.0131,
        "name": "Essen",
        "population": 583109
       },
       {
        "country": "DE",
        "is_capital": false,
        "latitude": 51.0493,
        "longitude": 13.7384,
        "name": "Dresden",
        "population": 555805
       },
       {
        "country": "DE",
        "is_capital": false,
        "latitude": 51.35,
        "longitude": 12.3833,
        "name": "Leipzig",
        "population": 542529
       }
      ],
      "text/plain": [
       "<IPython.core.display.JSON object>"
      ]
     },
     "metadata": {
      "application/json": {
       "expanded": false,
       "root": "root"
      }
     },
     "output_type": "display_data"
    }
   ],
   "source": [
    "\n",
    "url = \"https://city-by-api-ninjas.p.rapidapi.com/v1/city\"\n",
    "\n",
    "querystring = {\"country\":\"DE\",\"min_population\":\"500000\",\"limit\":\"12\"}\n",
    "\n",
    "headers = {\n",
    "\t\"X-RapidAPI-Host\": \"city-by-api-ninjas.p.rapidapi.com\",\n",
    "\t\"X-RapidAPI-Key\": \"**********************************\"\n",
    "}\n",
    "\n",
    "response = requests.request(\"GET\", url, headers=headers, params=querystring)\n",
    "response_json = response.json()\n",
    "display(JSON(response_json))"
   ]
  },
  {
   "cell_type": "code",
   "execution_count": 4,
   "metadata": {},
   "outputs": [],
   "source": [
    "df_cities_geo = pd.DataFrame(response_json)"
   ]
  },
  {
   "cell_type": "code",
   "execution_count": 5,
   "metadata": {},
   "outputs": [
    {
     "data": {
      "text/html": [
       "<div>\n",
       "<style scoped>\n",
       "    .dataframe tbody tr th:only-of-type {\n",
       "        vertical-align: middle;\n",
       "    }\n",
       "\n",
       "    .dataframe tbody tr th {\n",
       "        vertical-align: top;\n",
       "    }\n",
       "\n",
       "    .dataframe thead th {\n",
       "        text-align: right;\n",
       "    }\n",
       "</style>\n",
       "<table border=\"1\" class=\"dataframe\">\n",
       "  <thead>\n",
       "    <tr style=\"text-align: right;\">\n",
       "      <th></th>\n",
       "      <th>name</th>\n",
       "      <th>latitude</th>\n",
       "      <th>longitude</th>\n",
       "      <th>country</th>\n",
       "      <th>population</th>\n",
       "      <th>is_capital</th>\n",
       "    </tr>\n",
       "  </thead>\n",
       "  <tbody>\n",
       "    <tr>\n",
       "      <th>0</th>\n",
       "      <td>Berlin</td>\n",
       "      <td>52.5167</td>\n",
       "      <td>13.3833</td>\n",
       "      <td>DE</td>\n",
       "      <td>3644826</td>\n",
       "      <td>True</td>\n",
       "    </tr>\n",
       "    <tr>\n",
       "      <th>1</th>\n",
       "      <td>Hamburg</td>\n",
       "      <td>53.5500</td>\n",
       "      <td>10.0000</td>\n",
       "      <td>DE</td>\n",
       "      <td>1841179</td>\n",
       "      <td>False</td>\n",
       "    </tr>\n",
       "    <tr>\n",
       "      <th>2</th>\n",
       "      <td>Munich</td>\n",
       "      <td>48.1372</td>\n",
       "      <td>11.5755</td>\n",
       "      <td>DE</td>\n",
       "      <td>1471508</td>\n",
       "      <td>False</td>\n",
       "    </tr>\n",
       "    <tr>\n",
       "      <th>3</th>\n",
       "      <td>Cologne</td>\n",
       "      <td>50.9422</td>\n",
       "      <td>6.9578</td>\n",
       "      <td>DE</td>\n",
       "      <td>1085664</td>\n",
       "      <td>False</td>\n",
       "    </tr>\n",
       "    <tr>\n",
       "      <th>4</th>\n",
       "      <td>Frankfurt</td>\n",
       "      <td>50.1136</td>\n",
       "      <td>8.6797</td>\n",
       "      <td>DE</td>\n",
       "      <td>753056</td>\n",
       "      <td>False</td>\n",
       "    </tr>\n",
       "    <tr>\n",
       "      <th>5</th>\n",
       "      <td>Bremen</td>\n",
       "      <td>53.1153</td>\n",
       "      <td>8.7975</td>\n",
       "      <td>DE</td>\n",
       "      <td>724909</td>\n",
       "      <td>False</td>\n",
       "    </tr>\n",
       "    <tr>\n",
       "      <th>6</th>\n",
       "      <td>Stuttgart</td>\n",
       "      <td>48.7761</td>\n",
       "      <td>9.1775</td>\n",
       "      <td>DE</td>\n",
       "      <td>634830</td>\n",
       "      <td>False</td>\n",
       "    </tr>\n",
       "    <tr>\n",
       "      <th>7</th>\n",
       "      <td>Dusseldorf</td>\n",
       "      <td>51.2311</td>\n",
       "      <td>6.7724</td>\n",
       "      <td>DE</td>\n",
       "      <td>619294</td>\n",
       "      <td>False</td>\n",
       "    </tr>\n",
       "    <tr>\n",
       "      <th>8</th>\n",
       "      <td>Dortmund</td>\n",
       "      <td>51.5139</td>\n",
       "      <td>7.4653</td>\n",
       "      <td>DE</td>\n",
       "      <td>587010</td>\n",
       "      <td>False</td>\n",
       "    </tr>\n",
       "    <tr>\n",
       "      <th>9</th>\n",
       "      <td>Essen</td>\n",
       "      <td>51.4508</td>\n",
       "      <td>7.0131</td>\n",
       "      <td>DE</td>\n",
       "      <td>583109</td>\n",
       "      <td>False</td>\n",
       "    </tr>\n",
       "    <tr>\n",
       "      <th>10</th>\n",
       "      <td>Dresden</td>\n",
       "      <td>51.0493</td>\n",
       "      <td>13.7384</td>\n",
       "      <td>DE</td>\n",
       "      <td>555805</td>\n",
       "      <td>False</td>\n",
       "    </tr>\n",
       "    <tr>\n",
       "      <th>11</th>\n",
       "      <td>Leipzig</td>\n",
       "      <td>51.3500</td>\n",
       "      <td>12.3833</td>\n",
       "      <td>DE</td>\n",
       "      <td>542529</td>\n",
       "      <td>False</td>\n",
       "    </tr>\n",
       "  </tbody>\n",
       "</table>\n",
       "</div>"
      ],
      "text/plain": [
       "          name  latitude  longitude country  population  is_capital\n",
       "0       Berlin   52.5167    13.3833      DE     3644826        True\n",
       "1      Hamburg   53.5500    10.0000      DE     1841179       False\n",
       "2       Munich   48.1372    11.5755      DE     1471508       False\n",
       "3      Cologne   50.9422     6.9578      DE     1085664       False\n",
       "4    Frankfurt   50.1136     8.6797      DE      753056       False\n",
       "5       Bremen   53.1153     8.7975      DE      724909       False\n",
       "6    Stuttgart   48.7761     9.1775      DE      634830       False\n",
       "7   Dusseldorf   51.2311     6.7724      DE      619294       False\n",
       "8     Dortmund   51.5139     7.4653      DE      587010       False\n",
       "9        Essen   51.4508     7.0131      DE      583109       False\n",
       "10     Dresden   51.0493    13.7384      DE      555805       False\n",
       "11     Leipzig   51.3500    12.3833      DE      542529       False"
      ]
     },
     "execution_count": 5,
     "metadata": {},
     "output_type": "execute_result"
    }
   ],
   "source": [
    "df_cities_geo"
   ]
  },
  {
   "cell_type": "code",
   "execution_count": 6,
   "metadata": {},
   "outputs": [],
   "source": [
    "df_cities_geo = df_cities_geo.drop([\"is_capital\"], axis=1)"
   ]
  },
  {
   "cell_type": "code",
   "execution_count": 7,
   "metadata": {},
   "outputs": [],
   "source": [
    "# Transform the population column to float\n",
    "\n",
    "df_cities_geo['population'] = pd.to_numeric(df_cities_geo['population'], downcast='float')"
   ]
  },
  {
   "cell_type": "code",
   "execution_count": 117,
   "metadata": {},
   "outputs": [],
   "source": [
    "# Create a new column which combines \"city\" and \"country\" columns.\n",
    "# The values within the column are unique so can be used as a primery key later in the SQL.\n",
    "\n",
    "df_cities_geo = (df_cities_geo.assign(municipality_iso_country = df_cities_geo[\"name\"] + \",\" + df_cities_geo[\"country\"]))\n",
    "df_cities_geo = df_cities_geo.drop([\"city_country\"], axis=1)"
   ]
  },
  {
   "cell_type": "code",
   "execution_count": 92,
   "metadata": {},
   "outputs": [
    {
     "name": "stdout",
     "output_type": "stream",
     "text": [
      "<class 'pandas.core.frame.DataFrame'>\n",
      "RangeIndex: 12 entries, 0 to 11\n",
      "Data columns (total 6 columns):\n",
      " #   Column        Non-Null Count  Dtype  \n",
      "---  ------        --------------  -----  \n",
      " 0   name          12 non-null     object \n",
      " 1   latitude      12 non-null     float64\n",
      " 2   longitude     12 non-null     float64\n",
      " 3   country       12 non-null     object \n",
      " 4   population    12 non-null     float32\n",
      " 5   city_country  12 non-null     object \n",
      "dtypes: float32(1), float64(2), object(3)\n",
      "memory usage: 656.0+ bytes\n"
     ]
    }
   ],
   "source": [
    "df_cities_geo.info()"
   ]
  },
  {
   "cell_type": "code",
   "execution_count": 10,
   "metadata": {},
   "outputs": [
    {
     "data": {
      "text/html": [
       "<div>\n",
       "<style scoped>\n",
       "    .dataframe tbody tr th:only-of-type {\n",
       "        vertical-align: middle;\n",
       "    }\n",
       "\n",
       "    .dataframe tbody tr th {\n",
       "        vertical-align: top;\n",
       "    }\n",
       "\n",
       "    .dataframe thead th {\n",
       "        text-align: right;\n",
       "    }\n",
       "</style>\n",
       "<table border=\"1\" class=\"dataframe\">\n",
       "  <thead>\n",
       "    <tr style=\"text-align: right;\">\n",
       "      <th></th>\n",
       "      <th>name</th>\n",
       "      <th>latitude</th>\n",
       "      <th>longitude</th>\n",
       "      <th>country</th>\n",
       "      <th>population</th>\n",
       "    </tr>\n",
       "  </thead>\n",
       "  <tbody>\n",
       "    <tr>\n",
       "      <th>0</th>\n",
       "      <td>Berlin</td>\n",
       "      <td>52.5167</td>\n",
       "      <td>13.3833</td>\n",
       "      <td>DE</td>\n",
       "      <td>3644826.0</td>\n",
       "    </tr>\n",
       "    <tr>\n",
       "      <th>1</th>\n",
       "      <td>Hamburg</td>\n",
       "      <td>53.5500</td>\n",
       "      <td>10.0000</td>\n",
       "      <td>DE</td>\n",
       "      <td>1841179.0</td>\n",
       "    </tr>\n",
       "    <tr>\n",
       "      <th>2</th>\n",
       "      <td>Munich</td>\n",
       "      <td>48.1372</td>\n",
       "      <td>11.5755</td>\n",
       "      <td>DE</td>\n",
       "      <td>1471508.0</td>\n",
       "    </tr>\n",
       "    <tr>\n",
       "      <th>3</th>\n",
       "      <td>Cologne</td>\n",
       "      <td>50.9422</td>\n",
       "      <td>6.9578</td>\n",
       "      <td>DE</td>\n",
       "      <td>1085664.0</td>\n",
       "    </tr>\n",
       "    <tr>\n",
       "      <th>4</th>\n",
       "      <td>Frankfurt</td>\n",
       "      <td>50.1136</td>\n",
       "      <td>8.6797</td>\n",
       "      <td>DE</td>\n",
       "      <td>753056.0</td>\n",
       "    </tr>\n",
       "    <tr>\n",
       "      <th>5</th>\n",
       "      <td>Bremen</td>\n",
       "      <td>53.1153</td>\n",
       "      <td>8.7975</td>\n",
       "      <td>DE</td>\n",
       "      <td>724909.0</td>\n",
       "    </tr>\n",
       "    <tr>\n",
       "      <th>6</th>\n",
       "      <td>Stuttgart</td>\n",
       "      <td>48.7761</td>\n",
       "      <td>9.1775</td>\n",
       "      <td>DE</td>\n",
       "      <td>634830.0</td>\n",
       "    </tr>\n",
       "    <tr>\n",
       "      <th>7</th>\n",
       "      <td>Dusseldorf</td>\n",
       "      <td>51.2311</td>\n",
       "      <td>6.7724</td>\n",
       "      <td>DE</td>\n",
       "      <td>619294.0</td>\n",
       "    </tr>\n",
       "    <tr>\n",
       "      <th>8</th>\n",
       "      <td>Dortmund</td>\n",
       "      <td>51.5139</td>\n",
       "      <td>7.4653</td>\n",
       "      <td>DE</td>\n",
       "      <td>587010.0</td>\n",
       "    </tr>\n",
       "    <tr>\n",
       "      <th>9</th>\n",
       "      <td>Essen</td>\n",
       "      <td>51.4508</td>\n",
       "      <td>7.0131</td>\n",
       "      <td>DE</td>\n",
       "      <td>583109.0</td>\n",
       "    </tr>\n",
       "    <tr>\n",
       "      <th>10</th>\n",
       "      <td>Dresden</td>\n",
       "      <td>51.0493</td>\n",
       "      <td>13.7384</td>\n",
       "      <td>DE</td>\n",
       "      <td>555805.0</td>\n",
       "    </tr>\n",
       "    <tr>\n",
       "      <th>11</th>\n",
       "      <td>Leipzig</td>\n",
       "      <td>51.3500</td>\n",
       "      <td>12.3833</td>\n",
       "      <td>DE</td>\n",
       "      <td>542529.0</td>\n",
       "    </tr>\n",
       "  </tbody>\n",
       "</table>\n",
       "</div>"
      ],
      "text/plain": [
       "          name  latitude  longitude country  population\n",
       "0       Berlin   52.5167    13.3833      DE   3644826.0\n",
       "1      Hamburg   53.5500    10.0000      DE   1841179.0\n",
       "2       Munich   48.1372    11.5755      DE   1471508.0\n",
       "3      Cologne   50.9422     6.9578      DE   1085664.0\n",
       "4    Frankfurt   50.1136     8.6797      DE    753056.0\n",
       "5       Bremen   53.1153     8.7975      DE    724909.0\n",
       "6    Stuttgart   48.7761     9.1775      DE    634830.0\n",
       "7   Dusseldorf   51.2311     6.7724      DE    619294.0\n",
       "8     Dortmund   51.5139     7.4653      DE    587010.0\n",
       "9        Essen   51.4508     7.0131      DE    583109.0\n",
       "10     Dresden   51.0493    13.7384      DE    555805.0\n",
       "11     Leipzig   51.3500    12.3833      DE    542529.0"
      ]
     },
     "execution_count": 10,
     "metadata": {},
     "output_type": "execute_result"
    }
   ],
   "source": [
    "df_cities_geo"
   ]
  },
  {
   "cell_type": "markdown",
   "metadata": {},
   "source": [
    "### Update data into database using sqlalchemy"
   ]
  },
  {
   "cell_type": "markdown",
   "metadata": {},
   "source": [
    "#### Establish the connection"
   ]
  },
  {
   "cell_type": "code",
   "execution_count": 8,
   "metadata": {},
   "outputs": [],
   "source": [
    "import sqlalchemy"
   ]
  },
  {
   "cell_type": "code",
   "execution_count": 85,
   "metadata": {},
   "outputs": [],
   "source": [
    "schema=\"name of the schema\"\n",
    "host=\"provide the aws host\"\n",
    "user=\"root\"\n",
    "password=\"your password for MySQL\"\n",
    "port=3306\n",
    "con = f'mysql+pymysql://{user}:{password}@{host}:{port}/{schema}'"
   ]
  },
  {
   "cell_type": "markdown",
   "metadata": {},
   "source": [
    "#### Import and update the tables to the SQL"
   ]
  },
  {
   "cell_type": "code",
   "execution_count": 122,
   "metadata": {},
   "outputs": [],
   "source": [
    "df_cities_geo.to_sql('german_cities', con=con, if_exists='append', index=False)"
   ]
  }
 ],
 "metadata": {
  "kernelspec": {
   "display_name": "Python 3",
   "language": "python",
   "name": "python3"
  },
  "language_info": {
   "codemirror_mode": {
    "name": "ipython",
    "version": 3
   },
   "file_extension": ".py",
   "mimetype": "text/x-python",
   "name": "python",
   "nbconvert_exporter": "python",
   "pygments_lexer": "ipython3",
   "version": "3.8.3"
  }
 },
 "nbformat": 4,
 "nbformat_minor": 4
}
